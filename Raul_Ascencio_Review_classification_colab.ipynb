{
  "nbformat": 4,
  "nbformat_minor": 0,
  "metadata": {
    "colab": {
      "name": "Raul Ascencio - Review_classification_colab.ipynb",
      "provenance": [],
      "collapsed_sections": [],
      "toc_visible": true
    },
    "kernelspec": {
      "display_name": "Python 3",
      "language": "python",
      "name": "python3"
    },
    "language_info": {
      "codemirror_mode": {
        "name": "ipython",
        "version": 3
      },
      "file_extension": ".py",
      "mimetype": "text/x-python",
      "name": "python",
      "nbconvert_exporter": "python",
      "pygments_lexer": "ipython3",
      "version": "3.7.6"
    }
  },
  "cells": [
    {
      "cell_type": "markdown",
      "metadata": {
        "id": "7xkK1AlQUZaY"
      },
      "source": [
        "# Intro to NLP - First Mandatory Task \n",
        "\n",
        "\n",
        "Welcome to the first mandatory task of the 2020 Tryolabs Intro to NLP course. Please read carefully all the instructions before starting.\n",
        "\n",
        "1. This task has a weight of **30% of the total course marks** for those of you that are getting university credit and you are **required** to submit a solution. \n",
        "\n",
        "\n",
        "2. You will need to submit a **single .ipynb** file with the solution, you can download the file you are working on directly from colab from the *file* menu on the top left.  \n",
        "\n",
        "\n",
        "3. We encourage you to explore and experiment with as many things as you want for this lab, and don't hesistate to reach out to any of the lectureres, or general dicussion channels in slack with questions. When doing so please **avoid sharing specific implementation, code or issues particular to your solution**.\n",
        "\n",
        "\n",
        "4. The submission will be done through here: **[Submissions Link](https://forms.gle/KZxWfJoKrL2qLSin9)**. You will need to be logged in with google to submit and this only allows **one response per person**, so only submit when you are happy with your results. Remeber to run the notebook before submitting and upload the file with the run results.\n",
        "\n",
        "\n",
        "5. Data: For this task you will need the following dataset files: **[Train Data](https://drive.google.com/file/d/1_0-UGJyhsLbShLBrci2ro76-OgWbJaf9/view?usp=sharing)** **[Test Data](https://drive.google.com/file/d/1v5AZvV_2Ug-2diflyaeRDCbX7C_WWotI/view?usp=sharing)**.\n",
        "Both are .csv files that you will need to **uplodad to your personal drive under a data folder in the root**.\n",
        "\n",
        "\n",
        "6. **DEADLINE**: This task is due on **09/10/2020 until 23:59** after this no more submissions will be accepted.\n",
        "\n",
        "\n",
        "7. **Grading**: We will look at how you solve the task at hand as a whole, **including the level of understanding shown in comments and markdown sections, so don't forget to explain your solution!** We want you to achive the highest possible scores you can but, won't penalize you for not having the best solution possible. That being said, it should be pretty straightforward to get accuracy scores over 70% and 60% for train and test. So solutions failing to pass those thresholds will be penalized. Experimentation and different approaches will also be taken into consideration, so explore as much as you want.\n",
        "\n",
        "\n",
        "8. To foster competition and reward you for trying your best, the best solution (in terms of test accuracy, cleanliness, and other factors) will win a Tryolabs kit with gifts.\n",
        "\n",
        "\n",
        "The specific details of the problem to solve are below:"
      ]
    },
    {
      "cell_type": "code",
      "metadata": {
        "id": "pTdSM-zATvup",
        "outputId": "816a2d66-a8fb-49ee-e8ef-da6c9c17d94e",
        "colab": {
          "base_uri": "https://localhost:8080/",
          "height": 35
        }
      },
      "source": [
        "from google.colab import drive\n",
        "drive.mount('/content/drive')"
      ],
      "execution_count": 3,
      "outputs": [
        {
          "output_type": "stream",
          "text": [
            "Drive already mounted at /content/drive; to attempt to forcibly remount, call drive.mount(\"/content/drive\", force_remount=True).\n"
          ],
          "name": "stdout"
        }
      ]
    },
    {
      "cell_type": "markdown",
      "metadata": {
        "id": "KSQGEUAJcIC4"
      },
      "source": [
        "# Amazon product reviews\n",
        "\n",
        "For this task we want to classify amazon reviews into helpful or not. We provided a dataset with three columns: `reviewText`, `summary` and `target`. \n",
        "\n",
        "The task is as follows: using only ONE text column (either `reviewText` or `summary`) predict the taget label (1 for useful, 0 for useless). The problem should be addressed using only traditional NLP techniques seen so far (NN classifiers are not allowed, anything else is; so feel free to google around and try to get the best possible performance).\n",
        "\n",
        "You should report your performance on the separate test set provided (you **CAN'T** use it to train your models).\n",
        "\n",
        "***\n",
        "Note: We strongly recommend starting with the `summary` text column and only attempting to work with `reviewText` once you have a working solution you are happy with.\n"
      ]
    },
    {
      "cell_type": "markdown",
      "metadata": {
        "id": "WQ8DIQvAcMtp"
      },
      "source": [
        "# Upload data to your google drive\n",
        "\n",
        "We shared two files with you:\n",
        "\n",
        "\n",
        "*   train_data.csv\n",
        "*   test_data.csv\n",
        "\n",
        "Please upload them to your personal google drive under a `data` folder. This notebook will later read that data from that location and use it for this task."
      ]
    },
    {
      "cell_type": "markdown",
      "metadata": {
        "id": "IkzNG3WycIC5"
      },
      "source": [
        "## Task 1: Load & Explore data\n",
        "\n",
        "Load the datasets from drive and perform some exploratory analysis. We recommend leaving the dataframe loading on a cell of its own (as it can take some time), and perfoming all anylisis on different cells below.\n"
      ]
    },
    {
      "cell_type": "code",
      "metadata": {
        "id": "INNm0H8AcIC6",
        "outputId": "95859190-4ed8-46b0-f249-ac7639314f8b",
        "colab": {
          "base_uri": "https://localhost:8080/",
          "height": 35
        }
      },
      "source": [
        "import pandas as pd\n",
        "from google.colab import drive\n",
        "drive.mount(\"/content/drive\")\n",
        "\n",
        "train_df = pd.read_csv(\"/content/drive/My Drive/data/train_data.csv\")\n",
        "test_df = pd.read_csv(\"/content/drive/My Drive/data/test_data.csv\")"
      ],
      "execution_count": 4,
      "outputs": [
        {
          "output_type": "stream",
          "text": [
            "Drive already mounted at /content/drive; to attempt to forcibly remount, call drive.mount(\"/content/drive\", force_remount=True).\n"
          ],
          "name": "stdout"
        }
      ]
    },
    {
      "cell_type": "markdown",
      "metadata": {
        "id": "CKsHubiGuGch"
      },
      "source": [
        "We can execute an `info` call to see the fields for the dataframe and know with which kind of data we are deailing with"
      ]
    },
    {
      "cell_type": "code",
      "metadata": {
        "id": "m-47E9iOuMwE",
        "outputId": "c44134f9-2555-4312-f8e2-49d2b11b2155",
        "colab": {
          "base_uri": "https://localhost:8080/",
          "height": 195
        }
      },
      "source": [
        "train_df.info()"
      ],
      "execution_count": null,
      "outputs": [
        {
          "output_type": "stream",
          "text": [
            "<class 'pandas.core.frame.DataFrame'>\n",
            "RangeIndex: 38496 entries, 0 to 38495\n",
            "Data columns (total 3 columns):\n",
            " #   Column      Non-Null Count  Dtype \n",
            "---  ------      --------------  ----- \n",
            " 0   reviewText  38496 non-null  object\n",
            " 1   summary     38496 non-null  object\n",
            " 2   target      38496 non-null  int64 \n",
            "dtypes: int64(1), object(2)\n",
            "memory usage: 902.4+ KB\n"
          ],
          "name": "stdout"
        }
      ]
    },
    {
      "cell_type": "markdown",
      "metadata": {
        "id": "T2A80O4QuhQX"
      },
      "source": [
        "It seems that we have a `target` field that may be the target to predict for our classification algorithm.\n",
        "\n",
        "A `describe` call to that column will give us an overview of the values in that field.  "
      ]
    },
    {
      "cell_type": "code",
      "metadata": {
        "id": "__vWHlHnuWGO",
        "outputId": "71bcb450-7eb4-4956-897a-b0b5ac64f081",
        "colab": {
          "base_uri": "https://localhost:8080/",
          "height": 177
        }
      },
      "source": [
        "train_df['target'].describe()"
      ],
      "execution_count": null,
      "outputs": [
        {
          "output_type": "execute_result",
          "data": {
            "text/plain": [
              "count    38496.000000\n",
              "mean         0.658822\n",
              "std          0.474111\n",
              "min          0.000000\n",
              "25%          0.000000\n",
              "50%          1.000000\n",
              "75%          1.000000\n",
              "max          1.000000\n",
              "Name: target, dtype: float64"
            ]
          },
          "metadata": {
            "tags": []
          },
          "execution_count": 5
        }
      ]
    },
    {
      "cell_type": "markdown",
      "metadata": {
        "id": "lh_jGfbSu6QB"
      },
      "source": [
        "It seems that the `target` only contains `0` and `1` values and most of the data has a value of `1`."
      ]
    },
    {
      "cell_type": "code",
      "metadata": {
        "id": "tXFK4nOWu_kn",
        "outputId": "87f853a3-a1cc-4719-fab8-3b2ca94088df",
        "colab": {
          "base_uri": "https://localhost:8080/",
          "height": 35
        }
      },
      "source": [
        "train_df['target'].unique()"
      ],
      "execution_count": null,
      "outputs": [
        {
          "output_type": "execute_result",
          "data": {
            "text/plain": [
              "array([1, 0])"
            ]
          },
          "metadata": {
            "tags": []
          },
          "execution_count": 6
        }
      ]
    },
    {
      "cell_type": "code",
      "metadata": {
        "id": "-UMrPVVr00AI",
        "outputId": "ef1d51af-1515-4715-9797-5a6522ed971d",
        "colab": {
          "base_uri": "https://localhost:8080/",
          "height": 317
        }
      },
      "source": [
        "train_df.hist()"
      ],
      "execution_count": null,
      "outputs": [
        {
          "output_type": "execute_result",
          "data": {
            "text/plain": [
              "array([[<matplotlib.axes._subplots.AxesSubplot object at 0x7f5f93ef3860>]],\n",
              "      dtype=object)"
            ]
          },
          "metadata": {
            "tags": []
          },
          "execution_count": 7
        },
        {
          "output_type": "display_data",
          "data": {
            "image/png": "[encoded data removed]",
            "text/plain": [
              "<Figure size 432x288 with 1 Axes>"
            ]
          },
          "metadata": {
            "tags": [],
            "needs_background": "light"
          }
        }
      ]
    },
    {
      "cell_type": "markdown",
      "metadata": {
        "id": "Iqc07iSwvB8J"
      },
      "source": [
        "We can set this variable as an `object` type to treat as a categorical variable with pandas."
      ]
    },
    {
      "cell_type": "markdown",
      "metadata": {
        "id": "SXezk3iwvKwg"
      },
      "source": [
        "Know that we have the value as a `object` we can execute a describe to get a better understanding of the data we have at our dispossal."
      ]
    },
    {
      "cell_type": "code",
      "metadata": {
        "id": "EFGiLL67vcIy",
        "outputId": "5adc3d8b-e9bb-4a90-84ec-db692ff4db30",
        "colab": {
          "base_uri": "https://localhost:8080/",
          "height": 300
        }
      },
      "source": [
        "train_df.describe()"
      ],
      "execution_count": null,
      "outputs": [
        {
          "output_type": "execute_result",
          "data": {
            "text/html": [
              "<div>\n",
              "<style scoped>\n",
              "    .dataframe tbody tr th:only-of-type {\n",
              "        vertical-align: middle;\n",
              "    }\n",
              "\n",
              "    .dataframe tbody tr th {\n",
              "        vertical-align: top;\n",
              "    }\n",
              "\n",
              "    .dataframe thead th {\n",
              "        text-align: right;\n",
              "    }\n",
              "</style>\n",
              "<table border=\"1\" class=\"dataframe\">\n",
              "  <thead>\n",
              "    <tr style=\"text-align: right;\">\n",
              "      <th></th>\n",
              "      <th>target</th>\n",
              "    </tr>\n",
              "  </thead>\n",
              "  <tbody>\n",
              "    <tr>\n",
              "      <th>count</th>\n",
              "      <td>38496.000000</td>\n",
              "    </tr>\n",
              "    <tr>\n",
              "      <th>mean</th>\n",
              "      <td>0.658822</td>\n",
              "    </tr>\n",
              "    <tr>\n",
              "      <th>std</th>\n",
              "      <td>0.474111</td>\n",
              "    </tr>\n",
              "    <tr>\n",
              "      <th>min</th>\n",
              "      <td>0.000000</td>\n",
              "    </tr>\n",
              "    <tr>\n",
              "      <th>25%</th>\n",
              "      <td>0.000000</td>\n",
              "    </tr>\n",
              "    <tr>\n",
              "      <th>50%</th>\n",
              "      <td>1.000000</td>\n",
              "    </tr>\n",
              "    <tr>\n",
              "      <th>75%</th>\n",
              "      <td>1.000000</td>\n",
              "    </tr>\n",
              "    <tr>\n",
              "      <th>max</th>\n",
              "      <td>1.000000</td>\n",
              "    </tr>\n",
              "  </tbody>\n",
              "</table>\n",
              "</div>"
            ],
            "text/plain": [
              "             target\n",
              "count  38496.000000\n",
              "mean       0.658822\n",
              "std        0.474111\n",
              "min        0.000000\n",
              "25%        0.000000\n",
              "50%        1.000000\n",
              "75%        1.000000\n",
              "max        1.000000"
            ]
          },
          "metadata": {
            "tags": []
          },
          "execution_count": 8
        }
      ]
    },
    {
      "cell_type": "code",
      "metadata": {
        "id": "P4wYQEYrbEQL",
        "outputId": "8500530d-9eea-40c1-9146-9a8de2aed65e",
        "colab": {
          "base_uri": "https://localhost:8080/",
          "height": 175
        }
      },
      "source": [
        "train_df.select_dtypes(['object']).describe()"
      ],
      "execution_count": null,
      "outputs": [
        {
          "output_type": "execute_result",
          "data": {
            "text/html": [
              "<div>\n",
              "<style scoped>\n",
              "    .dataframe tbody tr th:only-of-type {\n",
              "        vertical-align: middle;\n",
              "    }\n",
              "\n",
              "    .dataframe tbody tr th {\n",
              "        vertical-align: top;\n",
              "    }\n",
              "\n",
              "    .dataframe thead th {\n",
              "        text-align: right;\n",
              "    }\n",
              "</style>\n",
              "<table border=\"1\" class=\"dataframe\">\n",
              "  <thead>\n",
              "    <tr style=\"text-align: right;\">\n",
              "      <th></th>\n",
              "      <th>reviewText</th>\n",
              "      <th>summary</th>\n",
              "    </tr>\n",
              "  </thead>\n",
              "  <tbody>\n",
              "    <tr>\n",
              "      <th>count</th>\n",
              "      <td>38496</td>\n",
              "      <td>38496</td>\n",
              "    </tr>\n",
              "    <tr>\n",
              "      <th>unique</th>\n",
              "      <td>38495</td>\n",
              "      <td>36371</td>\n",
              "    </tr>\n",
              "    <tr>\n",
              "      <th>top</th>\n",
              "      <td>Jet Grind Radio is yet another impressively cr...</td>\n",
              "      <td>Disappointing</td>\n",
              "    </tr>\n",
              "    <tr>\n",
              "      <th>freq</th>\n",
              "      <td>2</td>\n",
              "      <td>52</td>\n",
              "    </tr>\n",
              "  </tbody>\n",
              "</table>\n",
              "</div>"
            ],
            "text/plain": [
              "                                               reviewText        summary\n",
              "count                                               38496          38496\n",
              "unique                                              38495          36371\n",
              "top     Jet Grind Radio is yet another impressively cr...  Disappointing\n",
              "freq                                                    2             52"
            ]
          },
          "metadata": {
            "tags": []
          },
          "execution_count": 9
        }
      ]
    },
    {
      "cell_type": "markdown",
      "metadata": {
        "id": "WgIC8uuLwdjw"
      },
      "source": [
        "As shown before the `top` value for our target is `1`, we have `25362`.\n"
      ]
    },
    {
      "cell_type": "code",
      "metadata": {
        "id": "WNASD_JNwcqF",
        "outputId": "4c8cbd4e-0ea3-4527-df48-b6481ccd510b",
        "colab": {
          "base_uri": "https://localhost:8080/",
          "height": 88
        }
      },
      "source": [
        "train_df[train_df['target'] == 1].count()"
      ],
      "execution_count": null,
      "outputs": [
        {
          "output_type": "execute_result",
          "data": {
            "text/plain": [
              "reviewText    25362\n",
              "summary       25362\n",
              "target        25362\n",
              "dtype: int64"
            ]
          },
          "metadata": {
            "tags": []
          },
          "execution_count": 10
        }
      ]
    },
    {
      "cell_type": "code",
      "metadata": {
        "id": "sUORMmYJwquC",
        "outputId": "71b0ddf0-7f94-4eca-af83-1ec934f2a28f",
        "colab": {
          "base_uri": "https://localhost:8080/",
          "height": 88
        }
      },
      "source": [
        "train_df[train_df['target'] == 0].count()"
      ],
      "execution_count": null,
      "outputs": [
        {
          "output_type": "execute_result",
          "data": {
            "text/plain": [
              "reviewText    13134\n",
              "summary       13134\n",
              "target        13134\n",
              "dtype: int64"
            ]
          },
          "metadata": {
            "tags": []
          },
          "execution_count": 11
        }
      ]
    },
    {
      "cell_type": "code",
      "metadata": {
        "id": "_ApvWul1wzNC",
        "outputId": "1e1b3bf8-00a8-4a2b-bd74-8017eba673d1",
        "colab": {
          "base_uri": "https://localhost:8080/",
          "height": 363
        }
      },
      "source": [
        "train_df[train_df['target'] == 1].head(10)"
      ],
      "execution_count": null,
      "outputs": [
        {
          "output_type": "execute_result",
          "data": {
            "text/html": [
              "<div>\n",
              "<style scoped>\n",
              "    .dataframe tbody tr th:only-of-type {\n",
              "        vertical-align: middle;\n",
              "    }\n",
              "\n",
              "    .dataframe tbody tr th {\n",
              "        vertical-align: top;\n",
              "    }\n",
              "\n",
              "    .dataframe thead th {\n",
              "        text-align: right;\n",
              "    }\n",
              "</style>\n",
              "<table border=\"1\" class=\"dataframe\">\n",
              "  <thead>\n",
              "    <tr style=\"text-align: right;\">\n",
              "      <th></th>\n",
              "      <th>reviewText</th>\n",
              "      <th>summary</th>\n",
              "      <th>target</th>\n",
              "    </tr>\n",
              "  </thead>\n",
              "  <tbody>\n",
              "    <tr>\n",
              "      <th>0</th>\n",
              "      <td>I AM STAIONED IN AFGHANISTAN RIGHT NOW WE DONT...</td>\n",
              "      <td>Disgusted soldier out of money and time</td>\n",
              "      <td>1</td>\n",
              "    </tr>\n",
              "    <tr>\n",
              "      <th>6</th>\n",
              "      <td>On the drawing board, GTA San Andreas sounds p...</td>\n",
              "      <td>Somewhat disappointing.</td>\n",
              "      <td>1</td>\n",
              "    </tr>\n",
              "    <tr>\n",
              "      <th>8</th>\n",
              "      <td>I know I'm going to get roasted for that title...</td>\n",
              "      <td>Best pro football game you're going to have th...</td>\n",
              "      <td>1</td>\n",
              "    </tr>\n",
              "    <tr>\n",
              "      <th>9</th>\n",
              "      <td>If you have a high-end system to play it on. U...</td>\n",
              "      <td>Four and a half stars. Oblivion will blow you ...</td>\n",
              "      <td>1</td>\n",
              "    </tr>\n",
              "    <tr>\n",
              "      <th>10</th>\n",
              "      <td>The first time Final Fantasy V was releasd in ...</td>\n",
              "      <td>Not the Best in the Series but Still Good</td>\n",
              "      <td>1</td>\n",
              "    </tr>\n",
              "    <tr>\n",
              "      <th>11</th>\n",
              "      <td>Pros:- Incredible environmental and sound effe...</td>\n",
              "      <td>Great survival-horror title</td>\n",
              "      <td>1</td>\n",
              "    </tr>\n",
              "    <tr>\n",
              "      <th>14</th>\n",
              "      <td>From now on if buy a PC Download Game from Ama...</td>\n",
              "      <td>Dragon Age Origins Will NOT Install!</td>\n",
              "      <td>1</td>\n",
              "    </tr>\n",
              "    <tr>\n",
              "      <th>17</th>\n",
              "      <td>its strange....rise of nations improved on eve...</td>\n",
              "      <td>oldies are the goodies</td>\n",
              "      <td>1</td>\n",
              "    </tr>\n",
              "    <tr>\n",
              "      <th>18</th>\n",
              "      <td>I have purchased Madden every year for AT LEAS...</td>\n",
              "      <td>One Step Forward Two Steps Back</td>\n",
              "      <td>1</td>\n",
              "    </tr>\n",
              "    <tr>\n",
              "      <th>19</th>\n",
              "      <td>Lots of fun &amp; I'm glad got it.  It comes with ...</td>\n",
              "      <td>Awesome workout</td>\n",
              "      <td>1</td>\n",
              "    </tr>\n",
              "  </tbody>\n",
              "</table>\n",
              "</div>"
            ],
            "text/plain": [
              "                                           reviewText  ... target\n",
              "0   I AM STAIONED IN AFGHANISTAN RIGHT NOW WE DONT...  ...      1\n",
              "6   On the drawing board, GTA San Andreas sounds p...  ...      1\n",
              "8   I know I'm going to get roasted for that title...  ...      1\n",
              "9   If you have a high-end system to play it on. U...  ...      1\n",
              "10  The first time Final Fantasy V was releasd in ...  ...      1\n",
              "11  Pros:- Incredible environmental and sound effe...  ...      1\n",
              "14  From now on if buy a PC Download Game from Ama...  ...      1\n",
              "17  its strange....rise of nations improved on eve...  ...      1\n",
              "18  I have purchased Madden every year for AT LEAS...  ...      1\n",
              "19  Lots of fun & I'm glad got it.  It comes with ...  ...      1\n",
              "\n",
              "[10 rows x 3 columns]"
            ]
          },
          "metadata": {
            "tags": []
          },
          "execution_count": 12
        }
      ]
    },
    {
      "cell_type": "code",
      "metadata": {
        "id": "o8IUQ9hjwtxf",
        "outputId": "6d40ec29-bc7b-4fa0-8473-1cb02f5af59d",
        "colab": {
          "base_uri": "https://localhost:8080/",
          "height": 363
        }
      },
      "source": [
        "train_df[train_df['target'] == 0].head(10)"
      ],
      "execution_count": null,
      "outputs": [
        {
          "output_type": "execute_result",
          "data": {
            "text/html": [
              "<div>\n",
              "<style scoped>\n",
              "    .dataframe tbody tr th:only-of-type {\n",
              "        vertical-align: middle;\n",
              "    }\n",
              "\n",
              "    .dataframe tbody tr th {\n",
              "        vertical-align: top;\n",
              "    }\n",
              "\n",
              "    .dataframe thead th {\n",
              "        text-align: right;\n",
              "    }\n",
              "</style>\n",
              "<table border=\"1\" class=\"dataframe\">\n",
              "  <thead>\n",
              "    <tr style=\"text-align: right;\">\n",
              "      <th></th>\n",
              "      <th>reviewText</th>\n",
              "      <th>summary</th>\n",
              "      <th>target</th>\n",
              "    </tr>\n",
              "  </thead>\n",
              "  <tbody>\n",
              "    <tr>\n",
              "      <th>1</th>\n",
              "      <td>Having enjoyed Sonic Advance I was eager to ge...</td>\n",
              "      <td>A ton of fun, but very, very short.</td>\n",
              "      <td>0</td>\n",
              "    </tr>\n",
              "    <tr>\n",
              "      <th>2</th>\n",
              "      <td>Like many that come before me, I too played th...</td>\n",
              "      <td>Once again and alpha player</td>\n",
              "      <td>0</td>\n",
              "    </tr>\n",
              "    <tr>\n",
              "      <th>3</th>\n",
              "      <td>This device is extremely delicate, featuring a...</td>\n",
              "      <td>disposable controller, only $54.99!</td>\n",
              "      <td>0</td>\n",
              "    </tr>\n",
              "    <tr>\n",
              "      <th>4</th>\n",
              "      <td>This game has terrible graphics, terrible soun...</td>\n",
              "      <td>How can you go backwards??????</td>\n",
              "      <td>0</td>\n",
              "    </tr>\n",
              "    <tr>\n",
              "      <th>5</th>\n",
              "      <td>Another review, another game played and beat.....</td>\n",
              "      <td>The Truth about Silent Hill 3...</td>\n",
              "      <td>0</td>\n",
              "    </tr>\n",
              "    <tr>\n",
              "      <th>7</th>\n",
              "      <td>We now have a choice to make as a gaming commu...</td>\n",
              "      <td>My computer?</td>\n",
              "      <td>0</td>\n",
              "    </tr>\n",
              "    <tr>\n",
              "      <th>12</th>\n",
              "      <td>Let me start off by saying i do have Demons So...</td>\n",
              "      <td>This is NOT an RPG game...!!!</td>\n",
              "      <td>0</td>\n",
              "    </tr>\n",
              "    <tr>\n",
              "      <th>13</th>\n",
              "      <td>I'm giving this a somewhat low rating for a fe...</td>\n",
              "      <td>It's a remote... nothing special here, but nee...</td>\n",
              "      <td>0</td>\n",
              "    </tr>\n",
              "    <tr>\n",
              "      <th>15</th>\n",
              "      <td>I originally bought this game prior to BFBC3, ...</td>\n",
              "      <td>Honestly, this game was a waste of money...</td>\n",
              "      <td>0</td>\n",
              "    </tr>\n",
              "    <tr>\n",
              "      <th>16</th>\n",
              "      <td>Ten years ago I bought the first Doom, played ...</td>\n",
              "      <td>Simply Fantastic</td>\n",
              "      <td>0</td>\n",
              "    </tr>\n",
              "  </tbody>\n",
              "</table>\n",
              "</div>"
            ],
            "text/plain": [
              "                                           reviewText  ... target\n",
              "1   Having enjoyed Sonic Advance I was eager to ge...  ...      0\n",
              "2   Like many that come before me, I too played th...  ...      0\n",
              "3   This device is extremely delicate, featuring a...  ...      0\n",
              "4   This game has terrible graphics, terrible soun...  ...      0\n",
              "5   Another review, another game played and beat.....  ...      0\n",
              "7   We now have a choice to make as a gaming commu...  ...      0\n",
              "12  Let me start off by saying i do have Demons So...  ...      0\n",
              "13  I'm giving this a somewhat low rating for a fe...  ...      0\n",
              "15  I originally bought this game prior to BFBC3, ...  ...      0\n",
              "16  Ten years ago I bought the first Doom, played ...  ...      0\n",
              "\n",
              "[10 rows x 3 columns]"
            ]
          },
          "metadata": {
            "tags": []
          },
          "execution_count": 13
        }
      ]
    },
    {
      "cell_type": "markdown",
      "metadata": {
        "id": "svaLZ69exE7W"
      },
      "source": [
        "It seems that the `summary` column is more related to the `target` label but because of the difference in quantity it may be difficult to know."
      ]
    },
    {
      "cell_type": "code",
      "metadata": {
        "id": "oD4-nYqDx8st",
        "outputId": "4caec677-d2cb-41bf-810b-a39f7a3b38e9",
        "colab": {
          "base_uri": "https://localhost:8080/",
          "height": 677
        }
      },
      "source": [
        "train_df[train_df['target'] == 0][['summary', 'target']].sample(20)"
      ],
      "execution_count": null,
      "outputs": [
        {
          "output_type": "execute_result",
          "data": {
            "text/html": [
              "<div>\n",
              "<style scoped>\n",
              "    .dataframe tbody tr th:only-of-type {\n",
              "        vertical-align: middle;\n",
              "    }\n",
              "\n",
              "    .dataframe tbody tr th {\n",
              "        vertical-align: top;\n",
              "    }\n",
              "\n",
              "    .dataframe thead th {\n",
              "        text-align: right;\n",
              "    }\n",
              "</style>\n",
              "<table border=\"1\" class=\"dataframe\">\n",
              "  <thead>\n",
              "    <tr style=\"text-align: right;\">\n",
              "      <th></th>\n",
              "      <th>summary</th>\n",
              "      <th>target</th>\n",
              "    </tr>\n",
              "  </thead>\n",
              "  <tbody>\n",
              "    <tr>\n",
              "      <th>34517</th>\n",
              "      <td>It's okay, but it could have been better.</td>\n",
              "      <td>0</td>\n",
              "    </tr>\n",
              "    <tr>\n",
              "      <th>29756</th>\n",
              "      <td>Paid for an Xbox 360 game, got an Xbox 1 game ...</td>\n",
              "      <td>0</td>\n",
              "    </tr>\n",
              "    <tr>\n",
              "      <th>22834</th>\n",
              "      <td>Extremely Overrated</td>\n",
              "      <td>0</td>\n",
              "    </tr>\n",
              "    <tr>\n",
              "      <th>20232</th>\n",
              "      <td>What is this garbage!!!</td>\n",
              "      <td>0</td>\n",
              "    </tr>\n",
              "    <tr>\n",
              "      <th>34202</th>\n",
              "      <td>It looks pretty good.</td>\n",
              "      <td>0</td>\n",
              "    </tr>\n",
              "    <tr>\n",
              "      <th>23862</th>\n",
              "      <td>Rinse, Repeat, Recycle</td>\n",
              "      <td>0</td>\n",
              "    </tr>\n",
              "    <tr>\n",
              "      <th>2213</th>\n",
              "      <td>Overpriced - Overhyped and Needlessly Limited</td>\n",
              "      <td>0</td>\n",
              "    </tr>\n",
              "    <tr>\n",
              "      <th>23161</th>\n",
              "      <td>Dead Or Alive 5: Does It Deliver?</td>\n",
              "      <td>0</td>\n",
              "    </tr>\n",
              "    <tr>\n",
              "      <th>24206</th>\n",
              "      <td>I'm Batman</td>\n",
              "      <td>0</td>\n",
              "    </tr>\n",
              "    <tr>\n",
              "      <th>25386</th>\n",
              "      <td>Something for Wii or game-console remake defin...</td>\n",
              "      <td>0</td>\n",
              "    </tr>\n",
              "    <tr>\n",
              "      <th>3017</th>\n",
              "      <td>Garbage!</td>\n",
              "      <td>0</td>\n",
              "    </tr>\n",
              "    <tr>\n",
              "      <th>30078</th>\n",
              "      <td>As with any electronic gadget, NEVER buy the f...</td>\n",
              "      <td>0</td>\n",
              "    </tr>\n",
              "    <tr>\n",
              "      <th>9579</th>\n",
              "      <td>Sims 3 Fast Lane Stuff Review</td>\n",
              "      <td>0</td>\n",
              "    </tr>\n",
              "    <tr>\n",
              "      <th>34804</th>\n",
              "      <td>Unbelievably Junky for the Price</td>\n",
              "      <td>0</td>\n",
              "    </tr>\n",
              "    <tr>\n",
              "      <th>27659</th>\n",
              "      <td>Can you say slow?</td>\n",
              "      <td>0</td>\n",
              "    </tr>\n",
              "    <tr>\n",
              "      <th>5294</th>\n",
              "      <td>Best racing game PERIOD!!!!</td>\n",
              "      <td>0</td>\n",
              "    </tr>\n",
              "    <tr>\n",
              "      <th>2734</th>\n",
              "      <td>Good mindless shooting fun with some B-movie d...</td>\n",
              "      <td>0</td>\n",
              "    </tr>\n",
              "    <tr>\n",
              "      <th>22696</th>\n",
              "      <td>Prepare for massive pain.</td>\n",
              "      <td>0</td>\n",
              "    </tr>\n",
              "    <tr>\n",
              "      <th>16223</th>\n",
              "      <td>THE NEXT SPORT</td>\n",
              "      <td>0</td>\n",
              "    </tr>\n",
              "    <tr>\n",
              "      <th>36546</th>\n",
              "      <td>You guys don't get it do you!?!?!?!?!</td>\n",
              "      <td>0</td>\n",
              "    </tr>\n",
              "  </tbody>\n",
              "</table>\n",
              "</div>"
            ],
            "text/plain": [
              "                                                 summary  target\n",
              "34517          It's okay, but it could have been better.       0\n",
              "29756  Paid for an Xbox 360 game, got an Xbox 1 game ...       0\n",
              "22834                                Extremely Overrated       0\n",
              "20232                            What is this garbage!!!       0\n",
              "34202                              It looks pretty good.       0\n",
              "23862                             Rinse, Repeat, Recycle       0\n",
              "2213       Overpriced - Overhyped and Needlessly Limited       0\n",
              "23161                  Dead Or Alive 5: Does It Deliver?       0\n",
              "24206                                         I'm Batman       0\n",
              "25386  Something for Wii or game-console remake defin...       0\n",
              "3017                                            Garbage!       0\n",
              "30078  As with any electronic gadget, NEVER buy the f...       0\n",
              "9579                       Sims 3 Fast Lane Stuff Review       0\n",
              "34804                   Unbelievably Junky for the Price       0\n",
              "27659                                  Can you say slow?       0\n",
              "5294                         Best racing game PERIOD!!!!       0\n",
              "2734   Good mindless shooting fun with some B-movie d...       0\n",
              "22696                          Prepare for massive pain.       0\n",
              "16223                                     THE NEXT SPORT       0\n",
              "36546              You guys don't get it do you!?!?!?!?!       0"
            ]
          },
          "metadata": {
            "tags": []
          },
          "execution_count": 14
        }
      ]
    },
    {
      "cell_type": "code",
      "metadata": {
        "id": "sTOZaQwayEr-",
        "outputId": "a95edf3d-962f-4824-b069-eedfa506180f",
        "colab": {
          "base_uri": "https://localhost:8080/",
          "height": 677
        }
      },
      "source": [
        "train_df[train_df['target'] == 1][['summary', 'target']].sample(20)"
      ],
      "execution_count": null,
      "outputs": [
        {
          "output_type": "execute_result",
          "data": {
            "text/html": [
              "<div>\n",
              "<style scoped>\n",
              "    .dataframe tbody tr th:only-of-type {\n",
              "        vertical-align: middle;\n",
              "    }\n",
              "\n",
              "    .dataframe tbody tr th {\n",
              "        vertical-align: top;\n",
              "    }\n",
              "\n",
              "    .dataframe thead th {\n",
              "        text-align: right;\n",
              "    }\n",
              "</style>\n",
              "<table border=\"1\" class=\"dataframe\">\n",
              "  <thead>\n",
              "    <tr style=\"text-align: right;\">\n",
              "      <th></th>\n",
              "      <th>summary</th>\n",
              "      <th>target</th>\n",
              "    </tr>\n",
              "  </thead>\n",
              "  <tbody>\n",
              "    <tr>\n",
              "      <th>38183</th>\n",
              "      <td>An almost-great game with a fatal flaw</td>\n",
              "      <td>1</td>\n",
              "    </tr>\n",
              "    <tr>\n",
              "      <th>17037</th>\n",
              "      <td>Impressive graphics; basic gameplay</td>\n",
              "      <td>1</td>\n",
              "    </tr>\n",
              "    <tr>\n",
              "      <th>3503</th>\n",
              "      <td>Pokes in a few new features.</td>\n",
              "      <td>1</td>\n",
              "    </tr>\n",
              "    <tr>\n",
              "      <th>36693</th>\n",
              "      <td>Nier is a quirky innovative hit!</td>\n",
              "      <td>1</td>\n",
              "    </tr>\n",
              "    <tr>\n",
              "      <th>33347</th>\n",
              "      <td>Weakest Story of the Trilogy</td>\n",
              "      <td>1</td>\n",
              "    </tr>\n",
              "    <tr>\n",
              "      <th>29482</th>\n",
              "      <td>Great Family-Friendly Puzzle Fun</td>\n",
              "      <td>1</td>\n",
              "    </tr>\n",
              "    <tr>\n",
              "      <th>235</th>\n",
              "      <td>One of, if not the, best comic licensed 16-bit...</td>\n",
              "      <td>1</td>\n",
              "    </tr>\n",
              "    <tr>\n",
              "      <th>37875</th>\n",
              "      <td>The Little Engine That Could...</td>\n",
              "      <td>1</td>\n",
              "    </tr>\n",
              "    <tr>\n",
              "      <th>31626</th>\n",
              "      <td>Fantastic Sound Quality - Advantage for Sounds...</td>\n",
              "      <td>1</td>\n",
              "    </tr>\n",
              "    <tr>\n",
              "      <th>35996</th>\n",
              "      <td>Great, but repetitive</td>\n",
              "      <td>1</td>\n",
              "    </tr>\n",
              "    <tr>\n",
              "      <th>3297</th>\n",
              "      <td>SINGLE PLAYER ONLY: \"de\"powering the player</td>\n",
              "      <td>1</td>\n",
              "    </tr>\n",
              "    <tr>\n",
              "      <th>4144</th>\n",
              "      <td>This package is actually good</td>\n",
              "      <td>1</td>\n",
              "    </tr>\n",
              "    <tr>\n",
              "      <th>28302</th>\n",
              "      <td>Never get old!</td>\n",
              "      <td>1</td>\n",
              "    </tr>\n",
              "    <tr>\n",
              "      <th>5932</th>\n",
              "      <td>Great Game for Kids of All Ages</td>\n",
              "      <td>1</td>\n",
              "    </tr>\n",
              "    <tr>\n",
              "      <th>1116</th>\n",
              "      <td>Meh</td>\n",
              "      <td>1</td>\n",
              "    </tr>\n",
              "    <tr>\n",
              "      <th>29470</th>\n",
              "      <td>Hit and Miss</td>\n",
              "      <td>1</td>\n",
              "    </tr>\n",
              "    <tr>\n",
              "      <th>24937</th>\n",
              "      <td>Xbox 360 Kinect: Gorgeous graphics and it's li...</td>\n",
              "      <td>1</td>\n",
              "    </tr>\n",
              "    <tr>\n",
              "      <th>1980</th>\n",
              "      <td>A bad addition to an excellent series</td>\n",
              "      <td>1</td>\n",
              "    </tr>\n",
              "    <tr>\n",
              "      <th>12296</th>\n",
              "      <td>Better than LBP and LBP2!</td>\n",
              "      <td>1</td>\n",
              "    </tr>\n",
              "    <tr>\n",
              "      <th>275</th>\n",
              "      <td>Kirby returns to his handheld roots in gloriou...</td>\n",
              "      <td>1</td>\n",
              "    </tr>\n",
              "  </tbody>\n",
              "</table>\n",
              "</div>"
            ],
            "text/plain": [
              "                                                 summary  target\n",
              "38183             An almost-great game with a fatal flaw       1\n",
              "17037                Impressive graphics; basic gameplay       1\n",
              "3503                        Pokes in a few new features.       1\n",
              "36693                   Nier is a quirky innovative hit!       1\n",
              "33347                       Weakest Story of the Trilogy       1\n",
              "29482                   Great Family-Friendly Puzzle Fun       1\n",
              "235    One of, if not the, best comic licensed 16-bit...       1\n",
              "37875                    The Little Engine That Could...       1\n",
              "31626  Fantastic Sound Quality - Advantage for Sounds...       1\n",
              "35996                              Great, but repetitive       1\n",
              "3297         SINGLE PLAYER ONLY: \"de\"powering the player       1\n",
              "4144                       This package is actually good       1\n",
              "28302                                     Never get old!       1\n",
              "5932                     Great Game for Kids of All Ages       1\n",
              "1116                                                 Meh       1\n",
              "29470                                       Hit and Miss       1\n",
              "24937  Xbox 360 Kinect: Gorgeous graphics and it's li...       1\n",
              "1980               A bad addition to an excellent series       1\n",
              "12296                          Better than LBP and LBP2!       1\n",
              "275    Kirby returns to his handheld roots in gloriou...       1"
            ]
          },
          "metadata": {
            "tags": []
          },
          "execution_count": 15
        }
      ]
    },
    {
      "cell_type": "markdown",
      "metadata": {
        "id": "h_oBFg--ynwR"
      },
      "source": [
        "Grabbing a random sample gives the impression that `1` is for negative and `0` for positive/neutral reviews.\n",
        "\n",
        "Because we are still unsure we are going to create two new dataframes:\n",
        "\n",
        "- `train_one_df`\n",
        "- `train_zero_df`"
      ]
    },
    {
      "cell_type": "code",
      "metadata": {
        "id": "3chs_khDy1_4"
      },
      "source": [
        "train_one_df = train_df[train_df['target'] == 1].copy()\n",
        "train_zero_df = train_df[train_df['target'] == 0].copy()"
      ],
      "execution_count": null,
      "outputs": []
    },
    {
      "cell_type": "code",
      "metadata": {
        "id": "zN-yMykg0r9o",
        "outputId": "45d77acf-f953-4dfa-a8ab-32452b68c6eb",
        "colab": {
          "base_uri": "https://localhost:8080/",
          "height": 88
        }
      },
      "source": [
        "train_one_df.count()"
      ],
      "execution_count": null,
      "outputs": [
        {
          "output_type": "execute_result",
          "data": {
            "text/plain": [
              "reviewText    25362\n",
              "summary       25362\n",
              "target        25362\n",
              "dtype: int64"
            ]
          },
          "metadata": {
            "tags": []
          },
          "execution_count": 17
        }
      ]
    },
    {
      "cell_type": "code",
      "metadata": {
        "id": "r4O-e1-l1GN6",
        "outputId": "b7aa7ef5-a42e-4c51-c022-c77b87e94264",
        "colab": {
          "base_uri": "https://localhost:8080/",
          "height": 88
        }
      },
      "source": [
        "train_zero_df.count()"
      ],
      "execution_count": null,
      "outputs": [
        {
          "output_type": "execute_result",
          "data": {
            "text/plain": [
              "reviewText    13134\n",
              "summary       13134\n",
              "target        13134\n",
              "dtype: int64"
            ]
          },
          "metadata": {
            "tags": []
          },
          "execution_count": 18
        }
      ]
    },
    {
      "cell_type": "code",
      "metadata": {
        "id": "FoYWFzi23ggr",
        "outputId": "c92150ed-cbec-4c8a-db40-7c516daefcd6",
        "colab": {
          "base_uri": "https://localhost:8080/",
          "height": 88
        }
      },
      "source": [
        "(train_zero_df.count() / train_df.count()) * 100"
      ],
      "execution_count": null,
      "outputs": [
        {
          "output_type": "execute_result",
          "data": {
            "text/plain": [
              "reviewText    34.11783\n",
              "summary       34.11783\n",
              "target        34.11783\n",
              "dtype: float64"
            ]
          },
          "metadata": {
            "tags": []
          },
          "execution_count": 19
        }
      ]
    },
    {
      "cell_type": "code",
      "metadata": {
        "id": "03HEDod23-sI",
        "outputId": "f4136e7d-85aa-4fe3-8124-a8e23137e34f",
        "colab": {
          "base_uri": "https://localhost:8080/",
          "height": 88
        }
      },
      "source": [
        "(train_one_df.count() / train_df.count()) * 100"
      ],
      "execution_count": null,
      "outputs": [
        {
          "output_type": "execute_result",
          "data": {
            "text/plain": [
              "reviewText    65.88217\n",
              "summary       65.88217\n",
              "target        65.88217\n",
              "dtype: float64"
            ]
          },
          "metadata": {
            "tags": []
          },
          "execution_count": 20
        }
      ]
    },
    {
      "cell_type": "markdown",
      "metadata": {
        "id": "ATQHabxO-j6T"
      },
      "source": [
        "It seems that for our training dataset we don't have to deal with imbalance, or at least we assume that the current proportion are ok for the sklearn algorithms. "
      ]
    },
    {
      "cell_type": "code",
      "metadata": {
        "id": "q6HmxlVl-IVy"
      },
      "source": [
        "train_summary_df = train_df['summary'].copy()"
      ],
      "execution_count": null,
      "outputs": []
    },
    {
      "cell_type": "code",
      "metadata": {
        "id": "lDdcfMif-dRJ"
      },
      "source": [
        "train_y_df = train_df['target'].copy()"
      ],
      "execution_count": null,
      "outputs": []
    },
    {
      "cell_type": "markdown",
      "metadata": {
        "id": "8FwZpuWbBJyc"
      },
      "source": [
        "### Extracting features from the `summary` column.\n",
        "\n",
        "We need to apply some pre-processing to our `summary` values to generate useful features from it, remove stopwords and stemming."
      ]
    },
    {
      "cell_type": "code",
      "metadata": {
        "id": "HkrQDCdOEOFm",
        "outputId": "109a7613-d0e4-4728-f5c0-e2c3f2ecc4b6",
        "colab": {
          "base_uri": "https://localhost:8080/",
          "height": 70
        }
      },
      "source": [
        "import nltk\n",
        "nltk.download('stopwords') # downloading stopword data, using ignore_stopwords with snowball throw a LookupError without this."
      ],
      "execution_count": 5,
      "outputs": [
        {
          "output_type": "stream",
          "text": [
            "[nltk_data] Downloading package stopwords to /root/nltk_data...\n",
            "[nltk_data]   Unzipping corpora/stopwords.zip.\n"
          ],
          "name": "stdout"
        },
        {
          "output_type": "execute_result",
          "data": {
            "text/plain": [
              "True"
            ]
          },
          "metadata": {
            "tags": []
          },
          "execution_count": 5
        }
      ]
    },
    {
      "cell_type": "code",
      "metadata": {
        "id": "rWVMfHE5_FqB"
      },
      "source": [
        "from nltk.stem.snowball import EnglishStemmer"
      ],
      "execution_count": 6,
      "outputs": []
    },
    {
      "cell_type": "code",
      "metadata": {
        "id": "T5IzihzTEEdp"
      },
      "source": [
        "snowball_stemmer = EnglishStemmer()"
      ],
      "execution_count": 7,
      "outputs": []
    },
    {
      "cell_type": "markdown",
      "metadata": {
        "id": "L-mvZff1CRLz"
      },
      "source": [
        "why snowball? https://stackoverflow.com/questions/10554052/what-are-the-major-differences-and-benefits-of-porter-and-lancaster-stemming-alg\n",
        "\n",
        "The first choice was to use PorterStemmer since most books and resources make a reference to it, some do not and that lead to search for which to use.\n",
        "\n",
        "Besides what's described in the SO answer we have the following from the [snowball official documentation](https://snowballstem.org/):\n",
        "\n",
        "> We also aim to conflate words with the same meaning, rather than all words with a common linguistic root (so awe and awful don't have the same stem).. If you want to always reduce words to a root form and/or get a root form which is itself a word then Snowball's stemming algorithms likely aren't the right answer. \n",
        "\n",
        "So it seems that snowball is a improved version of Porter and it will not remove words that may be useful for sentiment analysis."
      ]
    },
    {
      "cell_type": "code",
      "metadata": {
        "id": "PJD5o66jBsp5"
      },
      "source": [
        "from nltk.corpus import stopwords"
      ],
      "execution_count": 8,
      "outputs": []
    },
    {
      "cell_type": "markdown",
      "metadata": {
        "id": "CoZ9LMaCD-Kk"
      },
      "source": [
        "Removing stopwords."
      ]
    },
    {
      "cell_type": "code",
      "metadata": {
        "id": "76lMk9y0EBTM"
      },
      "source": [
        "en_stopwords = set(stopwords.words('english'))"
      ],
      "execution_count": 9,
      "outputs": []
    },
    {
      "cell_type": "markdown",
      "metadata": {
        "id": "DTshG5VoE_UN"
      },
      "source": [
        "#### Tokenizing\n",
        "\n",
        "nltk already provides a module `tokenize` to tokenize texts, in the chapter three of the book they mention two functions `word_tokenizer`and `regexp_tokenize` but in the summary they mention a howto guide which in turn mentions the `tokenize` module.\n",
        "\n",
        "The `tokenize` module documentation includes a description of a `TweetTokenizer` which seems to take modern? expressions used in social media.\n",
        "\n",
        "It may be a good idea to test some of them to have a better sense of how each one works."
      ]
    },
    {
      "cell_type": "code",
      "metadata": {
        "id": "VqzU1NdHHxzf"
      },
      "source": [
        "from nltk.tokenize import TweetTokenizer"
      ],
      "execution_count": 10,
      "outputs": []
    },
    {
      "cell_type": "code",
      "metadata": {
        "id": "dfhC1r-II1tn"
      },
      "source": [
        "from typing import * # better autocompletion from collab, maybe, first time trying."
      ],
      "execution_count": 11,
      "outputs": []
    },
    {
      "cell_type": "code",
      "metadata": {
        "id": "qhwdnC8mIHJ0"
      },
      "source": [
        "def tokenize_summary(summary: str, tknzr=TweetTokenizer()) -> List[str]:\n",
        "  tokens = tknzr.tokenize(summary.lower())\n",
        "  words = [w for w in tokens if w not in en_stopwords]\n",
        "  return [ snowball_stemmer.stem(w) for w in words]"
      ],
      "execution_count": 12,
      "outputs": []
    },
    {
      "cell_type": "markdown",
      "metadata": {
        "id": "68-JMXM1JPaA"
      },
      "source": [
        "Testing our `tokenize_summary` with different tokenizers."
      ]
    },
    {
      "cell_type": "code",
      "metadata": {
        "id": "Yz_F9w9bJSuQ"
      },
      "source": [
        "samples_to_test_tokenizers = train_df['summary'].sample(15)"
      ],
      "execution_count": 14,
      "outputs": []
    },
    {
      "cell_type": "code",
      "metadata": {
        "id": "ivPb6XaRJhCh",
        "outputId": "cac7a82c-be24-4cd8-cf82-b937d0252377",
        "colab": {
          "base_uri": "https://localhost:8080/",
          "height": 302
        }
      },
      "source": [
        "samples_to_test_tokenizers"
      ],
      "execution_count": 15,
      "outputs": [
        {
          "output_type": "execute_result",
          "data": {
            "text/plain": [
              "36555             uhhhh, really? what's with all the hype?\n",
              "34123    DS Lite InvisaShields By Pelican - Great Scree...\n",
              "30886                                          frustrating\n",
              "28277                              Beautiful and Haunting.\n",
              "26558            This game is broken.  Avoid at all costs.\n",
              "2323                             Turn-Based is Not Dead!!!\n",
              "8905                    \"One Sentence Review\" Of Watchdogs\n",
              "20174    This is a Must-Play Package for Any God of War...\n",
              "10121                                        Great bundle.\n",
              "14924                  So disappointed...so repetitious...\n",
              "16438       5 hours long. 5 hours long? Yes, 5 hours long.\n",
              "27487                             Must buy for car lovers!\n",
              "20190    Stick with BF3 and BFBC2 if you liked the cont...\n",
              "37190          GT6:  Becoming the \"Madden\" of racing games\n",
              "544                                      Surprisingly good\n",
              "Name: summary, dtype: object"
            ]
          },
          "metadata": {
            "tags": []
          },
          "execution_count": 15
        }
      ]
    },
    {
      "cell_type": "markdown",
      "metadata": {
        "id": "Jd1BMBJ7Jkj8"
      },
      "source": [
        "##### Testing with twitter tokenizer"
      ]
    },
    {
      "cell_type": "code",
      "metadata": {
        "id": "Cjdo-FmBH1GK",
        "outputId": "00bd90fa-f8dc-42b8-e85a-6ddbfb990959",
        "colab": {
          "base_uri": "https://localhost:8080/",
          "height": 711
        }
      },
      "source": [
        "[tokenize_summary(summary=summary) for summary in samples_to_test_tokenizers]"
      ],
      "execution_count": 16,
      "outputs": [
        {
          "output_type": "execute_result",
          "data": {
            "text/plain": [
              "[['uhhhh', ',', 'realli', '?', 'what', 'hype', '?'],\n",
              " ['ds',\n",
              "  'lite',\n",
              "  'invisashield',\n",
              "  'pelican',\n",
              "  '-',\n",
              "  'great',\n",
              "  'screen',\n",
              "  'protector',\n",
              "  'nds',\n",
              "  '!',\n",
              "  '!',\n",
              "  '!'],\n",
              " ['frustrat'],\n",
              " ['beauti', 'haunt', '.'],\n",
              " ['game', 'broken', '.', 'avoid', 'cost', '.'],\n",
              " ['turn-bas', 'dead', '!', '!', '!'],\n",
              " ['\"', 'one', 'sentenc', 'review', '\"', 'watchdog'],\n",
              " ['must-play', 'packag', 'god', 'war', 'fan'],\n",
              " ['great', 'bundl', '.'],\n",
              " ['disappoint', '...', 'repetiti', '...'],\n",
              " ['5',\n",
              "  'hour',\n",
              "  'long',\n",
              "  '.',\n",
              "  '5',\n",
              "  'hour',\n",
              "  'long',\n",
              "  '?',\n",
              "  'yes',\n",
              "  ',',\n",
              "  '5',\n",
              "  'hour',\n",
              "  'long',\n",
              "  '.'],\n",
              " ['must', 'buy', 'car', 'lover', '!'],\n",
              " ['stick', 'bf3', 'bfbc', '2', 'like', 'control', '.'],\n",
              " ['gt6', ':', 'becom', '\"', 'madden', '\"', 'race', 'game'],\n",
              " ['surpris', 'good']]"
            ]
          },
          "metadata": {
            "tags": []
          },
          "execution_count": 16
        }
      ]
    },
    {
      "cell_type": "markdown",
      "metadata": {
        "id": "OMSMXT2RJmsT"
      },
      "source": [
        "Let's try with TreebankWordTokenizer [which is the one used by](https://www.nltk.org/api/nltk.tokenize.html#module-nltk.tokenize) the `word_tokenize` method."
      ]
    },
    {
      "cell_type": "code",
      "metadata": {
        "id": "BllBhwd2LHCY"
      },
      "source": [
        "from nltk.tokenize import TreebankWordTokenizer"
      ],
      "execution_count": 17,
      "outputs": []
    },
    {
      "cell_type": "code",
      "metadata": {
        "id": "ztjXnGbrLJm9",
        "outputId": "45f12115-9f6c-4da1-812b-0e5dbd276793",
        "colab": {
          "base_uri": "https://localhost:8080/",
          "height": 711
        }
      },
      "source": [
        "[tokenize_summary(summary=summary, tknzr=TreebankWordTokenizer()) for summary in samples_to_test_tokenizers]"
      ],
      "execution_count": 18,
      "outputs": [
        {
          "output_type": "execute_result",
          "data": {
            "text/plain": [
              "[['uhhhh', ',', 'realli', '?', \"'s\", 'hype', '?'],\n",
              " ['ds',\n",
              "  'lite',\n",
              "  'invisashield',\n",
              "  'pelican',\n",
              "  '-',\n",
              "  'great',\n",
              "  'screen',\n",
              "  'protector',\n",
              "  'nds',\n",
              "  '!',\n",
              "  '!',\n",
              "  '!',\n",
              "  '!'],\n",
              " ['frustrat'],\n",
              " ['beauti', 'haunt', '.'],\n",
              " ['game', 'broken.', 'avoid', 'cost', '.'],\n",
              " ['turn-bas', 'dead', '!', '!', '!'],\n",
              " ['``', 'one', 'sentenc', 'review', \"''\", 'watchdog'],\n",
              " ['must-play', 'packag', 'god', 'war', 'fan'],\n",
              " ['great', 'bundl', '.'],\n",
              " ['disappoint', '...', 'repetiti', '...'],\n",
              " ['5',\n",
              "  'hour',\n",
              "  'long.',\n",
              "  '5',\n",
              "  'hour',\n",
              "  'long',\n",
              "  '?',\n",
              "  'yes',\n",
              "  ',',\n",
              "  '5',\n",
              "  'hour',\n",
              "  'long',\n",
              "  '.'],\n",
              " ['must', 'buy', 'car', 'lover', '!'],\n",
              " ['stick', 'bf3', 'bfbc2', 'like', 'control', '.'],\n",
              " ['gt6', ':', 'becom', '``', 'madden', \"''\", 'race', 'game'],\n",
              " ['surpris', 'good']]"
            ]
          },
          "metadata": {
            "tags": []
          },
          "execution_count": 18
        }
      ]
    },
    {
      "cell_type": "markdown",
      "metadata": {
        "id": "wxApXUJvM6cQ"
      },
      "source": [
        "Both tokenizer leave commas and other punctuation some differences from the samples, for example with `I've` Twitter tokenizers seems to grab `i'v` and the Treebank grabs `ve`, but it seems that otherwise because our samples don't use modern expressions they are pretty much similar."
      ]
    },
    {
      "cell_type": "markdown",
      "metadata": {
        "id": "PTFNMgXON32R"
      },
      "source": [
        "#### Transforming our training summary dataset\n",
        "\n",
        "Now that we have a tokenizer method we can apply that to all records in our training dataset or rather extract features from our text using the [`sklearn.feature_extraction.text`](https://scikit-learn.org/stable/modules/classes.html#module-sklearn.feature_extraction.text) module."
      ]
    },
    {
      "cell_type": "code",
      "metadata": {
        "id": "YtlMKY4kOB_Q",
        "outputId": "41fc78d1-3f1f-4e8a-f9db-4e1503aa004e",
        "colab": {
          "base_uri": "https://localhost:8080/",
          "height": 230
        }
      },
      "source": [
        "train_summary_df.apply(lambda summary: tokenize_summary(summary=summary))"
      ],
      "execution_count": null,
      "outputs": [
        {
          "output_type": "execute_result",
          "data": {
            "text/plain": [
              "0               [disgust, soldier, money, time]\n",
              "1                    [ton, fun, ,, ,, short, .]\n",
              "2                               [alpha, player]\n",
              "3             [dispos, control, ,, $, 54.99, !]\n",
              "4                       [go, backward, ?, ?, ?]\n",
              "                          ...                  \n",
              "38491                              [done, !, !]\n",
              "38492             [great, think, could, better]\n",
              "38493                              [go, motion]\n",
              "38494                              [close, ...]\n",
              "38495    [yay, !, let, kill, nazi, !, . . ., !]\n",
              "Name: summary, Length: 38496, dtype: object"
            ]
          },
          "metadata": {
            "tags": []
          },
          "execution_count": 36
        }
      ]
    },
    {
      "cell_type": "markdown",
      "metadata": {
        "id": "igXETnihSWzX"
      },
      "source": [
        "Getting the target and values from the testing dataset."
      ]
    },
    {
      "cell_type": "code",
      "metadata": {
        "id": "7JkgCZjKSfE6"
      },
      "source": [
        "test_summary_df, test_y_df = test_df['summary'].copy(), test_df['target'].copy()"
      ],
      "execution_count": 19,
      "outputs": []
    },
    {
      "cell_type": "markdown",
      "metadata": {
        "id": "BrcUxCQWSsMn"
      },
      "source": [
        "Following the [sklearn documentation](https://scikit-learn.org/stable/modules/feature_extraction.html#tfidf-term-weighting) we can start building our pipeline to process our classifier using the `summary` column."
      ]
    },
    {
      "cell_type": "markdown",
      "metadata": {
        "id": "poq3FnOMcIDF"
      },
      "source": [
        "## Task 2: Train a classifier \n",
        "\n",
        "Train any classifier of your liking (no NN classifiers though!) and measure its performance on the train set.\n",
        "\n",
        "In order to do this, you will probably need to clean the text (based on the analysis you performed) to remove any unwanted words (Like we did in the previous labs). \n",
        "\n",
        "Once you've done the cleaning you will need to convert each review into a vector (e.g. using bag-of-words or a smiliar approach) and train a classifier on them.\n",
        "\n",
        "For the classifier, anything in sklearn could do the trick so feel free to explore around and try different things. Remember to `fit` the classifier using only the train data. \n",
        "\n",
        "Once the classifier is trained compute the predictions (calling the `predict` method) on the data you just trained to see what your model learned.\n"
      ]
    },
    {
      "cell_type": "markdown",
      "metadata": {
        "id": "gg2YwuO9TV9A"
      },
      "source": [
        "### Building the Pipeline for summary"
      ]
    },
    {
      "cell_type": "markdown",
      "metadata": {
        "id": "MqRB5LzBUrWq"
      },
      "source": [
        "Our first grid search pipeline is going to make use of `TfidfVectorizer` and (as expected) a `RandomForestClassifier`"
      ]
    },
    {
      "cell_type": "code",
      "metadata": {
        "id": "mo6i1o4IVOJM"
      },
      "source": [
        "from sklearn.ensemble import RandomForestClassifier"
      ],
      "execution_count": 20,
      "outputs": []
    },
    {
      "cell_type": "code",
      "metadata": {
        "id": "JeyI_-vQWP1v"
      },
      "source": [
        "from sklearn.feature_extraction.text import TfidfVectorizer"
      ],
      "execution_count": 21,
      "outputs": []
    },
    {
      "cell_type": "code",
      "metadata": {
        "id": "oIltmUf3ZZmz"
      },
      "source": [
        "from sklearn.pipeline import Pipeline"
      ],
      "execution_count": 22,
      "outputs": []
    },
    {
      "cell_type": "code",
      "metadata": {
        "id": "JzHf3GtzLkBL"
      },
      "source": [
        "from sklearn.decomposition import TruncatedSVD"
      ],
      "execution_count": 23,
      "outputs": []
    },
    {
      "cell_type": "code",
      "metadata": {
        "id": "b9F90VgKLsC2"
      },
      "source": [
        "from sklearn.preprocessing import Normalizer\n",
        "from sklearn.model_selection import GridSearchCV\n",
        "from sklearn.metrics import make_scorer, f1_score\n",
        "from sklearn.metrics import plot_precision_recall_curve\n",
        "from sklearn.metrics import precision_recall_curve\n",
        "from sklearn.metrics import plot_roc_curve\n",
        "from sklearn.metrics import precision_score, recall_score\n",
        "from sklearn.naive_bayes import BernoulliNB\n",
        "from sklearn.metrics import classification_report\n",
        "from sklearn.linear_model import SGDClassifier"
      ],
      "execution_count": 24,
      "outputs": []
    },
    {
      "cell_type": "code",
      "metadata": {
        "id": "m-LNEoMxTce1"
      },
      "source": [
        "# this is partly inspired if not not copy pasted from https://scikit-learn.org/stable/auto_examples/model_selection/grid_search_text_feature_extraction.html#sphx-glr-auto-examples-model-selection-grid-search-text-feature-extraction-py\n",
        "\n",
        "# We know we can use GridSearch to find the best performing classifier for a given set of hyper-parameters.\n",
        "\n",
        "rf_pipeline = Pipeline([\n",
        "    ('tfidf_vec', TfidfVectorizer(tokenizer=tokenize_summary, norm='l2', sublinear_tf=True)),\n",
        "    ('svd', TruncatedSVD(n_components=2)),\n",
        "    ('normalizer', Normalizer()),\n",
        "    ('clf', RandomForestClassifier(random_state=13, n_jobs=-1)),\n",
        "])\n",
        "n_components=10\n",
        "rf_parameters = {\n",
        "    'tfidf_vec__ngram_range': ((1, 2), (1, 3)), # bigrams, trigrams and unigrams\n",
        "    # 'tfidf_vec__norm': ('l2', 'l1'),\n",
        "    # 'tfidf_vec__max_df': (0.5, 0.75, 1.0),\n",
        "    # 'tfidf_vec__max_features': (None, 5000, 10000, 50000),\n",
        "    # 'tfidf_vec__strip_accents': (None, 'unicode')\n",
        "    # 'tfidf_vec__use_idf': (True, False),\n",
        "    #'tfidf_vec__sublinear_tf': (True, False),\n",
        "    # 'clf__n_estimators': (500, 1000)\n",
        "}\n",
        "\n",
        "\n"
      ],
      "execution_count": null,
      "outputs": []
    },
    {
      "cell_type": "code",
      "metadata": {
        "id": "7pofyhWoZebW"
      },
      "source": [
        "from sklearn.model_selection import GridSearchCV"
      ],
      "execution_count": 25,
      "outputs": []
    },
    {
      "cell_type": "code",
      "metadata": {
        "id": "vzvqh30QHdxJ"
      },
      "source": [
        "from sklearn.metrics import make_scorer, f1_score"
      ],
      "execution_count": 26,
      "outputs": []
    },
    {
      "cell_type": "code",
      "metadata": {
        "id": "xVN8wstDZimG"
      },
      "source": [
        "rf_grid_search = GridSearchCV(rf_pipeline, rf_parameters, n_jobs=-1, verbose=1, scoring=make_scorer(f1_score), cv=2)"
      ],
      "execution_count": null,
      "outputs": []
    },
    {
      "cell_type": "markdown",
      "metadata": {
        "id": "OsfcD6aEcIDN"
      },
      "source": [
        "## Task 3: Predict \n",
        "\n",
        "Finally, report the performance of your classifier on the unseen test set.\n"
      ]
    },
    {
      "cell_type": "markdown",
      "metadata": {
        "id": "gyhx9-UTZ4kH"
      },
      "source": [
        "#### Random Forest Predict"
      ]
    },
    {
      "cell_type": "code",
      "metadata": {
        "id": "Ih2oMJkOZ7MR",
        "outputId": "9b5eb124-2a9a-46f0-f3b7-e46063497005",
        "colab": {
          "base_uri": "https://localhost:8080/",
          "height": 355
        }
      },
      "source": [
        "rf_grid_search.fit(train_summary_df, train_y_df.astype('int'))"
      ],
      "execution_count": null,
      "outputs": [
        {
          "output_type": "stream",
          "text": [
            "Fitting 2 folds for each of 2 candidates, totalling 4 fits\n"
          ],
          "name": "stdout"
        },
        {
          "output_type": "stream",
          "text": [
            "[Parallel(n_jobs=-1)]: Using backend LokyBackend with 2 concurrent workers.\n"
          ],
          "name": "stderr"
        },
        {
          "output_type": "error",
          "ename": "KeyboardInterrupt",
          "evalue": "ignored",
          "traceback": [
            "\u001b[0;31m---------------------------------------------------------------------------\u001b[0m",
            "\u001b[0;31mKeyboardInterrupt\u001b[0m                         Traceback (most recent call last)",
            "\u001b[0;32m<ipython-input-47-5307391b4cdc>\u001b[0m in \u001b[0;36m<module>\u001b[0;34m()\u001b[0m\n\u001b[0;32m----> 1\u001b[0;31m \u001b[0mrf_grid_search\u001b[0m\u001b[0;34m.\u001b[0m\u001b[0mfit\u001b[0m\u001b[0;34m(\u001b[0m\u001b[0mtrain_summary_df\u001b[0m\u001b[0;34m,\u001b[0m \u001b[0mtrain_y_df\u001b[0m\u001b[0;34m.\u001b[0m\u001b[0mastype\u001b[0m\u001b[0;34m(\u001b[0m\u001b[0;34m'int'\u001b[0m\u001b[0;34m)\u001b[0m\u001b[0;34m)\u001b[0m\u001b[0;34m\u001b[0m\u001b[0;34m\u001b[0m\u001b[0m\n\u001b[0m",
            "\u001b[0;32m/usr/local/lib/python3.6/dist-packages/sklearn/model_selection/_search.py\u001b[0m in \u001b[0;36mfit\u001b[0;34m(self, X, y, groups, **fit_params)\u001b[0m\n\u001b[1;32m    708\u001b[0m                 \u001b[0;32mreturn\u001b[0m \u001b[0mresults\u001b[0m\u001b[0;34m\u001b[0m\u001b[0;34m\u001b[0m\u001b[0m\n\u001b[1;32m    709\u001b[0m \u001b[0;34m\u001b[0m\u001b[0m\n\u001b[0;32m--> 710\u001b[0;31m             \u001b[0mself\u001b[0m\u001b[0;34m.\u001b[0m\u001b[0m_run_search\u001b[0m\u001b[0;34m(\u001b[0m\u001b[0mevaluate_candidates\u001b[0m\u001b[0;34m)\u001b[0m\u001b[0;34m\u001b[0m\u001b[0;34m\u001b[0m\u001b[0m\n\u001b[0m\u001b[1;32m    711\u001b[0m \u001b[0;34m\u001b[0m\u001b[0m\n\u001b[1;32m    712\u001b[0m         \u001b[0;31m# For multi-metric evaluation, store the best_index_, best_params_ and\u001b[0m\u001b[0;34m\u001b[0m\u001b[0;34m\u001b[0m\u001b[0;34m\u001b[0m\u001b[0m\n",
            "\u001b[0;32m/usr/local/lib/python3.6/dist-packages/sklearn/model_selection/_search.py\u001b[0m in \u001b[0;36m_run_search\u001b[0;34m(self, evaluate_candidates)\u001b[0m\n\u001b[1;32m   1149\u001b[0m     \u001b[0;32mdef\u001b[0m \u001b[0m_run_search\u001b[0m\u001b[0;34m(\u001b[0m\u001b[0mself\u001b[0m\u001b[0;34m,\u001b[0m \u001b[0mevaluate_candidates\u001b[0m\u001b[0;34m)\u001b[0m\u001b[0;34m:\u001b[0m\u001b[0;34m\u001b[0m\u001b[0;34m\u001b[0m\u001b[0m\n\u001b[1;32m   1150\u001b[0m         \u001b[0;34m\"\"\"Search all candidates in param_grid\"\"\"\u001b[0m\u001b[0;34m\u001b[0m\u001b[0;34m\u001b[0m\u001b[0m\n\u001b[0;32m-> 1151\u001b[0;31m         \u001b[0mevaluate_candidates\u001b[0m\u001b[0;34m(\u001b[0m\u001b[0mParameterGrid\u001b[0m\u001b[0;34m(\u001b[0m\u001b[0mself\u001b[0m\u001b[0;34m.\u001b[0m\u001b[0mparam_grid\u001b[0m\u001b[0;34m)\u001b[0m\u001b[0;34m)\u001b[0m\u001b[0;34m\u001b[0m\u001b[0;34m\u001b[0m\u001b[0m\n\u001b[0m\u001b[1;32m   1152\u001b[0m \u001b[0;34m\u001b[0m\u001b[0m\n\u001b[1;32m   1153\u001b[0m \u001b[0;34m\u001b[0m\u001b[0m\n",
            "\u001b[0;32m/usr/local/lib/python3.6/dist-packages/sklearn/model_selection/_search.py\u001b[0m in \u001b[0;36mevaluate_candidates\u001b[0;34m(candidate_params)\u001b[0m\n\u001b[1;32m    687\u001b[0m                                \u001b[0;32mfor\u001b[0m \u001b[0mparameters\u001b[0m\u001b[0;34m,\u001b[0m \u001b[0;34m(\u001b[0m\u001b[0mtrain\u001b[0m\u001b[0;34m,\u001b[0m \u001b[0mtest\u001b[0m\u001b[0;34m)\u001b[0m\u001b[0;34m\u001b[0m\u001b[0;34m\u001b[0m\u001b[0m\n\u001b[1;32m    688\u001b[0m                                in product(candidate_params,\n\u001b[0;32m--> 689\u001b[0;31m                                           cv.split(X, y, groups)))\n\u001b[0m\u001b[1;32m    690\u001b[0m \u001b[0;34m\u001b[0m\u001b[0m\n\u001b[1;32m    691\u001b[0m                 \u001b[0;32mif\u001b[0m \u001b[0mlen\u001b[0m\u001b[0;34m(\u001b[0m\u001b[0mout\u001b[0m\u001b[0;34m)\u001b[0m \u001b[0;34m<\u001b[0m \u001b[0;36m1\u001b[0m\u001b[0;34m:\u001b[0m\u001b[0;34m\u001b[0m\u001b[0;34m\u001b[0m\u001b[0m\n",
            "\u001b[0;32m/usr/local/lib/python3.6/dist-packages/joblib/parallel.py\u001b[0m in \u001b[0;36m__call__\u001b[0;34m(self, iterable)\u001b[0m\n\u001b[1;32m   1040\u001b[0m \u001b[0;34m\u001b[0m\u001b[0m\n\u001b[1;32m   1041\u001b[0m             \u001b[0;32mwith\u001b[0m \u001b[0mself\u001b[0m\u001b[0;34m.\u001b[0m\u001b[0m_backend\u001b[0m\u001b[0;34m.\u001b[0m\u001b[0mretrieval_context\u001b[0m\u001b[0;34m(\u001b[0m\u001b[0;34m)\u001b[0m\u001b[0;34m:\u001b[0m\u001b[0;34m\u001b[0m\u001b[0;34m\u001b[0m\u001b[0m\n\u001b[0;32m-> 1042\u001b[0;31m                 \u001b[0mself\u001b[0m\u001b[0;34m.\u001b[0m\u001b[0mretrieve\u001b[0m\u001b[0;34m(\u001b[0m\u001b[0;34m)\u001b[0m\u001b[0;34m\u001b[0m\u001b[0;34m\u001b[0m\u001b[0m\n\u001b[0m\u001b[1;32m   1043\u001b[0m             \u001b[0;31m# Make sure that we get a last message telling us we are done\u001b[0m\u001b[0;34m\u001b[0m\u001b[0;34m\u001b[0m\u001b[0;34m\u001b[0m\u001b[0m\n\u001b[1;32m   1044\u001b[0m             \u001b[0melapsed_time\u001b[0m \u001b[0;34m=\u001b[0m \u001b[0mtime\u001b[0m\u001b[0;34m.\u001b[0m\u001b[0mtime\u001b[0m\u001b[0;34m(\u001b[0m\u001b[0;34m)\u001b[0m \u001b[0;34m-\u001b[0m \u001b[0mself\u001b[0m\u001b[0;34m.\u001b[0m\u001b[0m_start_time\u001b[0m\u001b[0;34m\u001b[0m\u001b[0;34m\u001b[0m\u001b[0m\n",
            "\u001b[0;32m/usr/local/lib/python3.6/dist-packages/joblib/parallel.py\u001b[0m in \u001b[0;36mretrieve\u001b[0;34m(self)\u001b[0m\n\u001b[1;32m    919\u001b[0m             \u001b[0;32mtry\u001b[0m\u001b[0;34m:\u001b[0m\u001b[0;34m\u001b[0m\u001b[0;34m\u001b[0m\u001b[0m\n\u001b[1;32m    920\u001b[0m                 \u001b[0;32mif\u001b[0m \u001b[0mgetattr\u001b[0m\u001b[0;34m(\u001b[0m\u001b[0mself\u001b[0m\u001b[0;34m.\u001b[0m\u001b[0m_backend\u001b[0m\u001b[0;34m,\u001b[0m \u001b[0;34m'supports_timeout'\u001b[0m\u001b[0;34m,\u001b[0m \u001b[0;32mFalse\u001b[0m\u001b[0;34m)\u001b[0m\u001b[0;34m:\u001b[0m\u001b[0;34m\u001b[0m\u001b[0;34m\u001b[0m\u001b[0m\n\u001b[0;32m--> 921\u001b[0;31m                     \u001b[0mself\u001b[0m\u001b[0;34m.\u001b[0m\u001b[0m_output\u001b[0m\u001b[0;34m.\u001b[0m\u001b[0mextend\u001b[0m\u001b[0;34m(\u001b[0m\u001b[0mjob\u001b[0m\u001b[0;34m.\u001b[0m\u001b[0mget\u001b[0m\u001b[0;34m(\u001b[0m\u001b[0mtimeout\u001b[0m\u001b[0;34m=\u001b[0m\u001b[0mself\u001b[0m\u001b[0;34m.\u001b[0m\u001b[0mtimeout\u001b[0m\u001b[0;34m)\u001b[0m\u001b[0;34m)\u001b[0m\u001b[0;34m\u001b[0m\u001b[0;34m\u001b[0m\u001b[0m\n\u001b[0m\u001b[1;32m    922\u001b[0m                 \u001b[0;32melse\u001b[0m\u001b[0;34m:\u001b[0m\u001b[0;34m\u001b[0m\u001b[0;34m\u001b[0m\u001b[0m\n\u001b[1;32m    923\u001b[0m                     \u001b[0mself\u001b[0m\u001b[0;34m.\u001b[0m\u001b[0m_output\u001b[0m\u001b[0;34m.\u001b[0m\u001b[0mextend\u001b[0m\u001b[0;34m(\u001b[0m\u001b[0mjob\u001b[0m\u001b[0;34m.\u001b[0m\u001b[0mget\u001b[0m\u001b[0;34m(\u001b[0m\u001b[0;34m)\u001b[0m\u001b[0;34m)\u001b[0m\u001b[0;34m\u001b[0m\u001b[0;34m\u001b[0m\u001b[0m\n",
            "\u001b[0;32m/usr/local/lib/python3.6/dist-packages/joblib/_parallel_backends.py\u001b[0m in \u001b[0;36mwrap_future_result\u001b[0;34m(future, timeout)\u001b[0m\n\u001b[1;32m    540\u001b[0m         AsyncResults.get from multiprocessing.\"\"\"\n\u001b[1;32m    541\u001b[0m         \u001b[0;32mtry\u001b[0m\u001b[0;34m:\u001b[0m\u001b[0;34m\u001b[0m\u001b[0;34m\u001b[0m\u001b[0m\n\u001b[0;32m--> 542\u001b[0;31m             \u001b[0;32mreturn\u001b[0m \u001b[0mfuture\u001b[0m\u001b[0;34m.\u001b[0m\u001b[0mresult\u001b[0m\u001b[0;34m(\u001b[0m\u001b[0mtimeout\u001b[0m\u001b[0;34m=\u001b[0m\u001b[0mtimeout\u001b[0m\u001b[0;34m)\u001b[0m\u001b[0;34m\u001b[0m\u001b[0;34m\u001b[0m\u001b[0m\n\u001b[0m\u001b[1;32m    543\u001b[0m         \u001b[0;32mexcept\u001b[0m \u001b[0mCfTimeoutError\u001b[0m \u001b[0;32mas\u001b[0m \u001b[0me\u001b[0m\u001b[0;34m:\u001b[0m\u001b[0;34m\u001b[0m\u001b[0;34m\u001b[0m\u001b[0m\n\u001b[1;32m    544\u001b[0m             \u001b[0;32mraise\u001b[0m \u001b[0mTimeoutError\u001b[0m \u001b[0;32mfrom\u001b[0m \u001b[0me\u001b[0m\u001b[0;34m\u001b[0m\u001b[0;34m\u001b[0m\u001b[0m\n",
            "\u001b[0;32m/usr/lib/python3.6/concurrent/futures/_base.py\u001b[0m in \u001b[0;36mresult\u001b[0;34m(self, timeout)\u001b[0m\n\u001b[1;32m    425\u001b[0m                 \u001b[0;32mreturn\u001b[0m \u001b[0mself\u001b[0m\u001b[0;34m.\u001b[0m\u001b[0m__get_result\u001b[0m\u001b[0;34m(\u001b[0m\u001b[0;34m)\u001b[0m\u001b[0;34m\u001b[0m\u001b[0;34m\u001b[0m\u001b[0m\n\u001b[1;32m    426\u001b[0m \u001b[0;34m\u001b[0m\u001b[0m\n\u001b[0;32m--> 427\u001b[0;31m             \u001b[0mself\u001b[0m\u001b[0;34m.\u001b[0m\u001b[0m_condition\u001b[0m\u001b[0;34m.\u001b[0m\u001b[0mwait\u001b[0m\u001b[0;34m(\u001b[0m\u001b[0mtimeout\u001b[0m\u001b[0;34m)\u001b[0m\u001b[0;34m\u001b[0m\u001b[0;34m\u001b[0m\u001b[0m\n\u001b[0m\u001b[1;32m    428\u001b[0m \u001b[0;34m\u001b[0m\u001b[0m\n\u001b[1;32m    429\u001b[0m             \u001b[0;32mif\u001b[0m \u001b[0mself\u001b[0m\u001b[0;34m.\u001b[0m\u001b[0m_state\u001b[0m \u001b[0;32min\u001b[0m \u001b[0;34m[\u001b[0m\u001b[0mCANCELLED\u001b[0m\u001b[0;34m,\u001b[0m \u001b[0mCANCELLED_AND_NOTIFIED\u001b[0m\u001b[0;34m]\u001b[0m\u001b[0;34m:\u001b[0m\u001b[0;34m\u001b[0m\u001b[0;34m\u001b[0m\u001b[0m\n",
            "\u001b[0;32m/usr/lib/python3.6/threading.py\u001b[0m in \u001b[0;36mwait\u001b[0;34m(self, timeout)\u001b[0m\n\u001b[1;32m    293\u001b[0m         \u001b[0;32mtry\u001b[0m\u001b[0;34m:\u001b[0m    \u001b[0;31m# restore state no matter what (e.g., KeyboardInterrupt)\u001b[0m\u001b[0;34m\u001b[0m\u001b[0;34m\u001b[0m\u001b[0m\n\u001b[1;32m    294\u001b[0m             \u001b[0;32mif\u001b[0m \u001b[0mtimeout\u001b[0m \u001b[0;32mis\u001b[0m \u001b[0;32mNone\u001b[0m\u001b[0;34m:\u001b[0m\u001b[0;34m\u001b[0m\u001b[0;34m\u001b[0m\u001b[0m\n\u001b[0;32m--> 295\u001b[0;31m                 \u001b[0mwaiter\u001b[0m\u001b[0;34m.\u001b[0m\u001b[0macquire\u001b[0m\u001b[0;34m(\u001b[0m\u001b[0;34m)\u001b[0m\u001b[0;34m\u001b[0m\u001b[0;34m\u001b[0m\u001b[0m\n\u001b[0m\u001b[1;32m    296\u001b[0m                 \u001b[0mgotit\u001b[0m \u001b[0;34m=\u001b[0m \u001b[0;32mTrue\u001b[0m\u001b[0;34m\u001b[0m\u001b[0;34m\u001b[0m\u001b[0m\n\u001b[1;32m    297\u001b[0m             \u001b[0;32melse\u001b[0m\u001b[0;34m:\u001b[0m\u001b[0;34m\u001b[0m\u001b[0;34m\u001b[0m\u001b[0m\n",
            "\u001b[0;31mKeyboardInterrupt\u001b[0m: "
          ]
        }
      ]
    },
    {
      "cell_type": "code",
      "metadata": {
        "id": "NiTadcZKaCRZ"
      },
      "source": [
        "rf_grid_search.best_estimator_.get_params()"
      ],
      "execution_count": null,
      "outputs": []
    },
    {
      "cell_type": "code",
      "metadata": {
        "id": "_-7ofckcbl8D"
      },
      "source": [
        "rf_predictions = rf_grid_search.predict(test_summary_df)"
      ],
      "execution_count": null,
      "outputs": []
    },
    {
      "cell_type": "code",
      "metadata": {
        "id": "wktrbDnBBhuq"
      },
      "source": [
        "from sklearn.metrics import accuracy_score"
      ],
      "execution_count": 27,
      "outputs": []
    },
    {
      "cell_type": "code",
      "metadata": {
        "id": "M2lrqZxfBz8g"
      },
      "source": [
        "accuracy_score(test_y_df, rf_predictions)"
      ],
      "execution_count": null,
      "outputs": []
    },
    {
      "cell_type": "code",
      "metadata": {
        "id": "Ufc0fhfCFNwk"
      },
      "source": [
        "from sklearn.metrics import plot_confusion_matrix"
      ],
      "execution_count": 28,
      "outputs": []
    },
    {
      "cell_type": "code",
      "metadata": {
        "id": "LYzRIcwVGd8C"
      },
      "source": [
        "import matplotlib.pyplot as plt \n",
        "from sklearn.metrics import plot_confusion_matrix"
      ],
      "execution_count": 29,
      "outputs": []
    },
    {
      "cell_type": "code",
      "metadata": {
        "id": "nhF-PENwB20x",
        "outputId": "9866efd1-30cc-471f-b19e-ff8ed05d8637",
        "colab": {
          "base_uri": "https://localhost:8080/",
          "height": 373
        }
      },
      "source": [
        "plot_confusion_matrix(rf_grid_search, test_summary_df, test_y_df)  \n",
        "plt.show()  "
      ],
      "execution_count": null,
      "outputs": [
        {
          "output_type": "error",
          "ename": "AttributeError",
          "evalue": "ignored",
          "traceback": [
            "\u001b[0;31m---------------------------------------------------------------------------\u001b[0m",
            "\u001b[0;31mAttributeError\u001b[0m                            Traceback (most recent call last)",
            "\u001b[0;32m<ipython-input-72-19755a03e1f1>\u001b[0m in \u001b[0;36m<module>\u001b[0;34m()\u001b[0m\n\u001b[1;32m      2\u001b[0m \u001b[0;32mfrom\u001b[0m \u001b[0msklearn\u001b[0m\u001b[0;34m.\u001b[0m\u001b[0mmetrics\u001b[0m \u001b[0;32mimport\u001b[0m \u001b[0mplot_confusion_matrix\u001b[0m\u001b[0;34m\u001b[0m\u001b[0;34m\u001b[0m\u001b[0m\n\u001b[1;32m      3\u001b[0m \u001b[0;34m\u001b[0m\u001b[0m\n\u001b[0;32m----> 4\u001b[0;31m \u001b[0mplot_confusion_matrix\u001b[0m\u001b[0;34m(\u001b[0m\u001b[0mrf_grid_search\u001b[0m\u001b[0;34m,\u001b[0m \u001b[0mtest_summary_df\u001b[0m\u001b[0;34m,\u001b[0m \u001b[0mtest_y_df\u001b[0m\u001b[0;34m)\u001b[0m  \u001b[0;31m# doctest: +SKIP\u001b[0m\u001b[0;34m\u001b[0m\u001b[0;34m\u001b[0m\u001b[0m\n\u001b[0m\u001b[1;32m      5\u001b[0m \u001b[0mplt\u001b[0m\u001b[0;34m.\u001b[0m\u001b[0mshow\u001b[0m\u001b[0;34m(\u001b[0m\u001b[0;34m)\u001b[0m  \u001b[0;31m# doctest: +SKIP\u001b[0m\u001b[0;34m\u001b[0m\u001b[0;34m\u001b[0m\u001b[0m\n",
            "\u001b[0;32m/usr/local/lib/python3.6/dist-packages/sklearn/metrics/_plot/confusion_matrix.py\u001b[0m in \u001b[0;36mplot_confusion_matrix\u001b[0;34m(estimator, X, y_true, labels, sample_weight, normalize, display_labels, include_values, xticks_rotation, values_format, cmap, ax)\u001b[0m\n\u001b[1;32m    183\u001b[0m         \u001b[0;32mraise\u001b[0m \u001b[0mValueError\u001b[0m\u001b[0;34m(\u001b[0m\u001b[0;34m\"plot_confusion_matrix only supports classifiers\"\u001b[0m\u001b[0;34m)\u001b[0m\u001b[0;34m\u001b[0m\u001b[0;34m\u001b[0m\u001b[0m\n\u001b[1;32m    184\u001b[0m \u001b[0;34m\u001b[0m\u001b[0m\n\u001b[0;32m--> 185\u001b[0;31m     \u001b[0my_pred\u001b[0m \u001b[0;34m=\u001b[0m \u001b[0mestimator\u001b[0m\u001b[0;34m.\u001b[0m\u001b[0mpredict\u001b[0m\u001b[0;34m(\u001b[0m\u001b[0mX\u001b[0m\u001b[0;34m)\u001b[0m\u001b[0;34m\u001b[0m\u001b[0;34m\u001b[0m\u001b[0m\n\u001b[0m\u001b[1;32m    186\u001b[0m     cm = confusion_matrix(y_true, y_pred, sample_weight=sample_weight,\n\u001b[1;32m    187\u001b[0m                           labels=labels, normalize=normalize)\n",
            "\u001b[0;32m/usr/local/lib/python3.6/dist-packages/sklearn/utils/metaestimators.py\u001b[0m in \u001b[0;36m<lambda>\u001b[0;34m(*args, **kwargs)\u001b[0m\n\u001b[1;32m    114\u001b[0m \u001b[0;34m\u001b[0m\u001b[0m\n\u001b[1;32m    115\u001b[0m         \u001b[0;31m# lambda, but not partial, allows help() to work with update_wrapper\u001b[0m\u001b[0;34m\u001b[0m\u001b[0;34m\u001b[0m\u001b[0;34m\u001b[0m\u001b[0m\n\u001b[0;32m--> 116\u001b[0;31m         \u001b[0mout\u001b[0m \u001b[0;34m=\u001b[0m \u001b[0;32mlambda\u001b[0m \u001b[0;34m*\u001b[0m\u001b[0margs\u001b[0m\u001b[0;34m,\u001b[0m \u001b[0;34m**\u001b[0m\u001b[0mkwargs\u001b[0m\u001b[0;34m:\u001b[0m \u001b[0mself\u001b[0m\u001b[0;34m.\u001b[0m\u001b[0mfn\u001b[0m\u001b[0;34m(\u001b[0m\u001b[0mobj\u001b[0m\u001b[0;34m,\u001b[0m \u001b[0;34m*\u001b[0m\u001b[0margs\u001b[0m\u001b[0;34m,\u001b[0m \u001b[0;34m**\u001b[0m\u001b[0mkwargs\u001b[0m\u001b[0;34m)\u001b[0m\u001b[0;34m\u001b[0m\u001b[0;34m\u001b[0m\u001b[0m\n\u001b[0m\u001b[1;32m    117\u001b[0m         \u001b[0;31m# update the docstring of the returned function\u001b[0m\u001b[0;34m\u001b[0m\u001b[0;34m\u001b[0m\u001b[0;34m\u001b[0m\u001b[0m\n\u001b[1;32m    118\u001b[0m         \u001b[0mupdate_wrapper\u001b[0m\u001b[0;34m(\u001b[0m\u001b[0mout\u001b[0m\u001b[0;34m,\u001b[0m \u001b[0mself\u001b[0m\u001b[0;34m.\u001b[0m\u001b[0mfn\u001b[0m\u001b[0;34m)\u001b[0m\u001b[0;34m\u001b[0m\u001b[0;34m\u001b[0m\u001b[0m\n",
            "\u001b[0;32m/usr/local/lib/python3.6/dist-packages/sklearn/model_selection/_search.py\u001b[0m in \u001b[0;36mpredict\u001b[0;34m(self, X)\u001b[0m\n\u001b[1;32m    475\u001b[0m         \"\"\"\n\u001b[1;32m    476\u001b[0m         \u001b[0mself\u001b[0m\u001b[0;34m.\u001b[0m\u001b[0m_check_is_fitted\u001b[0m\u001b[0;34m(\u001b[0m\u001b[0;34m'predict'\u001b[0m\u001b[0;34m)\u001b[0m\u001b[0;34m\u001b[0m\u001b[0;34m\u001b[0m\u001b[0m\n\u001b[0;32m--> 477\u001b[0;31m         \u001b[0;32mreturn\u001b[0m \u001b[0mself\u001b[0m\u001b[0;34m.\u001b[0m\u001b[0mbest_estimator_\u001b[0m\u001b[0;34m.\u001b[0m\u001b[0mpredict\u001b[0m\u001b[0;34m(\u001b[0m\u001b[0mX\u001b[0m\u001b[0;34m)\u001b[0m\u001b[0;34m\u001b[0m\u001b[0;34m\u001b[0m\u001b[0m\n\u001b[0m\u001b[1;32m    478\u001b[0m \u001b[0;34m\u001b[0m\u001b[0m\n\u001b[1;32m    479\u001b[0m     \u001b[0;34m@\u001b[0m\u001b[0mif_delegate_has_method\u001b[0m\u001b[0;34m(\u001b[0m\u001b[0mdelegate\u001b[0m\u001b[0;34m=\u001b[0m\u001b[0;34m(\u001b[0m\u001b[0;34m'best_estimator_'\u001b[0m\u001b[0;34m,\u001b[0m \u001b[0;34m'estimator'\u001b[0m\u001b[0;34m)\u001b[0m\u001b[0;34m)\u001b[0m\u001b[0;34m\u001b[0m\u001b[0;34m\u001b[0m\u001b[0m\n",
            "\u001b[0;31mAttributeError\u001b[0m: 'GridSearchCV' object has no attribute 'best_estimator_'"
          ]
        }
      ]
    },
    {
      "cell_type": "code",
      "metadata": {
        "id": "tq-_lBYdCMRD"
      },
      "source": [
        "from sklearn.metrics import plot_precision_recall_curve\n"
      ],
      "execution_count": 30,
      "outputs": []
    },
    {
      "cell_type": "code",
      "metadata": {
        "id": "YlPuoHGkCkt4"
      },
      "source": [
        "plot_precision_recall_curve(rf_grid_search, test_summary_df, test_y_df)  # doctest: +SKIP\n"
      ],
      "execution_count": null,
      "outputs": []
    },
    {
      "cell_type": "code",
      "metadata": {
        "id": "Xgg9ye6FCn_k"
      },
      "source": [
        "from sklearn.metrics import precision_recall_curve"
      ],
      "execution_count": 32,
      "outputs": []
    },
    {
      "cell_type": "code",
      "metadata": {
        "id": "gQrPjFVJC6C2"
      },
      "source": [
        "precision_recall_curve(test_y_df, rf_predictions)"
      ],
      "execution_count": null,
      "outputs": []
    },
    {
      "cell_type": "code",
      "metadata": {
        "id": "VGtCGbBOC8rN"
      },
      "source": [
        "from sklearn.metrics import f1_score"
      ],
      "execution_count": 33,
      "outputs": []
    },
    {
      "cell_type": "code",
      "metadata": {
        "id": "wWS10rmgELij"
      },
      "source": [
        "f1_score(test_y_df, rf_predictions)"
      ],
      "execution_count": null,
      "outputs": []
    },
    {
      "cell_type": "code",
      "metadata": {
        "id": "cpqJbFmdEOJZ"
      },
      "source": [
        "from sklearn.metrics import plot_roc_curve\n"
      ],
      "execution_count": 34,
      "outputs": []
    },
    {
      "cell_type": "code",
      "metadata": {
        "id": "qZKbWNrLFlqh"
      },
      "source": [
        "plot_roc_curve(rf_grid_search, test_summary_df, test_y_df)"
      ],
      "execution_count": null,
      "outputs": []
    },
    {
      "cell_type": "markdown",
      "metadata": {
        "id": "FWFF0EG4Mc86"
      },
      "source": [
        "### PreProcessing Pipeline\n",
        "\n",
        "It seems that a RandomForest is not a good fit for this task, it's just a little bit better than flipping a coin.\n"
      ]
    },
    {
      "cell_type": "code",
      "metadata": {
        "id": "4e4nLenRN9ZS"
      },
      "source": [
        "# should define preprocessing parameters\n",
        "grid_parameters = {\n",
        "    'tfidf_vec__ngram_range': ((1, 2), (1, 3)), # bigrams, trigrams and unigrams\n",
        "    # 'tfidf_vec__norm': ('l2', 'l1'),\n",
        "    'tfidf_vec__max_df': (0.5, 0.75, 1.0),\n",
        "    # 'tfidf_vec__max_features': (None, 5000, 10000, 50000),\n",
        "    # 'tfidf_vec__strip_accents': (None, 'unicode')\n",
        "    # 'tfidf_vec__use_idf': (True, False),\n",
        "    #'tfidf_vec__sublinear_tf': (True, False),\n",
        "    # 'clf__n_estimators': (500, 1000)\n",
        "}"
      ],
      "execution_count": 35,
      "outputs": []
    },
    {
      "cell_type": "markdown",
      "metadata": {
        "id": "nO8CbL96skgF"
      },
      "source": [
        "### SGD with Summary"
      ]
    },
    {
      "cell_type": "code",
      "metadata": {
        "id": "5KlK-TtqMrQ1"
      },
      "source": [
        "sgd_pipeline = Pipeline([\n",
        "    ('tfidf_vec', TfidfVectorizer(tokenizer=tokenize_summary, norm='l2', sublinear_tf=True)),\n",
        "    ('svd', TruncatedSVD(n_components=10)),\n",
        "    ('normalizer', Normalizer()),\n",
        "    ('clf', SGDClassifier(loss=\"hinge\", penalty=\"l2\", max_iter=5))\n",
        "])"
      ],
      "execution_count": null,
      "outputs": []
    },
    {
      "cell_type": "code",
      "metadata": {
        "id": "7CWqyIfBOPk9"
      },
      "source": [
        "sgd_grid_search = GridSearchCV(sgd_pipeline, grid_parameters, n_jobs=-1, verbose=1, scoring=make_scorer(f1_score), cv=2)"
      ],
      "execution_count": null,
      "outputs": []
    },
    {
      "cell_type": "code",
      "metadata": {
        "id": "gFNsgdxyMtsq",
        "outputId": "859436d7-f8f8-4a9e-99b1-e1f0a1a4ce16",
        "colab": {
          "base_uri": "https://localhost:8080/",
          "height": 695
        }
      },
      "source": [
        "sgd_grid_search.fit(train_summary_df, train_y_df.astype('int'))"
      ],
      "execution_count": null,
      "outputs": [
        {
          "output_type": "stream",
          "text": [
            "Fitting 2 folds for each of 6 candidates, totalling 12 fits\n"
          ],
          "name": "stdout"
        },
        {
          "output_type": "stream",
          "text": [
            "[Parallel(n_jobs=-1)]: Using backend LokyBackend with 2 concurrent workers.\n",
            "[Parallel(n_jobs=-1)]: Done  12 out of  12 | elapsed:   45.9s finished\n",
            "/usr/local/lib/python3.6/dist-packages/sklearn/linear_model/_stochastic_gradient.py:557: ConvergenceWarning: Maximum number of iteration reached before convergence. Consider increasing max_iter to improve the fit.\n",
            "  ConvergenceWarning)\n"
          ],
          "name": "stderr"
        },
        {
          "output_type": "execute_result",
          "data": {
            "text/plain": [
              "GridSearchCV(cv=2, error_score=nan,\n",
              "             estimator=Pipeline(memory=None,\n",
              "                                steps=[('tfidf_vec',\n",
              "                                        TfidfVectorizer(analyzer='word',\n",
              "                                                        binary=False,\n",
              "                                                        decode_error='strict',\n",
              "                                                        dtype=<class 'numpy.float64'>,\n",
              "                                                        encoding='utf-8',\n",
              "                                                        input='content',\n",
              "                                                        lowercase=True,\n",
              "                                                        max_df=1.0,\n",
              "                                                        max_features=None,\n",
              "                                                        min_df=1,\n",
              "                                                        ngram_range=(1, 1),\n",
              "                                                        norm='l2',\n",
              "                                                        preprocessor=None,\n",
              "                                                        smooth_idf=True,\n",
              "                                                        stop_words=None,\n",
              "                                                        strip...\n",
              "                                                      n_jobs=None, penalty='l2',\n",
              "                                                      power_t=0.5,\n",
              "                                                      random_state=None,\n",
              "                                                      shuffle=True, tol=0.001,\n",
              "                                                      validation_fraction=0.1,\n",
              "                                                      verbose=0,\n",
              "                                                      warm_start=False))],\n",
              "                                verbose=False),\n",
              "             iid='deprecated', n_jobs=-1,\n",
              "             param_grid={'tfidf_vec__max_df': (0.5, 0.75, 1.0),\n",
              "                         'tfidf_vec__ngram_range': ((1, 2), (1, 3))},\n",
              "             pre_dispatch='2*n_jobs', refit=True, return_train_score=False,\n",
              "             scoring=make_scorer(f1_score), verbose=1)"
            ]
          },
          "metadata": {
            "tags": []
          },
          "execution_count": 65
        }
      ]
    },
    {
      "cell_type": "code",
      "metadata": {
        "id": "eOnqDTD1OeWE"
      },
      "source": [
        "def plot_scores(clf, test_X, test_y):\n",
        "  plot_confusion_matrix(clf, test_X, test_y)\n",
        "  plt.show()\n",
        "  plot_precision_recall_curve(clf, test_X, test_y)\n",
        "  plt.show()\n",
        "  plot_roc_curve(clf, test_X, test_y)\n",
        "  plt.show()"
      ],
      "execution_count": 36,
      "outputs": []
    },
    {
      "cell_type": "code",
      "metadata": {
        "id": "1l6OAmohO7RX",
        "outputId": "d0720011-8892-4810-db4f-4046cde5856b",
        "colab": {
          "base_uri": "https://localhost:8080/",
          "height": 803
        }
      },
      "source": [
        "plot_scores(sgd_grid_search, test_summary_df, test_y_df)"
      ],
      "execution_count": null,
      "outputs": [
        {
          "output_type": "display_data",
          "data": {
            "image/png": "[encoded data removed]",
            "text/plain": [
              "<Figure size 432x288 with 2 Axes>"
            ]
          },
          "metadata": {
            "tags": [],
            "needs_background": "light"
          }
        },
        {
          "output_type": "display_data",
          "data": {
            "image/png": "[encoded data removed]",
            "text/plain": [
              "<Figure size 432x288 with 1 Axes>"
            ]
          },
          "metadata": {
            "tags": [],
            "needs_background": "light"
          }
        },
        {
          "output_type": "display_data",
          "data": {
            "image/png": "[encoded data removed]",
            "text/plain": [
              "<Figure size 432x288 with 1 Axes>"
            ]
          },
          "metadata": {
            "tags": [],
            "needs_background": "light"
          }
        }
      ]
    },
    {
      "cell_type": "code",
      "metadata": {
        "id": "rpcnq6Y5Pxi4"
      },
      "source": [
        "from sklearn.metrics import precision_score, recall_score\n"
      ],
      "execution_count": 28,
      "outputs": []
    },
    {
      "cell_type": "code",
      "metadata": {
        "id": "vdZ0CN2UPAw7"
      },
      "source": [
        "def print_scores(true_y, predicted_y):\n",
        "  print(f\"f1 Score: {f1_score(true_y, predicted_y)}\")\n",
        "  print(f\"accuracy score: {accuracy_score(true_y, predicted_y)}\")\n",
        "  print(f\"precision score: {precision_score(true_y, predicted_y)}\")\n",
        "  print(f\"recall_score: {recall_score(true_y, predicted_y)}\")"
      ],
      "execution_count": 37,
      "outputs": []
    },
    {
      "cell_type": "code",
      "metadata": {
        "id": "LWosnGpYP7t4",
        "outputId": "e5aa3010-3879-4442-c772-28ad82748d0d",
        "colab": {
          "base_uri": "https://localhost:8080/",
          "height": 88
        }
      },
      "source": [
        "print_scores(test_y_df, sgd_grid_search.predict(test_summary_df))"
      ],
      "execution_count": null,
      "outputs": [
        {
          "output_type": "stream",
          "text": [
            "f1 Score: 0.794287146078677\n",
            "accuracy score: 0.6587697423108895\n",
            "precision score: 0.6587697423108895\n",
            "recall_score: 1.0\n"
          ],
          "name": "stdout"
        }
      ]
    },
    {
      "cell_type": "markdown",
      "metadata": {
        "id": "dF5zGA4CsiSq"
      },
      "source": [
        "### NaiveBayes (Bernoulli) with Summary"
      ]
    },
    {
      "cell_type": "code",
      "metadata": {
        "id": "dTwAC_dwQArf"
      },
      "source": [
        "from sklearn.naive_bayes import BernoulliNB\n"
      ],
      "execution_count": 30,
      "outputs": []
    },
    {
      "cell_type": "code",
      "metadata": {
        "id": "agJh1F3asrxm"
      },
      "source": [
        "nb_pipeline = Pipeline([\n",
        "    ('tfidf_vec', TfidfVectorizer(tokenizer=tokenize_summary, norm='l2', sublinear_tf=True)),\n",
        "    ('svd', TruncatedSVD(n_components=10)),\n",
        "    ('normalizer', Normalizer()),\n",
        "    ('clf', BernoulliNB())\n",
        "])"
      ],
      "execution_count": null,
      "outputs": []
    },
    {
      "cell_type": "code",
      "metadata": {
        "id": "mIicn2pbs-PO"
      },
      "source": [
        "nb_grid_search = GridSearchCV(nb_pipeline, grid_parameters, n_jobs=-1, verbose=1, scoring=make_scorer(f1_score), cv=5)"
      ],
      "execution_count": null,
      "outputs": []
    },
    {
      "cell_type": "code",
      "metadata": {
        "id": "oIficny2tDUU",
        "outputId": "fd688e78-4bea-4b8c-91d3-8fd76caed4f6",
        "colab": {
          "base_uri": "https://localhost:8080/",
          "height": 622
        }
      },
      "source": [
        "nb_grid_search.fit(train_summary_df, train_y_df.astype('int'))"
      ],
      "execution_count": null,
      "outputs": [
        {
          "output_type": "stream",
          "text": [
            "Fitting 5 folds for each of 6 candidates, totalling 30 fits\n"
          ],
          "name": "stdout"
        },
        {
          "output_type": "stream",
          "text": [
            "[Parallel(n_jobs=-1)]: Using backend LokyBackend with 2 concurrent workers.\n",
            "[Parallel(n_jobs=-1)]: Done  30 out of  30 | elapsed:  1.9min finished\n"
          ],
          "name": "stderr"
        },
        {
          "output_type": "execute_result",
          "data": {
            "text/plain": [
              "GridSearchCV(cv=5, error_score=nan,\n",
              "             estimator=Pipeline(memory=None,\n",
              "                                steps=[('tfidf_vec',\n",
              "                                        TfidfVectorizer(analyzer='word',\n",
              "                                                        binary=False,\n",
              "                                                        decode_error='strict',\n",
              "                                                        dtype=<class 'numpy.float64'>,\n",
              "                                                        encoding='utf-8',\n",
              "                                                        input='content',\n",
              "                                                        lowercase=True,\n",
              "                                                        max_df=1.0,\n",
              "                                                        max_features=None,\n",
              "                                                        min_df=1,\n",
              "                                                        ngram_range=(1, 1),\n",
              "                                                        norm='l2',\n",
              "                                                        preprocessor=None,\n",
              "                                                        smooth_idf=True,\n",
              "                                                        stop_words=None,\n",
              "                                                        strip...\n",
              "                                       ('normalizer',\n",
              "                                        Normalizer(copy=True, norm='l2')),\n",
              "                                       ('clf',\n",
              "                                        BernoulliNB(alpha=1.0, binarize=0.0,\n",
              "                                                    class_prior=None,\n",
              "                                                    fit_prior=True))],\n",
              "                                verbose=False),\n",
              "             iid='deprecated', n_jobs=-1,\n",
              "             param_grid={'tfidf_vec__max_df': (0.5, 0.75, 1.0),\n",
              "                         'tfidf_vec__ngram_range': ((1, 2), (1, 3))},\n",
              "             pre_dispatch='2*n_jobs', refit=True, return_train_score=False,\n",
              "             scoring=make_scorer(f1_score), verbose=1)"
            ]
          },
          "metadata": {
            "tags": []
          },
          "execution_count": 81
        }
      ]
    },
    {
      "cell_type": "code",
      "metadata": {
        "id": "EQ4spfnKtG2V",
        "outputId": "bf62d42d-01c3-496a-8302-4ff46e9039e6",
        "colab": {
          "base_uri": "https://localhost:8080/",
          "height": 803
        }
      },
      "source": [
        "plot_scores(nb_grid_search, test_summary_df, test_y_df)"
      ],
      "execution_count": null,
      "outputs": [
        {
          "output_type": "display_data",
          "data": {
            "image/png": "[encoded data removed]",
            "text/plain": [
              "<Figure size 432x288 with 2 Axes>"
            ]
          },
          "metadata": {
            "tags": [],
            "needs_background": "light"
          }
        },
        {
          "output_type": "display_data",
          "data": {
            "image/png": "[encoded data removed]",
            "text/plain": [
              "<Figure size 432x288 with 1 Axes>"
            ]
          },
          "metadata": {
            "tags": [],
            "needs_background": "light"
          }
        },
        {
          "output_type": "display_data",
          "data": {
            "image/png": "[encoded data removed]",
            "text/plain": [
              "<Figure size 432x288 with 1 Axes>"
            ]
          },
          "metadata": {
            "tags": [],
            "needs_background": "light"
          }
        }
      ]
    },
    {
      "cell_type": "code",
      "metadata": {
        "id": "aUKM6YOktUHV",
        "outputId": "e89cae95-f005-4195-e216-af1ad88ed213",
        "colab": {
          "base_uri": "https://localhost:8080/",
          "height": 88
        }
      },
      "source": [
        "print_scores(test_y_df, nb_grid_search.predict(test_summary_df))"
      ],
      "execution_count": null,
      "outputs": [
        {
          "output_type": "stream",
          "text": [
            "f1 Score: 0.794287146078677\n",
            "accuracy score: 0.6587697423108895\n",
            "precision score: 0.6587697423108895\n",
            "recall_score: 1.0\n"
          ],
          "name": "stdout"
        }
      ]
    },
    {
      "cell_type": "code",
      "metadata": {
        "id": "NOfDyLKkxFMD"
      },
      "source": [
        "from sklearn.metrics import classification_report"
      ],
      "execution_count": 31,
      "outputs": []
    },
    {
      "cell_type": "code",
      "metadata": {
        "id": "k5vi8hZ2xFqk",
        "outputId": "4c69b31d-1797-474d-cdeb-0ab830b9ae2a",
        "colab": {
          "base_uri": "https://localhost:8080/",
          "height": 233
        }
      },
      "source": [
        "print(classification_report(test_y_df, nb_grid_search.predict(test_summary_df)))"
      ],
      "execution_count": null,
      "outputs": [
        {
          "output_type": "stream",
          "text": [
            "              precision    recall  f1-score   support\n",
            "\n",
            "           0       0.00      0.00      0.00      3284\n",
            "           1       0.66      1.00      0.79      6340\n",
            "\n",
            "    accuracy                           0.66      9624\n",
            "   macro avg       0.33      0.50      0.40      9624\n",
            "weighted avg       0.43      0.66      0.52      9624\n",
            "\n"
          ],
          "name": "stdout"
        },
        {
          "output_type": "stream",
          "text": [
            "/usr/local/lib/python3.6/dist-packages/sklearn/metrics/_classification.py:1272: UndefinedMetricWarning: Precision and F-score are ill-defined and being set to 0.0 in labels with no predicted samples. Use `zero_division` parameter to control this behavior.\n",
            "  _warn_prf(average, modifier, msg_start, len(result))\n"
          ],
          "name": "stderr"
        }
      ]
    },
    {
      "cell_type": "markdown",
      "metadata": {
        "id": "AWWULxPC3Z_M"
      },
      "source": [
        "### Training with reviewText"
      ]
    },
    {
      "cell_type": "code",
      "metadata": {
        "id": "mge15LIuxJlg"
      },
      "source": [
        "train_reviewText_df = train_df['reviewText'].copy()"
      ],
      "execution_count": null,
      "outputs": []
    },
    {
      "cell_type": "markdown",
      "metadata": {
        "id": "_3T7KgwW3vJT"
      },
      "source": [
        "### SGD"
      ]
    },
    {
      "cell_type": "code",
      "metadata": {
        "id": "VIJJeR3V3oDt"
      },
      "source": [
        "sgd_grid_search.fit(train_reviewText_df, train_y_df.astype('int'))"
      ],
      "execution_count": null,
      "outputs": []
    },
    {
      "cell_type": "code",
      "metadata": {
        "id": "RG4ht8pQ31C-"
      },
      "source": [
        "plot_scores(sgd_grid_search, test_df['reviewText'], test_y_df)"
      ],
      "execution_count": null,
      "outputs": []
    },
    {
      "cell_type": "code",
      "metadata": {
        "id": "cZu3sR884-dY"
      },
      "source": [
        "print(classification_report(test_y_df, sgd_grid_search.predict(test_df['reviewText'])))"
      ],
      "execution_count": null,
      "outputs": []
    },
    {
      "cell_type": "code",
      "metadata": {
        "id": "2FBUl4Ja7qpI"
      },
      "source": [
        "print_scores(test_y_df, nb_grid_search.predict(test_df['reviewText']))"
      ],
      "execution_count": null,
      "outputs": []
    },
    {
      "cell_type": "markdown",
      "metadata": {
        "id": "aTIimc8q88SJ"
      },
      "source": [
        "It kind of makes sense for the algorithms to fail much more for `0` if we take a sample of 10:"
      ]
    },
    {
      "cell_type": "code",
      "metadata": {
        "id": "hm7Igdyb90xj"
      },
      "source": [
        "pd.get_option('display.max_columns')"
      ],
      "execution_count": null,
      "outputs": []
    },
    {
      "cell_type": "code",
      "metadata": {
        "id": "cX50gGru-XGK"
      },
      "source": [
        "pd.get_option('display.max_colwidth')"
      ],
      "execution_count": null,
      "outputs": []
    },
    {
      "cell_type": "code",
      "metadata": {
        "id": "w6B5lF6R96Fb"
      },
      "source": [
        "pd.set_option('display.max_columns', None)"
      ],
      "execution_count": null,
      "outputs": []
    },
    {
      "cell_type": "code",
      "metadata": {
        "id": "iJXo1vS_-Zx0"
      },
      "source": [
        "pd.set_option('display.max_colwidth', None)"
      ],
      "execution_count": null,
      "outputs": []
    },
    {
      "cell_type": "code",
      "metadata": {
        "id": "iXNuiqxG9CXn"
      },
      "source": [
        "test_df[test_df['target'] == 0][['reviewText', 'target']].sample(10)"
      ],
      "execution_count": null,
      "outputs": []
    },
    {
      "cell_type": "code",
      "metadata": {
        "id": "Nik61s8ZBTBE"
      },
      "source": [
        "pd.set_option('display.max_colwidth', 50)"
      ],
      "execution_count": null,
      "outputs": []
    },
    {
      "cell_type": "markdown",
      "metadata": {
        "id": "T1Br1prk-rQQ"
      },
      "source": [
        "But it also seem that a lot of this review use words like `not`, `no` which are removed by the `nltk stopwords` list that we are currently using, would the results improve if we search and use different a list?\n",
        "\n",
        "We've already read something [related to this in the `sklearn` documentation ](https://scikit-learn.org/stable/modules/feature_extraction.html#using-stop-words) \n",
        "\n",
        "> There are several known issues in our provided ‘english’ stop word list. It does not aim to be a general, ‘one-size-fits-all’ solution as some tasks may require a more custom solution. See [NQY18] for more details.\n",
        "\n",
        "> Please take care in choosing a stop word list. Popular stop word lists may include words that are highly informative to some tasks, such as computer.\n",
        "\n",
        "\n",
        "But the paper mentioned in there doesn't seem to provide a list of alternatives."
      ]
    },
    {
      "cell_type": "markdown",
      "metadata": {
        "id": "y6RcVDyU_oJN"
      },
      "source": [
        "The [first result](https://www.quora.com/Is-there-a-stop-word-list-specifically-designed-for-sentiment-analysis?share=1) for the [search \"stopwords for sentiment analysis\"](https://duckduckgo.com/?t=ffab&q=stopwords+for+sentiment+analysis&atb=v202-1&ia=web) has post with people recommending:\n",
        "\n",
        "\n",
        "- Not using stop words...\n",
        "- Generating a [custom list of stop words](http://kavita-ganesan.com/tips-for-constructing-custom-stop-word-lists/#.W5lir5NKhQI).\n",
        "- Links to two papers that explain how to build sentiment analysis.\n",
        "\n",
        "\n",
        "One of the papers mentioned has a section with the name [\"Stopword removal methods\"](http://www.lrec-conf.org/proceedings/lrec2014/pdf/292_Paper.pdf) which mentions multiple approach to generate stopwords."
      ]
    },
    {
      "cell_type": "markdown",
      "metadata": {
        "id": "Wgka_ytOA48f"
      },
      "source": [
        "#### Not using stopwords\n",
        "\n",
        "Just out of curiosity, we are going to use a tokenizer function that uses no stopwords."
      ]
    },
    {
      "cell_type": "code",
      "metadata": {
        "id": "IVY3igQ19G5b"
      },
      "source": [
        "def tokenize_summary_no_stopwords(summary: str, tknzr=TweetTokenizer()) -> List[str]:\n",
        "  tokens = tknzr.tokenize(summary.lower())\n",
        "  # words = [w for w in tokens if w not in en_stopwords]\n",
        "  return [ snowball_stemmer.stem(w) for w in tokens]"
      ],
      "execution_count": 38,
      "outputs": []
    },
    {
      "cell_type": "markdown",
      "metadata": {
        "id": "p4X1i09IBiSC"
      },
      "source": [
        "##### Bernoulli Naive Bayes pipeline with no stop words."
      ]
    },
    {
      "cell_type": "code",
      "metadata": {
        "id": "qhYXGuElBdBR"
      },
      "source": [
        "nb_nostop_pipeline = Pipeline([\n",
        "    ('tfidf_vec', TfidfVectorizer(tokenizer=tokenize_summary_no_stopwords, norm='l2', sublinear_tf=True, max_df=0.5, stop_words='english', use_idf=True)),\n",
        "    ('svd', TruncatedSVD(n_components=10)),\n",
        "    ('normalizer', Normalizer()),\n",
        "    ('clf', BernoulliNB())\n",
        "])"
      ],
      "execution_count": null,
      "outputs": []
    },
    {
      "cell_type": "code",
      "metadata": {
        "id": "EvM5bINWBp9c"
      },
      "source": [
        "nb_nostop_grid_search = GridSearchCV(nb_nostop_pipeline, grid_parameters, n_jobs=-1, verbose=1, scoring=make_scorer(f1_score), cv=5)"
      ],
      "execution_count": null,
      "outputs": []
    },
    {
      "cell_type": "code",
      "metadata": {
        "id": "-dbJEaYSBu3x",
        "outputId": "c1e90897-d3bd-4944-c8fa-0a2193fc8935",
        "colab": {
          "base_uri": "https://localhost:8080/",
          "height": 659
        }
      },
      "source": [
        "nb_nostop_grid_search.fit(train_summary_df, train_y_df.astype('int'))"
      ],
      "execution_count": null,
      "outputs": [
        {
          "output_type": "stream",
          "text": [
            "Fitting 5 folds for each of 6 candidates, totalling 30 fits\n"
          ],
          "name": "stdout"
        },
        {
          "output_type": "stream",
          "text": [
            "[Parallel(n_jobs=-1)]: Using backend LokyBackend with 2 concurrent workers.\n",
            "[Parallel(n_jobs=-1)]: Done  30 out of  30 | elapsed:  2.3min finished\n",
            "/usr/local/lib/python3.6/dist-packages/sklearn/feature_extraction/text.py:385: UserWarning: Your stop_words may be inconsistent with your preprocessing. Tokenizing the stop words generated tokens ['abov', 'afterward', 'alon', 'alreadi', 'alway', 'ani', 'anoth', 'anyon', 'anyth', 'anywher', 'becam', 'becaus', 'becom', 'befor', 'besid', 'cri', 'describ', 'dure', 'els', 'elsewher', 'empti', 'everi', 'everyon', 'everyth', 'everywher', 'fifti', 'forti', 'henc', 'hereaft', 'herebi', 'howev', 'hundr', 'inde', 'mani', 'meanwhil', 'moreov', 'nobodi', 'noon', 'noth', 'nowher', 'onc', 'onli', 'otherwis', 'ourselv', 'perhap', 'pleas', 'sever', 'sinc', 'sincer', 'sixti', 'someon', 'someth', 'sometim', 'somewher', 'themselv', 'thenc', 'thereaft', 'therebi', 'therefor', 'togeth', 'twelv', 'twenti', 'veri', 'whatev', 'whenc', 'whenev', 'wherea', 'whereaft', 'wherebi', 'wherev', 'whi', 'yourselv'] not in stop_words.\n",
            "  'stop_words.' % sorted(inconsistent))\n"
          ],
          "name": "stderr"
        },
        {
          "output_type": "execute_result",
          "data": {
            "text/plain": [
              "GridSearchCV(cv=5, error_score=nan,\n",
              "             estimator=Pipeline(memory=None,\n",
              "                                steps=[('tfidf_vec',\n",
              "                                        TfidfVectorizer(analyzer='word',\n",
              "                                                        binary=False,\n",
              "                                                        decode_error='strict',\n",
              "                                                        dtype=<class 'numpy.float64'>,\n",
              "                                                        encoding='utf-8',\n",
              "                                                        input='content',\n",
              "                                                        lowercase=True,\n",
              "                                                        max_df=0.5,\n",
              "                                                        max_features=None,\n",
              "                                                        min_df=1,\n",
              "                                                        ngram_range=(1, 1),\n",
              "                                                        norm='l2',\n",
              "                                                        preprocessor=None,\n",
              "                                                        smooth_idf=True,\n",
              "                                                        stop_words='english',...\n",
              "                                       ('normalizer',\n",
              "                                        Normalizer(copy=True, norm='l2')),\n",
              "                                       ('clf',\n",
              "                                        BernoulliNB(alpha=1.0, binarize=0.0,\n",
              "                                                    class_prior=None,\n",
              "                                                    fit_prior=True))],\n",
              "                                verbose=False),\n",
              "             iid='deprecated', n_jobs=-1,\n",
              "             param_grid={'tfidf_vec__max_df': (0.5, 0.75, 1.0),\n",
              "                         'tfidf_vec__ngram_range': ((1, 2), (1, 3))},\n",
              "             pre_dispatch='2*n_jobs', refit=True, return_train_score=False,\n",
              "             scoring=make_scorer(f1_score), verbose=1)"
            ]
          },
          "metadata": {
            "tags": []
          },
          "execution_count": 89
        }
      ]
    },
    {
      "cell_type": "code",
      "metadata": {
        "id": "MbgB2CbHB51p",
        "outputId": "b929ff57-a56c-45b8-d6d0-40ae70f6849f",
        "colab": {
          "base_uri": "https://localhost:8080/",
          "height": 88
        }
      },
      "source": [
        "print_scores(test_y_df, nb_nostop_grid_search.predict(test_df['summary']))"
      ],
      "execution_count": null,
      "outputs": [
        {
          "output_type": "stream",
          "text": [
            "f1 Score: 0.794287146078677\n",
            "accuracy score: 0.6587697423108895\n",
            "precision score: 0.6587697423108895\n",
            "recall_score: 1.0\n"
          ],
          "name": "stdout"
        }
      ]
    },
    {
      "cell_type": "code",
      "metadata": {
        "id": "zekfeUxOCK7E",
        "outputId": "18198870-75db-40c8-e33b-ca014cba02d1",
        "colab": {
          "base_uri": "https://localhost:8080/",
          "height": 803
        }
      },
      "source": [
        "plot_scores(nb_nostop_grid_search, test_df['summary'], test_y_df)"
      ],
      "execution_count": null,
      "outputs": [
        {
          "output_type": "display_data",
          "data": {
            "image/png": "[encoded data removed]",
            "text/plain": [
              "<Figure size 432x288 with 2 Axes>"
            ]
          },
          "metadata": {
            "tags": [],
            "needs_background": "light"
          }
        },
        {
          "output_type": "display_data",
          "data": {
            "image/png": "[encoded data removed]",
            "text/plain": [
              "<Figure size 432x288 with 1 Axes>"
            ]
          },
          "metadata": {
            "tags": [],
            "needs_background": "light"
          }
        },
        {
          "output_type": "display_data",
          "data": {
            "image/png": "[encoded data removed]",
            "text/plain": [
              "<Figure size 432x288 with 1 Axes>"
            ]
          },
          "metadata": {
            "tags": [],
            "needs_background": "light"
          }
        }
      ]
    },
    {
      "cell_type": "markdown",
      "metadata": {
        "id": "E4CPU3M-DFUk"
      },
      "source": [
        "Naive Bayes did worse... there also more false negative and false positives."
      ]
    },
    {
      "cell_type": "markdown",
      "metadata": {
        "id": "a5losKmfDzqL"
      },
      "source": [
        "##### Using SGD with no stop words"
      ]
    },
    {
      "cell_type": "code",
      "metadata": {
        "id": "6cSmFZhbEsCy"
      },
      "source": [
        "def metrics_for_classifier(clf, train_X, train_y, test_X, test_y, tokenizer=tokenize_summary, parameters=grid_parameters):\n",
        "  pipeline = Pipeline([\n",
        "    ('tfidf_vec', TfidfVectorizer(tokenizer=tokenizer, norm='l2', sublinear_tf=True)),\n",
        "    ('svd', TruncatedSVD(n_components=100)),\n",
        "    ('normalizer', Normalizer()),\n",
        "    ('clf', clf)])\n",
        "  clf_grid = GridSearchCV(pipeline, parameters, n_jobs=-1, verbose=1, scoring=make_scorer(f1_score), cv=5)\n",
        "  clf_grid.fit(train_X, train_y)\n",
        "  print_scores(test_y, clf_grid.predict(test_X))\n",
        "  plot_scores(clf_grid, test_X, test_y)\n",
        "  return (pipeline, clf_grid)"
      ],
      "execution_count": 39,
      "outputs": []
    },
    {
      "cell_type": "code",
      "metadata": {
        "id": "nRxhi7uAHPgZ",
        "outputId": "540f49a4-d3a5-4015-83cf-f6b5447c1385",
        "colab": {
          "base_uri": "https://localhost:8080/",
          "height": 874
        }
      },
      "source": [
        "pipeline, sgdc_nostop_clf = metrics_for_classifier(SGDClassifier(), train_summary_df, train_y_df.astype('int'), test_df['summary'], test_df['target'])"
      ],
      "execution_count": null,
      "outputs": [
        {
          "output_type": "stream",
          "text": [
            "f1 Score: 0.794287146078677\n",
            "accuracy score: 0.6587697423108895\n",
            "precision score: 0.6587697423108895\n",
            "recall_score: 1.0\n"
          ],
          "name": "stdout"
        },
        {
          "output_type": "display_data",
          "data": {
            "image/png": "[encoded data removed]",
            "text/plain": [
              "<Figure size 432x288 with 2 Axes>"
            ]
          },
          "metadata": {
            "tags": [],
            "needs_background": "light"
          }
        },
        {
          "output_type": "display_data",
          "data": {
            "image/png": "[encoded data removed]",
            "text/plain": [
              "<Figure size 432x288 with 1 Axes>"
            ]
          },
          "metadata": {
            "tags": [],
            "needs_background": "light"
          }
        },
        {
          "output_type": "display_data",
          "data": {
            "image/png": "[encoded data removed]",
            "text/plain": [
              "<Figure size 432x288 with 1 Axes>"
            ]
          },
          "metadata": {
            "tags": [],
            "needs_background": "light"
          }
        }
      ]
    },
    {
      "cell_type": "markdown",
      "metadata": {
        "id": "YpVIaZUAQFxT"
      },
      "source": [
        "\n",
        "### SGD no stop words in tokenizer with no punctuation."
      ]
    },
    {
      "cell_type": "code",
      "metadata": {
        "id": "2UJZqs0MQLwq"
      },
      "source": [
        "from nltk.tokenize import RegexpTokenizer"
      ],
      "execution_count": 40,
      "outputs": []
    },
    {
      "cell_type": "code",
      "metadata": {
        "id": "3BtKYq6DQUg8"
      },
      "source": [
        "rt = RegexpTokenizer('[a-zA-Z0-9\\.\\!]+')"
      ],
      "execution_count": 41,
      "outputs": []
    },
    {
      "cell_type": "code",
      "metadata": {
        "id": "j9hIsR8bQ1fC"
      },
      "source": [
        "def regextokenizer(sentence):\n",
        "  tokens = rt.tokenize(sentence)\n",
        "  return [snowball_stemmer.stem(t.lower()) for t in tokens]"
      ],
      "execution_count": 42,
      "outputs": []
    },
    {
      "cell_type": "code",
      "metadata": {
        "id": "pXgrb-rqQKgk",
        "outputId": "8fd6e1bc-3630-46bc-8e3c-ee1524c3df61",
        "colab": {
          "base_uri": "https://localhost:8080/",
          "height": 874
        }
      },
      "source": [
        "pipeline, sgdclf = metrics_for_classifier(SGDClassifier(), train_df['summary'], train_df['target'], test_df['summary'], test_df['target'], tokenizer=regextokenizer)"
      ],
      "execution_count": 56,
      "outputs": [
        {
          "output_type": "stream",
          "text": [
            "f1 Score: 0.794287146078677\n",
            "accuracy score: 0.6587697423108895\n",
            "precision score: 0.6587697423108895\n",
            "recall_score: 1.0\n"
          ],
          "name": "stdout"
        },
        {
          "output_type": "display_data",
          "data": {
            "image/png": "[encoded data removed]",
            "text/plain": [
              "<Figure size 432x288 with 2 Axes>"
            ]
          },
          "metadata": {
            "tags": [],
            "needs_background": "light"
          }
        },
        {
          "output_type": "display_data",
          "data": {
            "image/png": "[encoded data removed]",
            "text/plain": [
              "<Figure size 432x288 with 1 Axes>"
            ]
          },
          "metadata": {
            "tags": [],
            "needs_background": "light"
          }
        },
        {
          "output_type": "display_data",
          "data": {
            "image/png": "[encoded data removed]",
            "text/plain": [
              "<Figure size 432x288 with 1 Axes>"
            ]
          },
          "metadata": {
            "tags": [],
            "needs_background": "light"
          }
        }
      ]
    },
    {
      "cell_type": "code",
      "metadata": {
        "id": "Gvy_wG6IHkQD",
        "outputId": "2aa89fd2-5b70-45ba-92fe-49e89211ca51",
        "colab": {
          "base_uri": "https://localhost:8080/",
          "height": 466
        }
      },
      "source": [
        "pd.DataFrame(sgdclf.cv_results_)"
      ],
      "execution_count": 63,
      "outputs": [
        {
          "output_type": "execute_result",
          "data": {
            "text/html": [
              "<div>\n",
              "<style scoped>\n",
              "    .dataframe tbody tr th:only-of-type {\n",
              "        vertical-align: middle;\n",
              "    }\n",
              "\n",
              "    .dataframe tbody tr th {\n",
              "        vertical-align: top;\n",
              "    }\n",
              "\n",
              "    .dataframe thead th {\n",
              "        text-align: right;\n",
              "    }\n",
              "</style>\n",
              "<table border=\"1\" class=\"dataframe\">\n",
              "  <thead>\n",
              "    <tr style=\"text-align: right;\">\n",
              "      <th></th>\n",
              "      <th>mean_fit_time</th>\n",
              "      <th>std_fit_time</th>\n",
              "      <th>mean_score_time</th>\n",
              "      <th>std_score_time</th>\n",
              "      <th>param_tfidf_vec__max_df</th>\n",
              "      <th>param_tfidf_vec__ngram_range</th>\n",
              "      <th>params</th>\n",
              "      <th>split0_test_score</th>\n",
              "      <th>split1_test_score</th>\n",
              "      <th>split2_test_score</th>\n",
              "      <th>split3_test_score</th>\n",
              "      <th>split4_test_score</th>\n",
              "      <th>mean_test_score</th>\n",
              "      <th>std_test_score</th>\n",
              "      <th>rank_test_score</th>\n",
              "    </tr>\n",
              "  </thead>\n",
              "  <tbody>\n",
              "    <tr>\n",
              "      <th>0</th>\n",
              "      <td>5.995180</td>\n",
              "      <td>0.088286</td>\n",
              "      <td>1.200302</td>\n",
              "      <td>0.063606</td>\n",
              "      <td>0.5</td>\n",
              "      <td>(1, 2)</td>\n",
              "      <td>{'tfidf_vec__max_df': 0.5, 'tfidf_vec__ngram_r...</td>\n",
              "      <td>0.794332</td>\n",
              "      <td>0.794394</td>\n",
              "      <td>0.7943</td>\n",
              "      <td>0.7943</td>\n",
              "      <td>0.7943</td>\n",
              "      <td>0.794325</td>\n",
              "      <td>0.000037</td>\n",
              "      <td>1</td>\n",
              "    </tr>\n",
              "    <tr>\n",
              "      <th>1</th>\n",
              "      <td>7.242828</td>\n",
              "      <td>0.132724</td>\n",
              "      <td>1.201549</td>\n",
              "      <td>0.104078</td>\n",
              "      <td>0.5</td>\n",
              "      <td>(1, 3)</td>\n",
              "      <td>{'tfidf_vec__max_df': 0.5, 'tfidf_vec__ngram_r...</td>\n",
              "      <td>0.794332</td>\n",
              "      <td>0.794394</td>\n",
              "      <td>0.7943</td>\n",
              "      <td>0.7943</td>\n",
              "      <td>0.7943</td>\n",
              "      <td>0.794325</td>\n",
              "      <td>0.000037</td>\n",
              "      <td>1</td>\n",
              "    </tr>\n",
              "    <tr>\n",
              "      <th>2</th>\n",
              "      <td>5.799702</td>\n",
              "      <td>0.078704</td>\n",
              "      <td>1.155035</td>\n",
              "      <td>0.068643</td>\n",
              "      <td>0.75</td>\n",
              "      <td>(1, 2)</td>\n",
              "      <td>{'tfidf_vec__max_df': 0.75, 'tfidf_vec__ngram_...</td>\n",
              "      <td>0.794332</td>\n",
              "      <td>0.794394</td>\n",
              "      <td>0.7943</td>\n",
              "      <td>0.7943</td>\n",
              "      <td>0.7943</td>\n",
              "      <td>0.794325</td>\n",
              "      <td>0.000037</td>\n",
              "      <td>1</td>\n",
              "    </tr>\n",
              "    <tr>\n",
              "      <th>3</th>\n",
              "      <td>6.983950</td>\n",
              "      <td>0.077466</td>\n",
              "      <td>1.243527</td>\n",
              "      <td>0.017471</td>\n",
              "      <td>0.75</td>\n",
              "      <td>(1, 3)</td>\n",
              "      <td>{'tfidf_vec__max_df': 0.75, 'tfidf_vec__ngram_...</td>\n",
              "      <td>0.794332</td>\n",
              "      <td>0.794394</td>\n",
              "      <td>0.7943</td>\n",
              "      <td>0.7943</td>\n",
              "      <td>0.7943</td>\n",
              "      <td>0.794325</td>\n",
              "      <td>0.000037</td>\n",
              "      <td>1</td>\n",
              "    </tr>\n",
              "    <tr>\n",
              "      <th>4</th>\n",
              "      <td>5.976939</td>\n",
              "      <td>0.367632</td>\n",
              "      <td>1.243885</td>\n",
              "      <td>0.070503</td>\n",
              "      <td>1</td>\n",
              "      <td>(1, 2)</td>\n",
              "      <td>{'tfidf_vec__max_df': 1.0, 'tfidf_vec__ngram_r...</td>\n",
              "      <td>0.794332</td>\n",
              "      <td>0.794394</td>\n",
              "      <td>0.7943</td>\n",
              "      <td>0.7943</td>\n",
              "      <td>0.7943</td>\n",
              "      <td>0.794325</td>\n",
              "      <td>0.000037</td>\n",
              "      <td>1</td>\n",
              "    </tr>\n",
              "    <tr>\n",
              "      <th>5</th>\n",
              "      <td>6.745943</td>\n",
              "      <td>0.674559</td>\n",
              "      <td>1.072056</td>\n",
              "      <td>0.201485</td>\n",
              "      <td>1</td>\n",
              "      <td>(1, 3)</td>\n",
              "      <td>{'tfidf_vec__max_df': 1.0, 'tfidf_vec__ngram_r...</td>\n",
              "      <td>0.794332</td>\n",
              "      <td>0.794394</td>\n",
              "      <td>0.7943</td>\n",
              "      <td>0.7943</td>\n",
              "      <td>0.7943</td>\n",
              "      <td>0.794325</td>\n",
              "      <td>0.000037</td>\n",
              "      <td>1</td>\n",
              "    </tr>\n",
              "  </tbody>\n",
              "</table>\n",
              "</div>"
            ],
            "text/plain": [
              "   mean_fit_time  std_fit_time  ...  std_test_score  rank_test_score\n",
              "0       5.995180      0.088286  ...        0.000037                1\n",
              "1       7.242828      0.132724  ...        0.000037                1\n",
              "2       5.799702      0.078704  ...        0.000037                1\n",
              "3       6.983950      0.077466  ...        0.000037                1\n",
              "4       5.976939      0.367632  ...        0.000037                1\n",
              "5       6.745943      0.674559  ...        0.000037                1\n",
              "\n",
              "[6 rows x 15 columns]"
            ]
          },
          "metadata": {
            "tags": []
          },
          "execution_count": 63
        }
      ]
    },
    {
      "cell_type": "code",
      "metadata": {
        "id": "ATKBvG7BJRXd"
      },
      "source": [
        "best_pipeline_sgdclf = sgdclf.best_estimator_"
      ],
      "execution_count": 65,
      "outputs": []
    },
    {
      "cell_type": "markdown",
      "metadata": {
        "id": "bPMo5hxp8tCM"
      },
      "source": [
        "### SVM no stop words in tokenizer with no punctuation.\n",
        "\n",
        "In the [Sentiment Symposium Tutorial: Classifiers](http://sentiment.christopherpotts.net/classifiers.html) it's mentioned that SVMs are a good contender for MaxEnt.\n",
        "\n",
        "> Support Vector Machines (likely to be competitive with MaxEnt; see Pang, Lee, and Vaithyanathan 2002).\n",
        "\n",
        "This is relevant because the paper mentions that MaxEnt is a good model for the \"sentiment analysis problem\".\n",
        "\n",
        "And going through the [sklearn's SVM page](https://scikit-learn.org/stable/modules/svm.html) the description of this algorithms mentions:\n",
        "\n",
        "> - Effective in high dimensional spaces.\n",
        "> - Still effective in cases where number of dimensions is greater than the number of samples.\n",
        "\n"
      ]
    },
    {
      "cell_type": "code",
      "metadata": {
        "id": "QzMMULqNFZO_"
      },
      "source": [
        "def metrics_for_classifier_nogrid(clf, train_X, train_y, test_X, test_y, tokenizer=tokenize_summary, parameters=grid_parameters):\n",
        "  pipeline = Pipeline([\n",
        "    ('tfidf_vec', best_pipeline_sgdclf['tfidf_vec']),\n",
        "    ('svd', best_pipeline_sgdclf['svd']),\n",
        "    ('normalizer', Normalizer()),\n",
        "    ('clf', clf)])\n",
        "  pipeline.fit(train_X, train_y)\n",
        "  # clf_grid = GridSearchCV(pipeline, parameters, n_jobs=-1, verbose=0, scoring=make_scorer(f1_score), cv=5)\n",
        "  # clf_grid.fit(train_X, train_y)\n",
        "  print_scores(test_y, pipeline.predict(test_X))\n",
        "  plot_scores(pipeline, test_X, test_y)\n",
        "  return (pipeline, pipeline)"
      ],
      "execution_count": 43,
      "outputs": []
    },
    {
      "cell_type": "code",
      "metadata": {
        "id": "TscjmVB1-Jsv"
      },
      "source": [
        "from sklearn import svm"
      ],
      "execution_count": 44,
      "outputs": []
    },
    {
      "cell_type": "code",
      "metadata": {
        "id": "3NZYzyU59HxC",
        "outputId": "5af0bd1f-5569-4646-f961-4364efd124e8",
        "colab": {
          "base_uri": "https://localhost:8080/",
          "height": 1000
        }
      },
      "source": [
        "metrics_for_classifier_nogrid(svm.LinearSVC(), train_df['summary'], train_df['target'], test_df['summary'], test_df['target'], tokenizer=regextokenizer)"
      ],
      "execution_count": 72,
      "outputs": [
        {
          "output_type": "stream",
          "text": [
            "f1 Score: 0.794287146078677\n",
            "accuracy score: 0.6587697423108895\n",
            "precision score: 0.6587697423108895\n",
            "recall_score: 1.0\n"
          ],
          "name": "stdout"
        },
        {
          "output_type": "display_data",
          "data": {
            "image/png": "[encoded data removed]",
            "text/plain": [
              "<Figure size 432x288 with 2 Axes>"
            ]
          },
          "metadata": {
            "tags": [],
            "needs_background": "light"
          }
        },
        {
          "output_type": "display_data",
          "data": {
            "image/png": "[encoded data removed]",
            "text/plain": [
              "<Figure size 432x288 with 1 Axes>"
            ]
          },
          "metadata": {
            "tags": [],
            "needs_background": "light"
          }
        },
        {
          "output_type": "display_data",
          "data": {
            "image/png": "[encoded data removed]",
            "text/plain": [
              "<Figure size 432x288 with 1 Axes>"
            ]
          },
          "metadata": {
            "tags": [],
            "needs_background": "light"
          }
        },
        {
          "output_type": "execute_result",
          "data": {
            "text/plain": [
              "(Pipeline(memory=None,\n",
              "          steps=[('tfidf_vec',\n",
              "                  TfidfVectorizer(analyzer='word', binary=False,\n",
              "                                  decode_error='strict',\n",
              "                                  dtype=<class 'numpy.float64'>,\n",
              "                                  encoding='utf-8', input='content',\n",
              "                                  lowercase=True, max_df=0.5, max_features=None,\n",
              "                                  min_df=1, ngram_range=(1, 2), norm='l2',\n",
              "                                  preprocessor=None, smooth_idf=True,\n",
              "                                  stop_words=None, strip_accents=None,\n",
              "                                  sublinear_tf=True,\n",
              "                                  token_patter...\n",
              "                 ('svd',\n",
              "                  TruncatedSVD(algorithm='randomized', n_components=2, n_iter=5,\n",
              "                               random_state=None, tol=0.0)),\n",
              "                 ('normalizer', Normalizer(copy=True, norm='l2')),\n",
              "                 ('clf',\n",
              "                  LinearSVC(C=1.0, class_weight=None, dual=True,\n",
              "                            fit_intercept=True, intercept_scaling=1,\n",
              "                            loss='squared_hinge', max_iter=1000,\n",
              "                            multi_class='ovr', penalty='l2', random_state=None,\n",
              "                            tol=0.0001, verbose=0))],\n",
              "          verbose=False), Pipeline(memory=None,\n",
              "          steps=[('tfidf_vec',\n",
              "                  TfidfVectorizer(analyzer='word', binary=False,\n",
              "                                  decode_error='strict',\n",
              "                                  dtype=<class 'numpy.float64'>,\n",
              "                                  encoding='utf-8', input='content',\n",
              "                                  lowercase=True, max_df=0.5, max_features=None,\n",
              "                                  min_df=1, ngram_range=(1, 2), norm='l2',\n",
              "                                  preprocessor=None, smooth_idf=True,\n",
              "                                  stop_words=None, strip_accents=None,\n",
              "                                  sublinear_tf=True,\n",
              "                                  token_patter...\n",
              "                 ('svd',\n",
              "                  TruncatedSVD(algorithm='randomized', n_components=2, n_iter=5,\n",
              "                               random_state=None, tol=0.0)),\n",
              "                 ('normalizer', Normalizer(copy=True, norm='l2')),\n",
              "                 ('clf',\n",
              "                  LinearSVC(C=1.0, class_weight=None, dual=True,\n",
              "                            fit_intercept=True, intercept_scaling=1,\n",
              "                            loss='squared_hinge', max_iter=1000,\n",
              "                            multi_class='ovr', penalty='l2', random_state=None,\n",
              "                            tol=0.0001, verbose=0))],\n",
              "          verbose=False))"
            ]
          },
          "metadata": {
            "tags": []
          },
          "execution_count": 72
        }
      ]
    },
    {
      "cell_type": "markdown",
      "metadata": {
        "id": "n5yqqSrT_Q3E"
      },
      "source": [
        "It seems svm.SVC [may not be the right algorithm](https://scikit-learn.org/stable/modules/generated/sklearn.svm.SVC.html) from this problem:\n",
        "\n",
        "> For large datasets consider using sklearn.svm.LinearSVC or sklearn.linear_model.SGDClassifier instead"
      ]
    },
    {
      "cell_type": "markdown",
      "metadata": {
        "id": "ffbZsPqJIDpF"
      },
      "source": [
        "The [paper](http://www.lrec-conf.org/proceedings/lrec2014/pdf/292_Paper.pdf) referenced in the first answer on quora gives a good rundown on how this task should be approached.\n",
        "\n",
        "They mentioned methods for stopwords, scoring methods, and models to use.\n",
        "\n",
        "On models they make use of:\n",
        "\n",
        "> , Maximum Entropy(MaxEnt) and Naive Bayes (NB) from Mallet.\n",
        "\n",
        "While sklearn has naive bayes it doesn't seem to have a model for Maximum Entropy, maybe is an old model or probably just fitted for a couple of tasks, however nltk do contain  both models: https://www.nltk.org/howto/classify.html\n",
        "\n",
        "The problem is that they have to be adapted to use with the pipeline but it should be worth trying."
      ]
    },
    {
      "cell_type": "markdown",
      "metadata": {
        "id": "KWAkGnYtL3dE"
      },
      "source": [
        "In one part **Methods based on Zipf’s Law(Z-Methods)** the paper mentions:\n",
        "\n",
        ">  removing most frequent words (TF-High) and removing words thatoccur once, i.e. singleton words (TF1). We also consider re-moving words with low inverse document frequency (IDF).To choose the number of words in the stoplists generated bythe aforementioned methods, we first rank the terms in eachdataset based on their frequencies (or the inverse documentfrequencies in the IDF method).\n",
        "\n",
        "\n",
        "That prompt me to look at the nltk documentation or google \"zipf nltk\" and that bring nothing or at least not a straighfoward result.\n",
        "\n",
        "However this page: https://www.nltk.org/howto/collocations.html mentions _Mutual Information_.\n",
        "\n",
        "Looking at the `sklearn TfidfVectorizer` documentation, since we are talking about _Tfidf_, it seems the instance of the algorithm has a `get_stopwords()` method, but going to the documentation it seems that it just returns the ginve stopwords or the english stopwords list."
      ]
    },
    {
      "cell_type": "markdown",
      "metadata": {
        "id": "2R2OdfSp2cak"
      },
      "source": [
        "## Trying nltk Maximum Entropy and Naive Bayes \n",
        "\n",
        "We have seen both algorithms being mentioned in multiple articles related to sentiment analysis:\n",
        "\n",
        "- http://www.lrec-conf.org/proceedings/lrec2014/pdf/292_Paper.pdf\n",
        "- http://sentiment.christopherpotts.net/classifiers.html\n",
        "- https://www.nltk.org/howto/sentiment.html\n",
        "- https://www.nltk.org/howto/classify.html\n",
        "\n",
        "\n",
        "And while is not still clear how to actually clasify with nltk the second link gives a pretty good insight and the nltk documentation explains what is necessary"
      ]
    },
    {
      "cell_type": "code",
      "metadata": {
        "id": "R8RDZ1uj2auI"
      },
      "source": [
        "import nltk\n",
        "from nltk.tokenize import TweetTokenizer"
      ],
      "execution_count": 49,
      "outputs": []
    },
    {
      "cell_type": "code",
      "metadata": {
        "id": "vTAKfghZ6XAN"
      },
      "source": [
        "import random\n",
        "from nltk.corpus import brown"
      ],
      "execution_count": 50,
      "outputs": []
    },
    {
      "cell_type": "code",
      "metadata": {
        "id": "3q4Dyv1t-PEp"
      },
      "source": [
        "tweet_tokenizer = TweetTokenizer(strip_handles=True)"
      ],
      "execution_count": 51,
      "outputs": []
    },
    {
      "cell_type": "code",
      "metadata": {
        "id": "C-8WgpDWB7Ft"
      },
      "source": [
        "nltk_train_tokens = [tweet_tokenizer.tokenize(summary.lower()) for summary in train_df['summary']]"
      ],
      "execution_count": 55,
      "outputs": []
    },
    {
      "cell_type": "markdown",
      "metadata": {
        "id": "L84YpUNrCa56"
      },
      "source": [
        "Selecting a stemmer.\n",
        "\n",
        "http://sentiment.christopherpotts.net/stemming.html\n",
        "\n",
        "It seems that the best option is PorterStemmer since Snowball is a more recent version we should be safe using it.\n"
      ]
    },
    {
      "cell_type": "code",
      "metadata": {
        "id": "hx_JJw2bCDB-"
      },
      "source": [
        "nltk_train_stem = list(map(lambda s: [snowball_stemmer.stem(word) for word in s], nltk_train_tokens))"
      ],
      "execution_count": 56,
      "outputs": []
    },
    {
      "cell_type": "markdown",
      "metadata": {
        "id": "yPiA1NurVAbC"
      },
      "source": [
        "Linguistic Structure\n",
        "\n",
        "http://sentiment.christopherpotts.net/lingstruc.html\n",
        "\n",
        "> identifying semantic groupings and relationships that are relevant for sentiment.\n",
        "\n",
        "Apparently we can add a marking to each token:\n",
        "\n",
        "> Definition: Negation marking\n",
        "\n",
        "> Append a _NEG suffix to every word appearing between a negation and a clause-level punctuation mark. \n",
        "\n",
        "They give an example with enjoy in which depending on the context, they grab the bigram for this, they mark the word with `_NEG` at the end.\n",
        "\n",
        "> the algorithm has literally turned enjoy into two tokens: enjoy outside of the scope of negation, enjoy_NEG inside the scope of negation. Thus, we needn't stipulate a relationship between the negated and un-negated forms; the sentiment analysis system can learn how the two behave.\n",
        "\n",
        "And it also seems this should be applied on the tokens before the stemming.\n",
        "\n",
        "\n",
        "The book [\"Machine Learning Algorithms\"](https://www.packtpub.com/product/machine-learning-algorithms/9781785889622) makes mention of VADER a module inside nltk to do sentiment analysis, reading that and the page linked before lead to me to review the nltk's sentiment package \"documentation\":\n",
        "\n",
        "- https://www.nltk.org/api/nltk.sentiment.html\n",
        "\n",
        "Which has a utility method: `nltk.sentiment.util.mark_negation` to do what's being mentioned before."
      ]
    },
    {
      "cell_type": "code",
      "metadata": {
        "id": "DFusFHcRWCm_"
      },
      "source": [
        "from nltk.sentiment.util import mark_negation"
      ],
      "execution_count": 53,
      "outputs": []
    },
    {
      "cell_type": "code",
      "metadata": {
        "id": "Z3qVrMUhXIg3",
        "outputId": "290c6d2d-1b91-45d1-8e1c-3fd6ee244919",
        "colab": {
          "base_uri": "https://localhost:8080/",
          "height": 35
        }
      },
      "source": [
        "mark_negation(nltk_train_tokens[0])"
      ],
      "execution_count": 36,
      "outputs": [
        {
          "output_type": "execute_result",
          "data": {
            "text/plain": [
              "['disgusted', 'soldier', 'out', 'of', 'money', 'and', 'time']"
            ]
          },
          "metadata": {
            "tags": []
          },
          "execution_count": 36
        }
      ]
    },
    {
      "cell_type": "code",
      "metadata": {
        "id": "EOYkc3AwXYRI",
        "outputId": "db37ca99-3345-4939-b7a7-ba63ef41ef98",
        "colab": {
          "base_uri": "https://localhost:8080/",
          "height": 35
        }
      },
      "source": [
        "mark_negation(\"i didn't NEED another wiimote ...\".split())"
      ],
      "execution_count": 37,
      "outputs": [
        {
          "output_type": "execute_result",
          "data": {
            "text/plain": [
              "['i', \"didn't\", 'NEED_NEG', 'another_NEG', 'wiimote_NEG', '..._NEG']"
            ]
          },
          "metadata": {
            "tags": []
          },
          "execution_count": 37
        }
      ]
    },
    {
      "cell_type": "code",
      "metadata": {
        "id": "BocrqP0xZFaA",
        "outputId": "a064cd00-a8ba-4c73-e5cf-8b7f29f0d6d7",
        "colab": {
          "base_uri": "https://localhost:8080/",
          "height": 35
        }
      },
      "source": [
        "mark_negation(list(map(lambda s: [snowball_stemmer.stem(word) for word in s], [\"i didn't NEED another wiimote ...\".split()])))"
      ],
      "execution_count": 38,
      "outputs": [
        {
          "output_type": "execute_result",
          "data": {
            "text/plain": [
              "[['i', \"didn't\", 'need_NEG', 'anoth_NEG', 'wiimot_NEG', '..._NEG']]"
            ]
          },
          "metadata": {
            "tags": []
          },
          "execution_count": 38
        }
      ]
    },
    {
      "cell_type": "code",
      "metadata": {
        "id": "r5a_9FIbYDj2"
      },
      "source": [
        "# Apparently the mark_negation only accepts \"sentences\" as arguments and we can used the stemmed \n",
        "\n",
        "nltk_train_tokens_neg = [mark_negation(sentence_tokenized) for sentence_tokenized in nltk_train_stem] "
      ],
      "execution_count": 57,
      "outputs": []
    },
    {
      "cell_type": "markdown",
      "metadata": {
        "id": "5x40qlcyaDvS"
      },
      "source": [
        "nltk works diffrently apparently, it hiddens some stuff but at the same time, because of how we have learnt to use these things it seems more complicated.\n",
        "\n",
        "Following: https://www.nltk.org/howto/sentiment.html\n",
        "\n",
        "We can get the bigrams but nltk has methods to get a readble version or more usable version of them. \n",
        "\n",
        "Which means we have methods like [`bigram_collocation_feats`](https://www.nltk.org/api/nltk.sentiment.html#nltk.sentiment.sentiment_analyzer.SentimentAnalyzer.bigram_collocation_feats)\n",
        "\n",
        "\n",
        "That when given a document they return a list of [\"Features\"](https://www.nltk.org/howto/featstruct.html) a feature is an object that nltk classifiers can use, is not a number in a matrix but an object that nltk classifiers can use.\n",
        "\n",
        "Granted `bigram_collocation_feats` does a lot of things:\n",
        "\n",
        "- Finds the bigrams in each document.\n",
        "- Adds a frequency filter.\n",
        "- And uses pointwise mutual information to add an score to each bigram.\n",
        "\n",
        "In one the markdown cell before, I mentioned that some papers or articles make note of using `Mutual Information` the first one described its usage to remove stopwords and others to construct a new feature to the training set.\n",
        "\n",
        "I still don't know what mutual information is\n",
        "\n",
        "- https://www.youtube.com/watch?v=U9h1xkNELvY\n",
        "- https://machinelearningmastery.com/information-gain-and-mutual-information/\n",
        "\n",
        "But so far it seems to provide a **measure of their dependence.** and then it makes sense to have that number as a feature.\n",
        "\n",
        "NOTE: Before starting working in the previous cell, I didn't knew nltk had a method calculate Mutual Information, let alone add that as a feature, there's a [howto page for collocations](https://www.nltk.org/howto/collocations.html) where they explain how to use it.\n",
        "\n",
        "Apparently the `bigram_collocation_feats` just wraps the usage described in the collocations how to. \n"
      ]
    },
    {
      "cell_type": "code",
      "metadata": {
        "id": "wMeAbft2ZnHU"
      },
      "source": [
        "from nltk.sentiment.sentiment_analyzer import SentimentAnalyzer"
      ],
      "execution_count": 58,
      "outputs": []
    },
    {
      "cell_type": "code",
      "metadata": {
        "id": "AU9AKXpvdYne"
      },
      "source": [
        "sentiment_analyzer = SentimentAnalyzer()"
      ],
      "execution_count": 59,
      "outputs": []
    },
    {
      "cell_type": "code",
      "metadata": {
        "id": "WW9rJckHdjP7"
      },
      "source": [
        "nltk_train_token_neg_bigram_feat = sentiment_analyzer.bigram_collocation_feats(nltk_train_tokens_neg,  min_freq=3, top_n=500)"
      ],
      "execution_count": 60,
      "outputs": []
    },
    {
      "cell_type": "code",
      "metadata": {
        "id": "BimLph2rdq83",
        "outputId": "791838ac-73dc-4a1e-b7c0-1adffdc2ebe5",
        "colab": {
          "base_uri": "https://localhost:8080/",
          "height": 195
        }
      },
      "source": [
        "nltk_train_token_neg_bigram_feat[:10]"
      ],
      "execution_count": 61,
      "outputs": [
        {
          "output_type": "execute_result",
          "data": {
            "text/plain": [
              "[('cooki', 'cutter'),\n",
              " ('ninja_NEG', 'gaiden_NEG'),\n",
              " ('splinter_NEG', 'cell_NEG'),\n",
              " ('obscen_NEG', 'lyric_NEG'),\n",
              " ('cate', 'archer'),\n",
              " ('lm', 'punk'),\n",
              " ('sexual', 'escapad'),\n",
              " ('tomb_NEG', 'raider_NEG'),\n",
              " ('indiana', 'jone'),\n",
              " ('kung', 'fu')]"
            ]
          },
          "metadata": {
            "tags": []
          },
          "execution_count": 61
        }
      ]
    },
    {
      "cell_type": "code",
      "metadata": {
        "id": "fyHOx8G37eJI",
        "outputId": "9964d353-94dd-4616-a871-e25bf4b93e6a",
        "colab": {
          "base_uri": "https://localhost:8080/",
          "height": 35
        }
      },
      "source": [
        "len(nltk_train_token_neg_bigram_feat)"
      ],
      "execution_count": 62,
      "outputs": [
        {
          "output_type": "execute_result",
          "data": {
            "text/plain": [
              "500"
            ]
          },
          "metadata": {
            "tags": []
          },
          "execution_count": 62
        }
      ]
    },
    {
      "cell_type": "markdown",
      "metadata": {
        "id": "m-ywGi1WgAas"
      },
      "source": [
        "Extracting features from bigrams.\n",
        "\n",
        "The sentiment analyzer has methods to extract [nltk features](https://www.nltk.org/api/nltk.sentiment.html#nltk.sentiment.sentiment_analyzer.SentimentAnalyzer.add_feat_extractor) from documents.\n",
        "\n",
        "But they first should be added as a list, like adding a `sklearn object` to a `Pipeline` is just that nltk doesn't have something similar so they rely on stuff like this, callbacks."
      ]
    },
    {
      "cell_type": "code",
      "metadata": {
        "id": "tYecj78KhRUv"
      },
      "source": [
        "from nltk.sentiment.util import extract_bigram_feats"
      ],
      "execution_count": 63,
      "outputs": []
    },
    {
      "cell_type": "code",
      "metadata": {
        "id": "piEseSq1fv6R"
      },
      "source": [
        "sentiment_analyzer.add_feat_extractor(extract_bigram_feats, bigrams=nltk_train_token_neg_bigram_feat)"
      ],
      "execution_count": 64,
      "outputs": []
    },
    {
      "cell_type": "markdown",
      "metadata": {
        "id": "UkR9ULm2hvCR"
      },
      "source": [
        "Applying features:\n",
        "\n",
        "- https://www.nltk.org/api/nltk.sentiment.html#nltk.sentiment.sentiment_analyzer.SentimentAnalyzer.apply_features\n",
        "\n",
        "\n",
        "We can pass an argument `labeled` as `True` to the sentiment analyzer `apply_features` method so the training set has a label to pass to the predictor."
      ]
    },
    {
      "cell_type": "code",
      "metadata": {
        "id": "4NAJXgXYk9F1"
      },
      "source": [
        "def nltk_process_document_for_feature(document):\n",
        "  tokens = tweet_tokenizer.tokenize(document)\n",
        "  return mark_negation([snowball_stemmer.stem(word) for word in tokens])"
      ],
      "execution_count": 70,
      "outputs": []
    },
    {
      "cell_type": "code",
      "metadata": {
        "id": "yHunObPSg2FW"
      },
      "source": [
        "nltk_bigram_training_docs = [(nltk_process_document_for_feature(value[0]), value[2]) for value in train_df.values]"
      ],
      "execution_count": 71,
      "outputs": []
    },
    {
      "cell_type": "code",
      "metadata": {
        "id": "Y-CYR3dckBjY",
        "outputId": "9fce29b6-3228-4685-8627-7c96c44d3bf4",
        "colab": {
          "base_uri": "https://localhost:8080/",
          "height": 1000
        }
      },
      "source": [
        "nltk_bigram_training_docs[0]"
      ],
      "execution_count": 72,
      "outputs": [
        {
          "output_type": "execute_result",
          "data": {
            "text/plain": [
              "(['i',\n",
              "  'am',\n",
              "  'staion',\n",
              "  'in',\n",
              "  'afghanistan',\n",
              "  'right',\n",
              "  'now',\n",
              "  'we',\n",
              "  'dont',\n",
              "  'have_NEG',\n",
              "  'much_NEG',\n",
              "  'for_NEG',\n",
              "  'entertain_NEG',\n",
              "  'so_NEG',\n",
              "  'a_NEG',\n",
              "  'laptop_NEG',\n",
              "  'is_NEG',\n",
              "  'pretti_NEG',\n",
              "  'much_NEG',\n",
              "  'it_NEG',\n",
              "  '.',\n",
              "  'i',\n",
              "  'bought',\n",
              "  'this',\n",
              "  'game',\n",
              "  'as',\n",
              "  'ive',\n",
              "  'been',\n",
              "  'play',\n",
              "  'the',\n",
              "  'total',\n",
              "  'war',\n",
              "  'seri',\n",
              "  'from',\n",
              "  'the',\n",
              "  'start',\n",
              "  '.',\n",
              "  'i',\n",
              "  'havent',\n",
              "  'been_NEG',\n",
              "  'one_NEG',\n",
              "  'to_NEG',\n",
              "  'complain_NEG',\n",
              "  'about_NEG',\n",
              "  'drm_NEG',\n",
              "  'or_NEG',\n",
              "  'securum_NEG',\n",
              "  'at_NEG',\n",
              "  'all_NEG',\n",
              "  'but_NEG',\n",
              "  'this_NEG',\n",
              "  'steam_NEG',\n",
              "  'is_NEG',\n",
              "  'ridicul_NEG',\n",
              "  'i_NEG',\n",
              "  'have_NEG',\n",
              "  'the_NEG',\n",
              "  'disk_NEG',\n",
              "  'and_NEG',\n",
              "  'it_NEG',\n",
              "  'tell_NEG',\n",
              "  'me_NEG',\n",
              "  'itll_NEG',\n",
              "  'be_NEG',\n",
              "  'four_NEG',\n",
              "  'hour_NEG',\n",
              "  'to_NEG',\n",
              "  'download_NEG',\n",
              "  'the_NEG',\n",
              "  'game_NEG',\n",
              "  'from_NEG',\n",
              "  'steam_NEG',\n",
              "  'server_NEG',\n",
              "  'i_NEG',\n",
              "  'went_NEG',\n",
              "  'to_NEG',\n",
              "  'forum_NEG',\n",
              "  'and_NEG',\n",
              "  'found_NEG',\n",
              "  'this_NEG',\n",
              "  'fix_NEG',\n",
              "  'to_NEG',\n",
              "  'problem_NEG',\n",
              "  'which_NEG',\n",
              "  'did_NEG',\n",
              "  'not_NEG',\n",
              "  'work_NEG',\n",
              "  'so_NEG',\n",
              "  'now_NEG',\n",
              "  'i_NEG',\n",
              "  'have_NEG',\n",
              "  'i_NEG',\n",
              "  '50_NEG',\n",
              "  '$_NEG',\n",
              "  'game_NEG',\n",
              "  'that_NEG',\n",
              "  'mayb_NEG',\n",
              "  'can_NEG',\n",
              "  'be_NEG',\n",
              "  'better_NEG',\n",
              "  'use_NEG',\n",
              "  'as_NEG',\n",
              "  'cup_NEG',\n",
              "  'holder_NEG',\n",
              "  ',_NEG',\n",
              "  'thx_NEG',\n",
              "  'sega_NEG',\n",
              "  'for_NEG',\n",
              "  'wast_NEG',\n",
              "  'my_NEG',\n",
              "  'time_NEG',\n",
              "  'and_NEG',\n",
              "  'money_NEG',\n",
              "  '.',\n",
              "  'these',\n",
              "  'softwar',\n",
              "  'compani',\n",
              "  'realli',\n",
              "  'need',\n",
              "  'someon',\n",
              "  'regul',\n",
              "  'the',\n",
              "  'product',\n",
              "  'they',\n",
              "  'releas',\n",
              "  'as',\n",
              "  'they',\n",
              "  'think',\n",
              "  'they',\n",
              "  'can',\n",
              "  'live',\n",
              "  'off',\n",
              "  'of',\n",
              "  'past',\n",
              "  'success',\n",
              "  'and',\n",
              "  'just',\n",
              "  'releas',\n",
              "  'garbag',\n",
              "  'i',\n",
              "  'wont',\n",
              "  'be_NEG',\n",
              "  'buy_NEG',\n",
              "  'anymor_NEG',\n",
              "  'of_NEG',\n",
              "  'ur_NEG',\n",
              "  'product_NEG',\n",
              "  '..._NEG'],\n",
              " 1)"
            ]
          },
          "metadata": {
            "tags": []
          },
          "execution_count": 72
        }
      ]
    },
    {
      "cell_type": "code",
      "metadata": {
        "id": "qiRcM6EIkR1j"
      },
      "source": [
        "nltk_bigram_test_docs = [(nltk_process_document_for_feature(value[0]), value[2]) for value in test_df.values]"
      ],
      "execution_count": 73,
      "outputs": []
    },
    {
      "cell_type": "code",
      "metadata": {
        "id": "BFxwDJ0okXuG",
        "outputId": "53a73db0-5576-495e-e33e-470d93d4513e",
        "colab": {
          "base_uri": "https://localhost:8080/",
          "height": 1000
        }
      },
      "source": [
        "nltk_bigram_test_docs[0]"
      ],
      "execution_count": 74,
      "outputs": [
        {
          "output_type": "execute_result",
          "data": {
            "text/plain": [
              "(['+',\n",
              "  'graphic',\n",
              "  '+',\n",
              "  'gameplay',\n",
              "  '+',\n",
              "  'item',\n",
              "  '+',\n",
              "  'charact',\n",
              "  'custom',\n",
              "  '-',\n",
              "  'higher',\n",
              "  'difficulti',\n",
              "  'are',\n",
              "  'not',\n",
              "  'fun_NEG',\n",
              "  'at_NEG',\n",
              "  'all_NEG',\n",
              "  '-_NEG',\n",
              "  'had_NEG',\n",
              "  'my_NEG',\n",
              "  'account_NEG',\n",
              "  'hackedthi_NEG',\n",
              "  'game_NEG',\n",
              "  'start_NEG',\n",
              "  'off_NEG',\n",
              "  'as_NEG',\n",
              "  'a_NEG',\n",
              "  'ton_NEG',\n",
              "  'of_NEG',\n",
              "  'fun_NEG',\n",
              "  'if_NEG',\n",
              "  'you_NEG',\n",
              "  'are_NEG',\n",
              "  'into_NEG',\n",
              "  'these_NEG',\n",
              "  'sort_NEG',\n",
              "  'of_NEG',\n",
              "  'mindless_NEG',\n",
              "  'click_NEG',\n",
              "  'and_NEG',\n",
              "  'kill_NEG',\n",
              "  'and_NEG',\n",
              "  'pick_NEG',\n",
              "  'up_NEG',\n",
              "  'item_NEG',\n",
              "  'game_NEG',\n",
              "  ',_NEG',\n",
              "  'especi_NEG',\n",
              "  'if_NEG',\n",
              "  'your_NEG',\n",
              "  'friend_NEG',\n",
              "  'are_NEG',\n",
              "  'into_NEG',\n",
              "  'it_NEG',\n",
              "  'also_NEG',\n",
              "  '.',\n",
              "  'where',\n",
              "  'it',\n",
              "  'valu',\n",
              "  'drop',\n",
              "  'off',\n",
              "  'is',\n",
              "  'after',\n",
              "  'about',\n",
              "  'the',\n",
              "  '2nd',\n",
              "  'or',\n",
              "  '3rd',\n",
              "  'playthrough',\n",
              "  'and',\n",
              "  'you',\n",
              "  'are',\n",
              "  'on',\n",
              "  'the',\n",
              "  'harder',\n",
              "  'difficulti',\n",
              "  'level',\n",
              "  ',',\n",
              "  'it',\n",
              "  'just',\n",
              "  'stop',\n",
              "  'be',\n",
              "  'fun',\n",
              "  ',',\n",
              "  'to',\n",
              "  'me',\n",
              "  'at',\n",
              "  'least',\n",
              "  '.',\n",
              "  'i',\n",
              "  \"don't\",\n",
              "  'enjoy_NEG',\n",
              "  'die_NEG',\n",
              "  'repeat_NEG',\n",
              "  ',_NEG',\n",
              "  'fight_NEG',\n",
              "  'critter_NEG',\n",
              "  'for_NEG',\n",
              "  'hour_NEG',\n",
              "  'that_NEG',\n",
              "  'took_NEG',\n",
              "  'you_NEG',\n",
              "  'minut_NEG',\n",
              "  'previous_NEG',\n",
              "  ',_NEG',\n",
              "  'and_NEG',\n",
              "  'then_NEG',\n",
              "  'receiv_NEG',\n",
              "  'what_NEG',\n",
              "  'might_NEG',\n",
              "  'end_NEG',\n",
              "  'up_NEG',\n",
              "  'be_NEG',\n",
              "  'a_NEG',\n",
              "  'total_NEG',\n",
              "  'worthless_NEG',\n",
              "  'item_NEG',\n",
              "  '.',\n",
              "  'also',\n",
              "  ',',\n",
              "  'long',\n",
              "  'after',\n",
              "  'i',\n",
              "  'quit',\n",
              "  'play',\n",
              "  ',',\n",
              "  'i',\n",
              "  'got',\n",
              "  'an',\n",
              "  'email',\n",
              "  'from',\n",
              "  'blizzard',\n",
              "  'say',\n",
              "  'my',\n",
              "  'account',\n",
              "  'had',\n",
              "  'been',\n",
              "  'hack',\n",
              "  ',',\n",
              "  'which',\n",
              "  'fortun',\n",
              "  'i',\n",
              "  \"didn't\",\n",
              "  'care_NEG',\n",
              "  'about_NEG',\n",
              "  '.',\n",
              "  'all',\n",
              "  'of',\n",
              "  'my',\n",
              "  'friend',\n",
              "  'play',\n",
              "  'this',\n",
              "  'game',\n",
              "  'got',\n",
              "  'similar',\n",
              "  'email',\n",
              "  '.',\n",
              "  'this',\n",
              "  'was',\n",
              "  'about',\n",
              "  'a',\n",
              "  'year',\n",
              "  'after',\n",
              "  'the',\n",
              "  'game',\n",
              "  'came',\n",
              "  'out',\n",
              "  'though',\n",
              "  ',',\n",
              "  'perhap',\n",
              "  'all',\n",
              "  'that',\n",
              "  'has',\n",
              "  'been',\n",
              "  'work',\n",
              "  'out',\n",
              "  'now',\n",
              "  '.'],\n",
              " 0)"
            ]
          },
          "metadata": {
            "tags": []
          },
          "execution_count": 74
        }
      ]
    },
    {
      "cell_type": "code",
      "metadata": {
        "id": "J6QWms0Fi4aa"
      },
      "source": [
        "nltk_bigram_training_features = sentiment_analyzer.apply_features(nltk_bigram_training_docs, labeled=True)"
      ],
      "execution_count": 75,
      "outputs": []
    },
    {
      "cell_type": "code",
      "metadata": {
        "id": "uSVYnOrYjHmk"
      },
      "source": [
        "nltk_bigram_test_features = sentiment_analyzer.apply_features(nltk_bigram_test_docs, labeled=True)"
      ],
      "execution_count": 76,
      "outputs": []
    },
    {
      "cell_type": "code",
      "metadata": {
        "id": "UVVXyN40kd7M",
        "outputId": "0d14a4ae-2fb6-4abe-c110-7281027ddf30",
        "colab": {
          "base_uri": "https://localhost:8080/",
          "height": 35
        }
      },
      "source": [
        "len(nltk_bigram_training_features[0][0])"
      ],
      "execution_count": 77,
      "outputs": [
        {
          "output_type": "execute_result",
          "data": {
            "text/plain": [
              "500"
            ]
          },
          "metadata": {
            "tags": []
          },
          "execution_count": 77
        }
      ]
    },
    {
      "cell_type": "code",
      "metadata": {
        "id": "FV_iforpnO7g"
      },
      "source": [
        "from nltk.classify import NaiveBayesClassifier"
      ],
      "execution_count": 184,
      "outputs": []
    },
    {
      "cell_type": "code",
      "metadata": {
        "id": "h9nCQarHnf1T",
        "outputId": "5a1850a6-af24-4d54-b23c-9cdb40da8683",
        "colab": {
          "base_uri": "https://localhost:8080/",
          "height": 35
        }
      },
      "source": [
        "# nltk takes a lot to complete, it may work better with less features.\n",
        "\n",
        "classifier = sentiment_analyzer.train(NaiveBayesClassifier.train, nltk_bigram_training_features[:200 ])"
      ],
      "execution_count": 419,
      "outputs": [
        {
          "output_type": "stream",
          "text": [
            "Training classifier\n"
          ],
          "name": "stdout"
        }
      ]
    },
    {
      "cell_type": "code",
      "metadata": {
        "id": "NRQdW2G0nviW",
        "outputId": "240aac64-3c1f-468b-f46a-5711fed1af05",
        "colab": {
          "base_uri": "https://localhost:8080/",
          "height": 159
        }
      },
      "source": [
        "sentiment_analyzer.evaluate(nltk_bigram_test_features[:10])"
      ],
      "execution_count": 421,
      "outputs": [
        {
          "output_type": "stream",
          "text": [
            "Evaluating NaiveBayesClassifier results...\n"
          ],
          "name": "stdout"
        },
        {
          "output_type": "execute_result",
          "data": {
            "text/plain": [
              "{'Accuracy': 0.7,\n",
              " 'F-measure [0]': 0,\n",
              " 'F-measure [1]': 0.823529411764706,\n",
              " 'Precision [0]': 0.0,\n",
              " 'Precision [1]': 0.7777777777777778,\n",
              " 'Recall [0]': 0.0,\n",
              " 'Recall [1]': 0.875}"
            ]
          },
          "metadata": {
            "tags": []
          },
          "execution_count": 421
        }
      ]
    },
    {
      "cell_type": "code",
      "metadata": {
        "id": "vTwgK51r7YrK"
      },
      "source": [
        "from nltk.classify import MaxentClassifier"
      ],
      "execution_count": 57,
      "outputs": []
    },
    {
      "cell_type": "code",
      "metadata": {
        "id": "Ta_3ULLh7jee",
        "outputId": "aa273fa5-1a96-45d1-ce7a-c1c8c7011831",
        "colab": {
          "base_uri": "https://localhost:8080/",
          "height": 35
        }
      },
      "source": [
        "len(nltk_bigram_training_features)"
      ],
      "execution_count": 58,
      "outputs": [
        {
          "output_type": "execute_result",
          "data": {
            "text/plain": [
              "38496"
            ]
          },
          "metadata": {
            "tags": []
          },
          "execution_count": 58
        }
      ]
    },
    {
      "cell_type": "code",
      "metadata": {
        "id": "gfQBARwC7fLP",
        "outputId": "2278a0ca-1a67-45fd-9f03-8783e7a298f2",
        "colab": {
          "base_uri": "https://localhost:8080/",
          "height": 1000
        }
      },
      "source": [
        "classifier_nltk_maxent = sentiment_analyzer.train(MaxentClassifier.train, nltk_bigram_training_features[:100], max_iter=10)"
      ],
      "execution_count": null,
      "outputs": [
        {
          "output_type": "stream",
          "text": [
            "Training classifier\n",
            "  ==> Training (100 iterations)\n",
            "\n",
            "      Iteration    Log Likelihood    Accuracy\n",
            "      ---------------------------------------\n",
            "             1          -0.69315        0.670\n",
            "             2          -0.60288        0.780\n",
            "             3          -0.53499        0.780\n",
            "             4          -0.48579        0.780\n",
            "             5          -0.44940        0.780\n",
            "             6          -0.42184        0.780\n",
            "             7          -0.40066        0.780\n",
            "             8          -0.38426        0.780\n",
            "             9          -0.37155        0.780\n",
            "            10          -0.36170        0.780\n",
            "            11          -0.35409        0.780\n",
            "            12          -0.34823        0.780\n",
            "            13          -0.34374        0.780\n",
            "            14          -0.34029        0.780\n",
            "            15          -0.33766        0.780\n",
            "            16          -0.33565        0.780\n",
            "            17          -0.33412        0.780\n",
            "            18          -0.33296        0.780\n",
            "            19          -0.33208        0.780\n",
            "            20          -0.33140        0.780\n",
            "            21          -0.33089        0.780\n",
            "            22          -0.33051        0.780\n",
            "            23          -0.33021        0.780\n",
            "            24          -0.32999        0.780\n",
            "            25          -0.32982        0.780\n",
            "            26          -0.32969        0.780\n",
            "            27          -0.32960        0.780\n",
            "            28          -0.32952        0.780\n",
            "            29          -0.32947        0.780\n",
            "            30          -0.32943        0.780\n",
            "            31          -0.32939        0.780\n",
            "            32          -0.32937        0.780\n",
            "            33          -0.32935        0.780\n",
            "            34          -0.32934        0.780\n",
            "            35          -0.32933        0.780\n",
            "            36          -0.32932        0.780\n",
            "            37          -0.32931        0.780\n",
            "            38          -0.32931        0.780\n",
            "            39          -0.32930        0.780\n",
            "            40          -0.32930        0.780\n",
            "            41          -0.32930        0.780\n",
            "            42          -0.32930        0.780\n",
            "            43          -0.32930        0.780\n",
            "            44          -0.32930        0.780\n",
            "            45          -0.32930        0.780\n",
            "            46          -0.32930        0.780\n",
            "            47          -0.32930        0.780\n",
            "            48          -0.32929        0.780\n",
            "            49          -0.32929        0.780\n",
            "            50          -0.32929        0.780\n",
            "            51          -0.32929        0.780\n",
            "            52          -0.32929        0.780\n",
            "            53          -0.32929        0.780\n",
            "            54          -0.32929        0.780\n",
            "            55          -0.32929        0.780\n",
            "            56          -0.32929        0.780\n",
            "            57          -0.32929        0.780\n",
            "            58          -0.32929        0.780\n",
            "            59          -0.32929        0.780\n",
            "            60          -0.32929        0.780\n",
            "            61          -0.32929        0.780\n",
            "            62          -0.32929        0.780\n",
            "            63          -0.32929        0.780\n",
            "            64          -0.32929        0.780\n",
            "            65          -0.32929        0.780\n",
            "            66          -0.32929        0.780\n",
            "            67          -0.32929        0.780\n",
            "            68          -0.32929        0.780\n",
            "            69          -0.32929        0.780\n",
            "            70          -0.32929        0.780\n",
            "            71          -0.32929        0.780\n"
          ],
          "name": "stdout"
        }
      ]
    },
    {
      "cell_type": "code",
      "metadata": {
        "id": "Hff3tn_ucuTN",
        "outputId": "12d2b20b-4565-4788-d820-3dfaec20f7a4",
        "colab": {
          "base_uri": "https://localhost:8080/",
          "height": 171
        }
      },
      "source": [
        "sentiment_analyzer.evaluate(nltk_bigram_test_features[:10])"
      ],
      "execution_count": 1,
      "outputs": [
        {
          "output_type": "error",
          "ename": "NameError",
          "evalue": "ignored",
          "traceback": [
            "\u001b[0;31m---------------------------------------------------------------------------\u001b[0m",
            "\u001b[0;31mNameError\u001b[0m                                 Traceback (most recent call last)",
            "\u001b[0;32m<ipython-input-1-ca5dc0c14ced>\u001b[0m in \u001b[0;36m<module>\u001b[0;34m()\u001b[0m\n\u001b[0;32m----> 1\u001b[0;31m \u001b[0msentiment_analyzer\u001b[0m\u001b[0;34m.\u001b[0m\u001b[0mevaluate\u001b[0m\u001b[0;34m(\u001b[0m\u001b[0mnltk_bigram_test_features\u001b[0m\u001b[0;34m[\u001b[0m\u001b[0;34m:\u001b[0m\u001b[0;36m10\u001b[0m\u001b[0;34m]\u001b[0m\u001b[0;34m)\u001b[0m\u001b[0;34m\u001b[0m\u001b[0;34m\u001b[0m\u001b[0m\n\u001b[0m",
            "\u001b[0;31mNameError\u001b[0m: name 'sentiment_analyzer' is not defined"
          ]
        }
      ]
    },
    {
      "cell_type": "markdown",
      "metadata": {
        "id": "pTr09lC4gJfG"
      },
      "source": [
        "NLTK classifiers are extermely slow, but the library provides a wrapper for sklearn algorithms.\n",
        "\n",
        "- https://www.nltk.org/api/nltk.classify.html#module-nltk.classify.scikitlearn\n",
        "\n",
        "And they mention there that LogisticRegression is equivelent to MaxEnt? Which is interesting.\n",
        "\n",
        "In theory we can use the same features built with nltk and run those with sklearn it may be faster.\n",
        "\n"
      ]
    },
    {
      "cell_type": "markdown",
      "metadata": {
        "id": "VFLEBsfX4hPn"
      },
      "source": [
        "We are going to try and use sklearn with the nltk feature we have constructued."
      ]
    },
    {
      "cell_type": "code",
      "metadata": {
        "id": "WYL3qxbD4zlP"
      },
      "source": [
        "from nltk.classify.scikitlearn import SklearnClassifier\n",
        "from sklearn.feature_extraction.text import TfidfTransformer\n",
        "from sklearn.feature_selection import SelectKBest, chi2\n",
        "from sklearn.svm import LinearSVC\n",
        "from sklearn.pipeline import Pipeline\n",
        "\n",
        "\n",
        "nltk_pipeline = Pipeline([('tfidf', TfidfTransformer()),\n",
        "                     ('chi2', SelectKBest(chi2, k=1000)),\n",
        "                     ('clf', LinearSVC())])\n",
        "nltkclassif = SklearnClassifier(nltk_pipeline)"
      ],
      "execution_count": 79,
      "outputs": []
    },
    {
      "cell_type": "code",
      "metadata": {
        "id": "_WH3quF96sbY",
        "outputId": "740c6c0e-ba66-4f9c-9516-e7cdb8ab6059",
        "colab": {
          "base_uri": "https://localhost:8080/",
          "height": 35
        }
      },
      "source": [
        "classifier_nltk_sklearn = sentiment_analyzer.train(nltkclassif.train, nltk_bigram_training_features)"
      ],
      "execution_count": null,
      "outputs": [
        {
          "output_type": "stream",
          "text": [
            "Training classifier\n"
          ],
          "name": "stdout"
        }
      ]
    },
    {
      "cell_type": "code",
      "metadata": {
        "id": "ztZ9rKr962bx"
      },
      "source": [
        ""
      ],
      "execution_count": null,
      "outputs": []
    },
    {
      "cell_type": "markdown",
      "metadata": {
        "id": "OJnDthnG9y5Q"
      },
      "source": [
        "## Trying the pipeline with SVC on neg marked tokens."
      ]
    },
    {
      "cell_type": "code",
      "metadata": {
        "id": "LEmMQvpG93h2",
        "outputId": "b48ed906-8c2d-4a9f-98a9-783606aaa649",
        "colab": {
          "base_uri": "https://localhost:8080/",
          "height": 35
        }
      },
      "source": [
        "len(nltk_train_tokens_neg)"
      ],
      "execution_count": 189,
      "outputs": [
        {
          "output_type": "execute_result",
          "data": {
            "text/plain": [
              "38496"
            ]
          },
          "metadata": {
            "tags": []
          },
          "execution_count": 189
        }
      ]
    },
    {
      "cell_type": "code",
      "metadata": {
        "id": "UMP7QMxf97XK",
        "outputId": "8cac4ed5-e230-4dfe-c634-150fbf998f26",
        "colab": {
          "base_uri": "https://localhost:8080/",
          "height": 35
        }
      },
      "source": [
        "train_df['target'].count()"
      ],
      "execution_count": 191,
      "outputs": [
        {
          "output_type": "execute_result",
          "data": {
            "text/plain": [
              "38496"
            ]
          },
          "metadata": {
            "tags": []
          },
          "execution_count": 191
        }
      ]
    },
    {
      "cell_type": "code",
      "metadata": {
        "id": "17sUEr8t_av3"
      },
      "source": [
        "def nltk_tokenizer_neg(document):\n",
        "  tokens = tweet_tokenizer.tokenize(document)\n",
        "  return mark_negation([snowball_stemmer.stem(word) for word in tokens])"
      ],
      "execution_count": 195,
      "outputs": []
    },
    {
      "cell_type": "code",
      "metadata": {
        "id": "OVRu_1E9-xSs",
        "outputId": "bd3edfbf-e878-42a9-d2c1-5aa4a9c86a05",
        "colab": {
          "base_uri": "https://localhost:8080/",
          "height": 983
        }
      },
      "source": [
        "lnsvc_pipeline, lnsvc_grid = metrics_for_classifier(SGDClassifier(), train_df['summary'], train_df['target'], test_df['summary'], test_df['target'], tokenizer=nltk_tokenizer_neg)"
      ],
      "execution_count": 203,
      "outputs": [
        {
          "output_type": "stream",
          "text": [
            "Fitting 5 folds for each of 6 candidates, totalling 30 fits\n"
          ],
          "name": "stdout"
        },
        {
          "output_type": "stream",
          "text": [
            "[Parallel(n_jobs=-1)]: Using backend LokyBackend with 2 concurrent workers.\n",
            "/usr/local/lib/python3.6/dist-packages/joblib/externals/loky/process_executor.py:691: UserWarning: A worker stopped while some jobs were given to the executor. This can be caused by a too short worker timeout or by a memory leak.\n",
            "  \"timeout or by a memory leak.\", UserWarning\n",
            "[Parallel(n_jobs=-1)]: Done  30 out of  30 | elapsed:  6.8min finished\n"
          ],
          "name": "stderr"
        },
        {
          "output_type": "stream",
          "text": [
            "f1 Score: 0.796598247969819\n",
            "accuracy score: 0.669472152950956\n",
            "precision score: 0.6698569738681579\n",
            "recall_score: 0.9824921135646688\n"
          ],
          "name": "stdout"
        },
        {
          "output_type": "display_data",
          "data": {
            "image/png": "[encoded data removed]",
            "text/plain": [
              "<Figure size 432x288 with 2 Axes>"
            ]
          },
          "metadata": {
            "tags": [],
            "needs_background": "light"
          }
        },
        {
          "output_type": "display_data",
          "data": {
            "image/png": "[encoded data removed]",
            "text/plain": [
              "<Figure size 432x288 with 1 Axes>"
            ]
          },
          "metadata": {
            "tags": [],
            "needs_background": "light"
          }
        },
        {
          "output_type": "display_data",
          "data": {
            "image/png": "[encoded data removed]",
            "text/plain": [
              "<Figure size 432x288 with 1 Axes>"
            ]
          },
          "metadata": {
            "tags": [],
            "needs_background": "light"
          }
        }
      ]
    },
    {
      "cell_type": "code",
      "metadata": {
        "id": "kxVMaSq0Ecsr",
        "outputId": "12fb2c6f-e422-4038-8455-a109c3e4b347",
        "colab": {
          "base_uri": "https://localhost:8080/",
          "height": 70
        }
      },
      "source": [
        "from nltk.tokenize import word_tokenize\n",
        "nltk.download('punkt')\n"
      ],
      "execution_count": 213,
      "outputs": [
        {
          "output_type": "stream",
          "text": [
            "[nltk_data] Downloading package punkt to /root/nltk_data...\n",
            "[nltk_data]   Unzipping tokenizers/punkt.zip.\n"
          ],
          "name": "stdout"
        },
        {
          "output_type": "execute_result",
          "data": {
            "text/plain": [
              "True"
            ]
          },
          "metadata": {
            "tags": []
          },
          "execution_count": 213
        }
      ]
    },
    {
      "cell_type": "markdown",
      "metadata": {
        "id": "tYwwuPF-7eGU"
      },
      "source": [
        "## Conclusion\n",
        "\n",
        "Our final model got a small increase to 66% accuracy. \n",
        "\n",
        "However according to this [document](http://sentiment.christopherpotts.net/) and others papers referenced before there is more work that we could do:\n",
        "\n",
        "#### Removing stopwords with low Mutual information\n",
        "\n",
        "> \n",
        "\n",
        "This can be achieved using a similar technique to the one we saw earlier with [bigram_collocation_feats](https://www.nltk.org/_modules/nltk/sentiment/sentiment_analyzer.html#SentimentAnalyzer.bigram_collocation_feats)\n",
        "\n",
        "Following this guide on [collocations](https://www.nltk.org/howto/collocations.html) we can filter low scoring words using\n",
        "\n",
        "```python\n",
        "bigram_measures = nltk.collocations.BigramAssocMeasures()\n",
        "pmi_stopwords = [bigram for bigram, score in bigram_finder.score_ngrams(bigram_measures.raw_freq) if score <= min_score]\n",
        "```\n",
        "\n",
        "#### Constructing a new feature for sentence polarity based on a lexicon.\n",
        "\n",
        "- http://sentiment.christopherpotts.net/lexicons.html\n",
        "\n",
        "I've seen this being mentioned before and seen people recommend lexicon like this one: https://github.com/7PartidasDigital/AnaText/blob/master/datos/diccionarios/sentimientos.txt for spanish tasks.\n",
        "\n",
        "The idea here was to build a new feature using for example: [Bing Liu's Opinion Lexicon](http://sentiment.christopherpotts.net/lexicons.html#opinionlexicon)\n",
        "\n",
        "nltk provides a module with that lexicon: \n",
        "\n",
        "```python\n",
        "from nltk.corpus import opinion_lexicon\n",
        "```\n",
        "\n",
        "And we could have written a feature with just a number or a boolean for how much of positive words or negative words each sentence had.\n",
        "\n",
        "As an example we can look a this code from the nltk.utils [`demo_liu_hu_lexicon`](https://www.nltk.org/_modules/nltk/sentiment/util.html#demo_liu_hu_lexicon)\n",
        "\n",
        "An idea would have been to:\n",
        "\n",
        "```python\n",
        "positive_words = sum([ token for token in tokens if token in opinion_lexicon.positive() ])\n",
        "\n",
        "negative_words = len([ token for token in tokens if token in opinion_lexicon.negative() ])\n",
        "\n",
        "feature_for_sentence = ((positive_words - negative_words) / len(tokens))\n",
        "```\n",
        "\n",
        "Which of course may not work but it's a simple idea.\n",
        "\n",
        "\n",
        "The same page mentions [`SentiWordNet`](http://sentiment.christopherpotts.net/lexicons.html#sentiwordnet) to get an score for each word:\n",
        "\n",
        "- https://www.nltk.org/howto/sentiwordnet.html\n",
        "\n",
        "```\n",
        "breakdown = swn.senti_synset('breakdown.n.03')\n",
        "breakdown.obj_score()\n",
        "```\n",
        "\n",
        "But that's a more complicated approach that requires the usage of wordnet.\n",
        "\n",
        "Then it goes to describe \"Vector Space\" and \"Context dependency\" but is my understandting that word2vec, doc2vec already solves that."
      ]
    },
    {
      "cell_type": "markdown",
      "metadata": {
        "id": "SyuTMw0tC_JR"
      },
      "source": [
        "We get an small increase when negating values.\n",
        "\n",
        "## Using word2vec from genism.\n",
        "\n",
        "- https://radimrehurek.com/gensim/auto_examples/tutorials/run_word2vec.html"
      ]
    },
    {
      "cell_type": "code",
      "metadata": {
        "id": "3ThaAQOcK6nm"
      },
      "source": [
        "from gensim.models import Word2Vec"
      ],
      "execution_count": 252,
      "outputs": []
    },
    {
      "cell_type": "code",
      "metadata": {
        "id": "Vlh-g4rzSQdI"
      },
      "source": [
        "from gensim import utils"
      ],
      "execution_count": 324,
      "outputs": []
    },
    {
      "cell_type": "code",
      "metadata": {
        "id": "Vzj4u185TEDn"
      },
      "source": [
        "sentences = [ utils.simple_preprocess(sentence)  for sentence in train_df['summary']  ]"
      ],
      "execution_count": 332,
      "outputs": []
    },
    {
      "cell_type": "code",
      "metadata": {
        "id": "uWmUxSDkXgT8"
      },
      "source": [
        "all_words = sentiment_analyzer.all_words(sentences)"
      ],
      "execution_count": 375,
      "outputs": []
    },
    {
      "cell_type": "code",
      "metadata": {
        "id": "NJWGL2T-XkP2",
        "outputId": "77b74045-5178-407b-f536-31b751601dba",
        "colab": {
          "base_uri": "https://localhost:8080/",
          "height": 373
        }
      },
      "source": [
        "all_words[:20]"
      ],
      "execution_count": 376,
      "outputs": [
        {
          "output_type": "execute_result",
          "data": {
            "text/plain": [
              "['disgusted',\n",
              " 'soldier',\n",
              " 'out',\n",
              " 'of',\n",
              " 'money',\n",
              " 'and',\n",
              " 'time',\n",
              " 'ton',\n",
              " 'of',\n",
              " 'fun',\n",
              " 'but',\n",
              " 'very',\n",
              " 'very',\n",
              " 'short',\n",
              " 'once',\n",
              " 'again',\n",
              " 'and',\n",
              " 'alpha',\n",
              " 'player',\n",
              " 'disposable']"
            ]
          },
          "metadata": {
            "tags": []
          },
          "execution_count": 376
        }
      ]
    },
    {
      "cell_type": "code",
      "metadata": {
        "id": "biENdvdKSiQG"
      },
      "source": [
        "w2v_model = Word2Vec(sentences=sentences)"
      ],
      "execution_count": 407,
      "outputs": []
    },
    {
      "cell_type": "code",
      "metadata": {
        "id": "roVbhAomS0OU"
      },
      "source": [
        "from gensim.sklearn_api import W2VTransformer"
      ],
      "execution_count": 379,
      "outputs": []
    },
    {
      "cell_type": "code",
      "metadata": {
        "id": "f8mpfcOKT4bG"
      },
      "source": [
        "from gensim.test.utils import common_texts"
      ],
      "execution_count": 380,
      "outputs": []
    },
    {
      "cell_type": "code",
      "metadata": {
        "id": "5mrOzcikT5-U"
      },
      "source": [
        "w2v_transformer = W2VTransformer()"
      ],
      "execution_count": 381,
      "outputs": []
    },
    {
      "cell_type": "code",
      "metadata": {
        "id": "D6I0IwRiT8-D",
        "outputId": "7cbbda26-4fd4-4651-b700-51f444416bf3",
        "colab": {
          "base_uri": "https://localhost:8080/",
          "height": 106
        }
      },
      "source": [
        "w2v_transformer.fit(all_words)"
      ],
      "execution_count": 382,
      "outputs": [
        {
          "output_type": "execute_result",
          "data": {
            "text/plain": [
              "W2VTransformer(alpha=0.025, batch_words=10000, cbow_mean=1,\n",
              "               hashfxn=<built-in function hash>, hs=0, iter=5,\n",
              "               max_vocab_size=None, min_alpha=0.0001, min_count=5, negative=5,\n",
              "               null_word=0, sample=0.001, seed=1, sg=0, size=100,\n",
              "               sorted_vocab=1, trim_rule=None, window=5, workers=3)"
            ]
          },
          "metadata": {
            "tags": []
          },
          "execution_count": 382
        }
      ]
    },
    {
      "cell_type": "code",
      "metadata": {
        "id": "8HG8d1LCYTX2"
      },
      "source": [
        "# the w2vtransformer doesn't work as announced."
      ],
      "execution_count": 387,
      "outputs": []
    },
    {
      "cell_type": "code",
      "metadata": {
        "id": "i-aujL7GYaOn",
        "outputId": "1cdfa962-431d-4f21-e42c-ef89c8fdb1a9",
        "colab": {
          "base_uri": "https://localhost:8080/",
          "height": 73
        }
      },
      "source": [
        "word_vectors = [w2v_model[w] for w in all_words if w in w2v_model.wv.vocab.keys()]"
      ],
      "execution_count": 409,
      "outputs": [
        {
          "output_type": "stream",
          "text": [
            "/usr/local/lib/python3.6/dist-packages/ipykernel_launcher.py:1: DeprecationWarning: Call to deprecated `__getitem__` (Method will be removed in 4.0.0, use self.wv.__getitem__() instead).\n",
            "  \"\"\"Entry point for launching an IPython kernel.\n"
          ],
          "name": "stderr"
        }
      ]
    },
    {
      "cell_type": "code",
      "metadata": {
        "id": "aE6pLJO-Ztx3"
      },
      "source": [
        "w2v_features_df = pd.DataFrame(dict(zip( w2v_model.wv.vocab.keys(), word_vectors ))).T"
      ],
      "execution_count": 413,
      "outputs": []
    },
    {
      "cell_type": "code",
      "metadata": {
        "id": "lKUgzYVTZ5Qm",
        "outputId": "3083899c-448a-4ee6-cc01-becca42b5e67",
        "colab": {
          "base_uri": "https://localhost:8080/",
          "height": 255
        }
      },
      "source": [
        "w2v_features_df.head()"
      ],
      "execution_count": 416,
      "outputs": [
        {
          "output_type": "execute_result",
          "data": {
            "text/html": [
              "<div>\n",
              "<style scoped>\n",
              "    .dataframe tbody tr th:only-of-type {\n",
              "        vertical-align: middle;\n",
              "    }\n",
              "\n",
              "    .dataframe tbody tr th {\n",
              "        vertical-align: top;\n",
              "    }\n",
              "\n",
              "    .dataframe thead th {\n",
              "        text-align: right;\n",
              "    }\n",
              "</style>\n",
              "<table border=\"1\" class=\"dataframe\">\n",
              "  <thead>\n",
              "    <tr style=\"text-align: right;\">\n",
              "      <th></th>\n",
              "      <th>0</th>\n",
              "      <th>1</th>\n",
              "      <th>2</th>\n",
              "      <th>3</th>\n",
              "      <th>4</th>\n",
              "      <th>5</th>\n",
              "      <th>6</th>\n",
              "      <th>7</th>\n",
              "      <th>8</th>\n",
              "      <th>9</th>\n",
              "      <th>10</th>\n",
              "      <th>11</th>\n",
              "      <th>12</th>\n",
              "      <th>13</th>\n",
              "      <th>14</th>\n",
              "      <th>15</th>\n",
              "      <th>16</th>\n",
              "      <th>17</th>\n",
              "      <th>18</th>\n",
              "      <th>19</th>\n",
              "      <th>20</th>\n",
              "      <th>21</th>\n",
              "      <th>22</th>\n",
              "      <th>23</th>\n",
              "      <th>24</th>\n",
              "      <th>25</th>\n",
              "      <th>26</th>\n",
              "      <th>27</th>\n",
              "      <th>28</th>\n",
              "      <th>29</th>\n",
              "      <th>30</th>\n",
              "      <th>31</th>\n",
              "      <th>32</th>\n",
              "      <th>33</th>\n",
              "      <th>34</th>\n",
              "      <th>35</th>\n",
              "      <th>36</th>\n",
              "      <th>37</th>\n",
              "      <th>38</th>\n",
              "      <th>39</th>\n",
              "      <th>...</th>\n",
              "      <th>60</th>\n",
              "      <th>61</th>\n",
              "      <th>62</th>\n",
              "      <th>63</th>\n",
              "      <th>64</th>\n",
              "      <th>65</th>\n",
              "      <th>66</th>\n",
              "      <th>67</th>\n",
              "      <th>68</th>\n",
              "      <th>69</th>\n",
              "      <th>70</th>\n",
              "      <th>71</th>\n",
              "      <th>72</th>\n",
              "      <th>73</th>\n",
              "      <th>74</th>\n",
              "      <th>75</th>\n",
              "      <th>76</th>\n",
              "      <th>77</th>\n",
              "      <th>78</th>\n",
              "      <th>79</th>\n",
              "      <th>80</th>\n",
              "      <th>81</th>\n",
              "      <th>82</th>\n",
              "      <th>83</th>\n",
              "      <th>84</th>\n",
              "      <th>85</th>\n",
              "      <th>86</th>\n",
              "      <th>87</th>\n",
              "      <th>88</th>\n",
              "      <th>89</th>\n",
              "      <th>90</th>\n",
              "      <th>91</th>\n",
              "      <th>92</th>\n",
              "      <th>93</th>\n",
              "      <th>94</th>\n",
              "      <th>95</th>\n",
              "      <th>96</th>\n",
              "      <th>97</th>\n",
              "      <th>98</th>\n",
              "      <th>99</th>\n",
              "    </tr>\n",
              "  </thead>\n",
              "  <tbody>\n",
              "    <tr>\n",
              "      <th>soldier</th>\n",
              "      <td>0.012427</td>\n",
              "      <td>-0.021040</td>\n",
              "      <td>-0.001641</td>\n",
              "      <td>-0.028124</td>\n",
              "      <td>0.030233</td>\n",
              "      <td>-0.010166</td>\n",
              "      <td>0.022986</td>\n",
              "      <td>-0.027435</td>\n",
              "      <td>-0.006615</td>\n",
              "      <td>-0.008105</td>\n",
              "      <td>-0.017471</td>\n",
              "      <td>0.015258</td>\n",
              "      <td>0.000285</td>\n",
              "      <td>-0.003479</td>\n",
              "      <td>-0.031303</td>\n",
              "      <td>0.073676</td>\n",
              "      <td>0.024596</td>\n",
              "      <td>-0.031655</td>\n",
              "      <td>-0.031987</td>\n",
              "      <td>-0.040293</td>\n",
              "      <td>0.017389</td>\n",
              "      <td>-0.075119</td>\n",
              "      <td>0.005072</td>\n",
              "      <td>-0.040154</td>\n",
              "      <td>0.021835</td>\n",
              "      <td>0.025965</td>\n",
              "      <td>0.034446</td>\n",
              "      <td>-0.063713</td>\n",
              "      <td>-0.012731</td>\n",
              "      <td>-0.020478</td>\n",
              "      <td>-0.004408</td>\n",
              "      <td>-0.014929</td>\n",
              "      <td>0.008646</td>\n",
              "      <td>-0.022559</td>\n",
              "      <td>0.013590</td>\n",
              "      <td>0.013994</td>\n",
              "      <td>-0.022726</td>\n",
              "      <td>0.018130</td>\n",
              "      <td>-0.008456</td>\n",
              "      <td>0.017550</td>\n",
              "      <td>...</td>\n",
              "      <td>-0.007904</td>\n",
              "      <td>-0.001907</td>\n",
              "      <td>0.033480</td>\n",
              "      <td>0.010799</td>\n",
              "      <td>0.013396</td>\n",
              "      <td>-0.048502</td>\n",
              "      <td>0.045226</td>\n",
              "      <td>-0.050244</td>\n",
              "      <td>-0.009734</td>\n",
              "      <td>0.029072</td>\n",
              "      <td>-0.014171</td>\n",
              "      <td>-0.018714</td>\n",
              "      <td>0.007592</td>\n",
              "      <td>0.036824</td>\n",
              "      <td>0.082005</td>\n",
              "      <td>-0.014499</td>\n",
              "      <td>-0.016591</td>\n",
              "      <td>0.003550</td>\n",
              "      <td>-0.084942</td>\n",
              "      <td>-0.015485</td>\n",
              "      <td>0.009030</td>\n",
              "      <td>0.003925</td>\n",
              "      <td>0.034572</td>\n",
              "      <td>-0.041831</td>\n",
              "      <td>-0.036921</td>\n",
              "      <td>-0.006196</td>\n",
              "      <td>0.009516</td>\n",
              "      <td>0.046354</td>\n",
              "      <td>-0.071091</td>\n",
              "      <td>-0.057025</td>\n",
              "      <td>-0.020560</td>\n",
              "      <td>0.014350</td>\n",
              "      <td>-0.051512</td>\n",
              "      <td>0.004815</td>\n",
              "      <td>0.056591</td>\n",
              "      <td>0.050714</td>\n",
              "      <td>0.016659</td>\n",
              "      <td>0.007167</td>\n",
              "      <td>0.046281</td>\n",
              "      <td>0.000462</td>\n",
              "    </tr>\n",
              "    <tr>\n",
              "      <th>out</th>\n",
              "      <td>0.352051</td>\n",
              "      <td>-0.391122</td>\n",
              "      <td>0.460698</td>\n",
              "      <td>-0.222140</td>\n",
              "      <td>0.203114</td>\n",
              "      <td>-0.049918</td>\n",
              "      <td>0.209294</td>\n",
              "      <td>-0.189147</td>\n",
              "      <td>0.281183</td>\n",
              "      <td>0.104738</td>\n",
              "      <td>-0.301020</td>\n",
              "      <td>0.169175</td>\n",
              "      <td>-0.253315</td>\n",
              "      <td>-0.136483</td>\n",
              "      <td>0.223068</td>\n",
              "      <td>0.895276</td>\n",
              "      <td>0.443654</td>\n",
              "      <td>-0.051548</td>\n",
              "      <td>-0.093334</td>\n",
              "      <td>0.066918</td>\n",
              "      <td>-0.013240</td>\n",
              "      <td>-0.432004</td>\n",
              "      <td>-0.169187</td>\n",
              "      <td>-0.349552</td>\n",
              "      <td>-0.132511</td>\n",
              "      <td>0.186306</td>\n",
              "      <td>0.317345</td>\n",
              "      <td>-0.672152</td>\n",
              "      <td>-0.128165</td>\n",
              "      <td>-0.209812</td>\n",
              "      <td>0.048552</td>\n",
              "      <td>-0.280919</td>\n",
              "      <td>-0.246128</td>\n",
              "      <td>-0.232318</td>\n",
              "      <td>0.113396</td>\n",
              "      <td>0.322783</td>\n",
              "      <td>-0.560143</td>\n",
              "      <td>-0.185798</td>\n",
              "      <td>-0.063533</td>\n",
              "      <td>0.109836</td>\n",
              "      <td>...</td>\n",
              "      <td>0.015992</td>\n",
              "      <td>0.038850</td>\n",
              "      <td>-0.050570</td>\n",
              "      <td>0.188559</td>\n",
              "      <td>0.286652</td>\n",
              "      <td>-0.353486</td>\n",
              "      <td>0.439853</td>\n",
              "      <td>-0.144156</td>\n",
              "      <td>-0.261601</td>\n",
              "      <td>-0.123872</td>\n",
              "      <td>-0.294641</td>\n",
              "      <td>-0.152754</td>\n",
              "      <td>0.090434</td>\n",
              "      <td>0.118564</td>\n",
              "      <td>0.882968</td>\n",
              "      <td>-0.020178</td>\n",
              "      <td>-0.385606</td>\n",
              "      <td>-0.151459</td>\n",
              "      <td>-0.643987</td>\n",
              "      <td>-0.222465</td>\n",
              "      <td>-0.214773</td>\n",
              "      <td>0.170452</td>\n",
              "      <td>0.461628</td>\n",
              "      <td>-0.115153</td>\n",
              "      <td>-0.337412</td>\n",
              "      <td>0.104112</td>\n",
              "      <td>0.010049</td>\n",
              "      <td>0.391295</td>\n",
              "      <td>-0.339840</td>\n",
              "      <td>-0.565278</td>\n",
              "      <td>-0.208570</td>\n",
              "      <td>0.104623</td>\n",
              "      <td>-0.280439</td>\n",
              "      <td>-0.155793</td>\n",
              "      <td>0.635714</td>\n",
              "      <td>0.192013</td>\n",
              "      <td>-0.232018</td>\n",
              "      <td>0.173537</td>\n",
              "      <td>-0.008878</td>\n",
              "      <td>0.149838</td>\n",
              "    </tr>\n",
              "    <tr>\n",
              "      <th>of</th>\n",
              "      <td>-0.335403</td>\n",
              "      <td>-0.661348</td>\n",
              "      <td>0.089818</td>\n",
              "      <td>-0.378417</td>\n",
              "      <td>0.168122</td>\n",
              "      <td>0.095871</td>\n",
              "      <td>0.622758</td>\n",
              "      <td>-0.414616</td>\n",
              "      <td>0.358626</td>\n",
              "      <td>0.049500</td>\n",
              "      <td>-0.552667</td>\n",
              "      <td>0.093107</td>\n",
              "      <td>-0.134260</td>\n",
              "      <td>-0.353742</td>\n",
              "      <td>0.243156</td>\n",
              "      <td>1.184582</td>\n",
              "      <td>0.347048</td>\n",
              "      <td>0.006669</td>\n",
              "      <td>-0.457597</td>\n",
              "      <td>0.324634</td>\n",
              "      <td>0.016670</td>\n",
              "      <td>-0.610558</td>\n",
              "      <td>-0.212803</td>\n",
              "      <td>-0.707683</td>\n",
              "      <td>-0.450853</td>\n",
              "      <td>0.422124</td>\n",
              "      <td>0.013702</td>\n",
              "      <td>-0.228918</td>\n",
              "      <td>0.042988</td>\n",
              "      <td>-0.415521</td>\n",
              "      <td>-0.406408</td>\n",
              "      <td>-0.370844</td>\n",
              "      <td>-0.291360</td>\n",
              "      <td>-0.235194</td>\n",
              "      <td>-0.178613</td>\n",
              "      <td>0.379633</td>\n",
              "      <td>-1.049007</td>\n",
              "      <td>-0.213755</td>\n",
              "      <td>-0.051010</td>\n",
              "      <td>0.148259</td>\n",
              "      <td>...</td>\n",
              "      <td>-0.256884</td>\n",
              "      <td>0.260091</td>\n",
              "      <td>-0.352341</td>\n",
              "      <td>0.151612</td>\n",
              "      <td>0.665297</td>\n",
              "      <td>0.180314</td>\n",
              "      <td>0.501016</td>\n",
              "      <td>0.228552</td>\n",
              "      <td>-0.599311</td>\n",
              "      <td>-0.030089</td>\n",
              "      <td>-0.409316</td>\n",
              "      <td>-0.428332</td>\n",
              "      <td>-0.080841</td>\n",
              "      <td>0.440615</td>\n",
              "      <td>1.206971</td>\n",
              "      <td>-0.146183</td>\n",
              "      <td>-0.644688</td>\n",
              "      <td>-0.309091</td>\n",
              "      <td>-0.985918</td>\n",
              "      <td>-0.319169</td>\n",
              "      <td>-0.177294</td>\n",
              "      <td>0.196184</td>\n",
              "      <td>0.208735</td>\n",
              "      <td>0.032147</td>\n",
              "      <td>-0.596881</td>\n",
              "      <td>-0.127575</td>\n",
              "      <td>-0.033607</td>\n",
              "      <td>0.239473</td>\n",
              "      <td>-0.361652</td>\n",
              "      <td>-0.712609</td>\n",
              "      <td>0.109810</td>\n",
              "      <td>0.082269</td>\n",
              "      <td>-0.046407</td>\n",
              "      <td>-0.581036</td>\n",
              "      <td>0.885902</td>\n",
              "      <td>0.436555</td>\n",
              "      <td>-0.050659</td>\n",
              "      <td>0.352983</td>\n",
              "      <td>-0.348653</td>\n",
              "      <td>0.286481</td>\n",
              "    </tr>\n",
              "    <tr>\n",
              "      <th>money</th>\n",
              "      <td>-0.074557</td>\n",
              "      <td>-0.292152</td>\n",
              "      <td>0.237001</td>\n",
              "      <td>-0.538698</td>\n",
              "      <td>0.908903</td>\n",
              "      <td>0.018853</td>\n",
              "      <td>-0.316261</td>\n",
              "      <td>-0.004417</td>\n",
              "      <td>0.534247</td>\n",
              "      <td>-0.297224</td>\n",
              "      <td>0.158222</td>\n",
              "      <td>0.145678</td>\n",
              "      <td>-0.544879</td>\n",
              "      <td>-0.196764</td>\n",
              "      <td>-0.337159</td>\n",
              "      <td>0.664456</td>\n",
              "      <td>0.665512</td>\n",
              "      <td>-0.249397</td>\n",
              "      <td>-0.237096</td>\n",
              "      <td>-0.661380</td>\n",
              "      <td>0.353811</td>\n",
              "      <td>-0.283883</td>\n",
              "      <td>-0.207156</td>\n",
              "      <td>-0.654794</td>\n",
              "      <td>0.358721</td>\n",
              "      <td>-0.110296</td>\n",
              "      <td>0.334213</td>\n",
              "      <td>-1.274185</td>\n",
              "      <td>-0.917515</td>\n",
              "      <td>0.600416</td>\n",
              "      <td>0.035046</td>\n",
              "      <td>-0.715976</td>\n",
              "      <td>-0.707295</td>\n",
              "      <td>-0.328686</td>\n",
              "      <td>-0.215749</td>\n",
              "      <td>-0.204761</td>\n",
              "      <td>-0.717951</td>\n",
              "      <td>0.679363</td>\n",
              "      <td>-0.652736</td>\n",
              "      <td>-0.142382</td>\n",
              "      <td>...</td>\n",
              "      <td>0.889552</td>\n",
              "      <td>0.032763</td>\n",
              "      <td>0.237062</td>\n",
              "      <td>-0.240390</td>\n",
              "      <td>0.212602</td>\n",
              "      <td>-0.271243</td>\n",
              "      <td>-0.013440</td>\n",
              "      <td>-0.198767</td>\n",
              "      <td>-0.174381</td>\n",
              "      <td>-0.064418</td>\n",
              "      <td>-0.239018</td>\n",
              "      <td>0.394273</td>\n",
              "      <td>-0.173166</td>\n",
              "      <td>1.081897</td>\n",
              "      <td>1.357668</td>\n",
              "      <td>-0.403669</td>\n",
              "      <td>0.135023</td>\n",
              "      <td>-0.008180</td>\n",
              "      <td>-1.212606</td>\n",
              "      <td>-0.866381</td>\n",
              "      <td>-0.528580</td>\n",
              "      <td>-1.025915</td>\n",
              "      <td>-0.192493</td>\n",
              "      <td>-0.434511</td>\n",
              "      <td>-0.546979</td>\n",
              "      <td>-0.533052</td>\n",
              "      <td>0.019967</td>\n",
              "      <td>0.351214</td>\n",
              "      <td>-0.827233</td>\n",
              "      <td>-1.057357</td>\n",
              "      <td>-0.240416</td>\n",
              "      <td>-0.004294</td>\n",
              "      <td>-0.846345</td>\n",
              "      <td>-0.416795</td>\n",
              "      <td>1.297433</td>\n",
              "      <td>0.332203</td>\n",
              "      <td>0.362050</td>\n",
              "      <td>0.508517</td>\n",
              "      <td>-0.013292</td>\n",
              "      <td>0.215092</td>\n",
              "    </tr>\n",
              "    <tr>\n",
              "      <th>and</th>\n",
              "      <td>-0.351039</td>\n",
              "      <td>-0.302419</td>\n",
              "      <td>-0.498572</td>\n",
              "      <td>-0.169981</td>\n",
              "      <td>0.026365</td>\n",
              "      <td>-0.087609</td>\n",
              "      <td>0.378639</td>\n",
              "      <td>-0.335920</td>\n",
              "      <td>-0.212545</td>\n",
              "      <td>-0.270010</td>\n",
              "      <td>-0.245193</td>\n",
              "      <td>0.167319</td>\n",
              "      <td>0.157615</td>\n",
              "      <td>-0.224760</td>\n",
              "      <td>-0.422875</td>\n",
              "      <td>0.608323</td>\n",
              "      <td>0.036611</td>\n",
              "      <td>-0.208644</td>\n",
              "      <td>-0.381307</td>\n",
              "      <td>-0.304663</td>\n",
              "      <td>0.378987</td>\n",
              "      <td>-0.720220</td>\n",
              "      <td>0.099631</td>\n",
              "      <td>-0.471432</td>\n",
              "      <td>0.159242</td>\n",
              "      <td>0.266375</td>\n",
              "      <td>0.084842</td>\n",
              "      <td>0.137713</td>\n",
              "      <td>0.153099</td>\n",
              "      <td>-0.245374</td>\n",
              "      <td>-0.248807</td>\n",
              "      <td>-0.122392</td>\n",
              "      <td>0.232665</td>\n",
              "      <td>-0.234681</td>\n",
              "      <td>-0.021409</td>\n",
              "      <td>0.024810</td>\n",
              "      <td>-0.333561</td>\n",
              "      <td>0.140172</td>\n",
              "      <td>0.049411</td>\n",
              "      <td>0.294465</td>\n",
              "      <td>...</td>\n",
              "      <td>-0.176653</td>\n",
              "      <td>0.059760</td>\n",
              "      <td>0.186266</td>\n",
              "      <td>0.221958</td>\n",
              "      <td>0.133088</td>\n",
              "      <td>-0.130037</td>\n",
              "      <td>0.556815</td>\n",
              "      <td>-0.179944</td>\n",
              "      <td>-0.313887</td>\n",
              "      <td>0.455108</td>\n",
              "      <td>-0.138869</td>\n",
              "      <td>-0.195615</td>\n",
              "      <td>-0.101718</td>\n",
              "      <td>0.374981</td>\n",
              "      <td>0.632420</td>\n",
              "      <td>-0.128381</td>\n",
              "      <td>-0.188105</td>\n",
              "      <td>-0.131952</td>\n",
              "      <td>-0.707197</td>\n",
              "      <td>-0.200348</td>\n",
              "      <td>0.128428</td>\n",
              "      <td>0.196758</td>\n",
              "      <td>0.190842</td>\n",
              "      <td>-0.003360</td>\n",
              "      <td>-0.252291</td>\n",
              "      <td>-0.215936</td>\n",
              "      <td>0.107745</td>\n",
              "      <td>0.050283</td>\n",
              "      <td>-0.498541</td>\n",
              "      <td>-0.441616</td>\n",
              "      <td>-0.004958</td>\n",
              "      <td>0.262848</td>\n",
              "      <td>-0.275260</td>\n",
              "      <td>0.005140</td>\n",
              "      <td>0.536459</td>\n",
              "      <td>0.465118</td>\n",
              "      <td>0.546255</td>\n",
              "      <td>0.257273</td>\n",
              "      <td>0.469502</td>\n",
              "      <td>-0.080326</td>\n",
              "    </tr>\n",
              "  </tbody>\n",
              "</table>\n",
              "<p>5 rows × 100 columns</p>\n",
              "</div>"
            ],
            "text/plain": [
              "               0         1         2   ...        97        98        99\n",
              "soldier  0.012427 -0.021040 -0.001641  ...  0.007167  0.046281  0.000462\n",
              "out      0.352051 -0.391122  0.460698  ...  0.173537 -0.008878  0.149838\n",
              "of      -0.335403 -0.661348  0.089818  ...  0.352983 -0.348653  0.286481\n",
              "money   -0.074557 -0.292152  0.237001  ...  0.508517 -0.013292  0.215092\n",
              "and     -0.351039 -0.302419 -0.498572  ...  0.257273  0.469502 -0.080326\n",
              "\n",
              "[5 rows x 100 columns]"
            ]
          },
          "metadata": {
            "tags": []
          },
          "execution_count": 416
        }
      ]
    },
    {
      "cell_type": "code",
      "metadata": {
        "id": "ahFlabUaaHok"
      },
      "source": [
        "w2v_sgdc_all = SGDClassifier()"
      ],
      "execution_count": 417,
      "outputs": []
    },
    {
      "cell_type": "code",
      "metadata": {
        "id": "EZ30crxhagP9",
        "outputId": "d7edf1ce-1c31-43c5-b70d-5a764d0bc6d5",
        "colab": {
          "base_uri": "https://localhost:8080/",
          "height": 319
        }
      },
      "source": [
        "w2v_sgdc_all.fit(w2v_features_df, train_df['target'])"
      ],
      "execution_count": 418,
      "outputs": [
        {
          "output_type": "error",
          "ename": "ValueError",
          "evalue": "ignored",
          "traceback": [
            "\u001b[0;31m---------------------------------------------------------------------------\u001b[0m",
            "\u001b[0;31mValueError\u001b[0m                                Traceback (most recent call last)",
            "\u001b[0;32m<ipython-input-418-284f33386073>\u001b[0m in \u001b[0;36m<module>\u001b[0;34m()\u001b[0m\n\u001b[0;32m----> 1\u001b[0;31m \u001b[0mw2v_sgdc_all\u001b[0m\u001b[0;34m.\u001b[0m\u001b[0mfit\u001b[0m\u001b[0;34m(\u001b[0m\u001b[0mw2v_features_df\u001b[0m\u001b[0;34m,\u001b[0m \u001b[0mtrain_df\u001b[0m\u001b[0;34m[\u001b[0m\u001b[0;34m'target'\u001b[0m\u001b[0;34m]\u001b[0m\u001b[0;34m)\u001b[0m\u001b[0;34m\u001b[0m\u001b[0;34m\u001b[0m\u001b[0m\n\u001b[0m",
            "\u001b[0;32m/usr/local/lib/python3.6/dist-packages/sklearn/linear_model/_stochastic_gradient.py\u001b[0m in \u001b[0;36mfit\u001b[0;34m(self, X, y, coef_init, intercept_init, sample_weight)\u001b[0m\n\u001b[1;32m    709\u001b[0m                          \u001b[0mloss\u001b[0m\u001b[0;34m=\u001b[0m\u001b[0mself\u001b[0m\u001b[0;34m.\u001b[0m\u001b[0mloss\u001b[0m\u001b[0;34m,\u001b[0m \u001b[0mlearning_rate\u001b[0m\u001b[0;34m=\u001b[0m\u001b[0mself\u001b[0m\u001b[0;34m.\u001b[0m\u001b[0mlearning_rate\u001b[0m\u001b[0;34m,\u001b[0m\u001b[0;34m\u001b[0m\u001b[0;34m\u001b[0m\u001b[0m\n\u001b[1;32m    710\u001b[0m                          \u001b[0mcoef_init\u001b[0m\u001b[0;34m=\u001b[0m\u001b[0mcoef_init\u001b[0m\u001b[0;34m,\u001b[0m \u001b[0mintercept_init\u001b[0m\u001b[0;34m=\u001b[0m\u001b[0mintercept_init\u001b[0m\u001b[0;34m,\u001b[0m\u001b[0;34m\u001b[0m\u001b[0;34m\u001b[0m\u001b[0m\n\u001b[0;32m--> 711\u001b[0;31m                          sample_weight=sample_weight)\n\u001b[0m\u001b[1;32m    712\u001b[0m \u001b[0;34m\u001b[0m\u001b[0m\n\u001b[1;32m    713\u001b[0m \u001b[0;34m\u001b[0m\u001b[0m\n",
            "\u001b[0;32m/usr/local/lib/python3.6/dist-packages/sklearn/linear_model/_stochastic_gradient.py\u001b[0m in \u001b[0;36m_fit\u001b[0;34m(self, X, y, alpha, C, loss, learning_rate, coef_init, intercept_init, sample_weight)\u001b[0m\n\u001b[1;32m    523\u001b[0m \u001b[0;34m\u001b[0m\u001b[0m\n\u001b[1;32m    524\u001b[0m         X, y = check_X_y(X, y, 'csr', dtype=np.float64, order=\"C\",\n\u001b[0;32m--> 525\u001b[0;31m                          accept_large_sparse=False)\n\u001b[0m\u001b[1;32m    526\u001b[0m \u001b[0;34m\u001b[0m\u001b[0m\n\u001b[1;32m    527\u001b[0m         \u001b[0;31m# labels can be encoded as float, int, or string literals\u001b[0m\u001b[0;34m\u001b[0m\u001b[0;34m\u001b[0m\u001b[0;34m\u001b[0m\u001b[0m\n",
            "\u001b[0;32m/usr/local/lib/python3.6/dist-packages/sklearn/utils/validation.py\u001b[0m in \u001b[0;36mcheck_X_y\u001b[0;34m(X, y, accept_sparse, accept_large_sparse, dtype, order, copy, force_all_finite, ensure_2d, allow_nd, multi_output, ensure_min_samples, ensure_min_features, y_numeric, warn_on_dtype, estimator)\u001b[0m\n\u001b[1;32m    763\u001b[0m         \u001b[0my\u001b[0m \u001b[0;34m=\u001b[0m \u001b[0my\u001b[0m\u001b[0;34m.\u001b[0m\u001b[0mastype\u001b[0m\u001b[0;34m(\u001b[0m\u001b[0mnp\u001b[0m\u001b[0;34m.\u001b[0m\u001b[0mfloat64\u001b[0m\u001b[0;34m)\u001b[0m\u001b[0;34m\u001b[0m\u001b[0;34m\u001b[0m\u001b[0m\n\u001b[1;32m    764\u001b[0m \u001b[0;34m\u001b[0m\u001b[0m\n\u001b[0;32m--> 765\u001b[0;31m     \u001b[0mcheck_consistent_length\u001b[0m\u001b[0;34m(\u001b[0m\u001b[0mX\u001b[0m\u001b[0;34m,\u001b[0m \u001b[0my\u001b[0m\u001b[0;34m)\u001b[0m\u001b[0;34m\u001b[0m\u001b[0;34m\u001b[0m\u001b[0m\n\u001b[0m\u001b[1;32m    766\u001b[0m \u001b[0;34m\u001b[0m\u001b[0m\n\u001b[1;32m    767\u001b[0m     \u001b[0;32mreturn\u001b[0m \u001b[0mX\u001b[0m\u001b[0;34m,\u001b[0m \u001b[0my\u001b[0m\u001b[0;34m\u001b[0m\u001b[0;34m\u001b[0m\u001b[0m\n",
            "\u001b[0;32m/usr/local/lib/python3.6/dist-packages/sklearn/utils/validation.py\u001b[0m in \u001b[0;36mcheck_consistent_length\u001b[0;34m(*arrays)\u001b[0m\n\u001b[1;32m    210\u001b[0m     \u001b[0;32mif\u001b[0m \u001b[0mlen\u001b[0m\u001b[0;34m(\u001b[0m\u001b[0muniques\u001b[0m\u001b[0;34m)\u001b[0m \u001b[0;34m>\u001b[0m \u001b[0;36m1\u001b[0m\u001b[0;34m:\u001b[0m\u001b[0;34m\u001b[0m\u001b[0;34m\u001b[0m\u001b[0m\n\u001b[1;32m    211\u001b[0m         raise ValueError(\"Found input variables with inconsistent numbers of\"\n\u001b[0;32m--> 212\u001b[0;31m                          \" samples: %r\" % [int(l) for l in lengths])\n\u001b[0m\u001b[1;32m    213\u001b[0m \u001b[0;34m\u001b[0m\u001b[0m\n\u001b[1;32m    214\u001b[0m \u001b[0;34m\u001b[0m\u001b[0m\n",
            "\u001b[0;31mValueError\u001b[0m: Found input variables with inconsistent numbers of samples: [3237, 38496]"
          ]
        }
      ]
    },
    {
      "cell_type": "code",
      "metadata": {
        "id": "vXisE7fxamIB"
      },
      "source": [
        ""
      ],
      "execution_count": null,
      "outputs": []
    }
  ]
}